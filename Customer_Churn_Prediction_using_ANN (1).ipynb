{
  "nbformat": 4,
  "nbformat_minor": 0,
  "metadata": {
    "colab": {
      "name": "Customer Churn Prediction using ANN",
      "provenance": [],
      "collapsed_sections": []
    },
    "kernelspec": {
      "name": "python3",
      "display_name": "Python 3"
    },
    "language_info": {
      "name": "python"
    }
  },
  "cells": [
    {
      "cell_type": "markdown",
      "source": [
        "## Introduction\n",
        "Churn prediction is probably one of the most important applications of data science in the commercial sector. The thing which makes it popular is that its effects are more tangible to comprehend and it plays a major factor in the overall profits earned by the business."
      ],
      "metadata": {
        "id": "PzWN6-44yghz"
      }
    },
    {
      "cell_type": "markdown",
      "source": [
        "### What exactly is Churn Prediction?\n",
        "Churn is defined in business terms as ‘when a client cancels a subscription to a service they have been using.’ A common example is people cancelling Spotify/Netflix subscriptions. So, Churn Prediction is essentially predicting which clients are most likely to cancel a subscription i.e ‘leave a company’ based on their usage of the service.\n",
        "\n",
        "From a company point of view, it is necessary to gain this information because acquiring new customers is often arduous and costlier than retaining old ones. Hence, the insights gained from Churn Prediction helps them to focus more on the customers that are at a high risk of leaving.\n",
        "\n",
        "The output in the case of Churn prediction is a simple yes or a no. That makes it a classification problem where you have to predict 1 if the customer is likely to churn and 0 otherwise."
      ],
      "metadata": {
        "id": "XhAk0pkPzGV1"
      }
    },
    {
      "cell_type": "markdown",
      "source": [
        "gender\n",
        "Whether the customer is a male or a female\n",
        "\n",
        "SeniorCitizen\n",
        "Whether the customer is a senior citizen or not (1, 0)\n",
        "\n",
        "Partner\n",
        "Whether the customer has a partner or not (Yes, No)\n",
        "\n",
        "Dependents\n",
        "Whether the customer has dependents or not (Yes, No)\n",
        "\n",
        "tenure\n",
        "Number of months the customer has stayed with the company\n",
        "\n",
        "PhoneService\n",
        "Whether the customer has a phone service or not (Yes, No)\n",
        "\n",
        "MultipleLines\n",
        "Whether the customer has multiple lines or not (Yes, No, No phone service)\n",
        "\n",
        "InternetService\n",
        "Customer’s internet service provider (DSL, Fiber optic, No)\n",
        "\n",
        "OnlineSecurity\n",
        "Whether the customer has online security or not (Yes, No, No internet service)\n",
        "\n",
        "OnlineBackup\n",
        "Whether the customer has online backup or not (Yes, No, No internet service)\n",
        "\n",
        "DeviceProtection\n",
        "Whether the customer has device protection or not (Yes, No, No internet service)\n",
        "\n",
        "TechSupport\n",
        "Whether the customer has tech support or not (Yes, No, No internet service)\n",
        "\n",
        "StreamingTV\n",
        "Whether the customer has streaming TV or not (Yes, No, No internet service)\n",
        "\n",
        "StreamingMovies\n",
        "Whether the customer has streaming movies or not (Yes, No, No internet service)\n",
        "\n",
        "Contract\n",
        "The contract term of the customer (Month-to-month, One year, Two year)\n",
        "\n",
        "PaperlessBilling\n",
        "Whether the customer has paperless billing or not (Yes, No)\n",
        "\n",
        "PaymentMethod\n",
        "The customer’s payment method (Electronic check, Mailed check, Bank transfer (automatic), Credit card (automatic))\n",
        "\n",
        "MonthlyCharges\n",
        "The amount charged to the customer monthly\n",
        "\n",
        "TotalCharges\n",
        "The total amount charged to the customer\n",
        "\n",
        "Churn\n",
        "Whether the customer churned or not (Yes or No)\n",
        "\n"
      ],
      "metadata": {
        "id": "gTAakG1ktm4o"
      }
    },
    {
      "cell_type": "code",
      "execution_count": 7,
      "metadata": {
        "id": "_EkA3rtK3Izw"
      },
      "outputs": [],
      "source": [
        "import numpy as np\n",
        "import pandas as pd\n",
        "import matplotlib.pyplot as plt\n",
        "import seaborn as sns\n",
        "%matplotlib inline\n",
        "import warnings\n",
        "warnings.filterwarnings('ignore')"
      ]
    },
    {
      "cell_type": "code",
      "source": [
        "df=pd.read_csv('/content/WA_Fn-UseC_-Telco-Customer-Churn.csv')\n",
        "df.head(10)"
      ],
      "metadata": {
        "colab": {
          "base_uri": "https://localhost:8080/",
          "height": 600
        },
        "id": "bFhhFHGb404h",
        "outputId": "9b3d09bc-6ec9-47b0-9355-664c01f9e5b9"
      },
      "execution_count": 8,
      "outputs": [
        {
          "output_type": "execute_result",
          "data": {
            "text/html": [
              "\n",
              "  <div id=\"df-a48064f5-b625-46e7-ac4d-0d4a3a91e4e9\">\n",
              "    <div class=\"colab-df-container\">\n",
              "      <div>\n",
              "<style scoped>\n",
              "    .dataframe tbody tr th:only-of-type {\n",
              "        vertical-align: middle;\n",
              "    }\n",
              "\n",
              "    .dataframe tbody tr th {\n",
              "        vertical-align: top;\n",
              "    }\n",
              "\n",
              "    .dataframe thead th {\n",
              "        text-align: right;\n",
              "    }\n",
              "</style>\n",
              "<table border=\"1\" class=\"dataframe\">\n",
              "  <thead>\n",
              "    <tr style=\"text-align: right;\">\n",
              "      <th></th>\n",
              "      <th>customerID</th>\n",
              "      <th>gender</th>\n",
              "      <th>SeniorCitizen</th>\n",
              "      <th>Partner</th>\n",
              "      <th>Dependents</th>\n",
              "      <th>tenure</th>\n",
              "      <th>PhoneService</th>\n",
              "      <th>MultipleLines</th>\n",
              "      <th>InternetService</th>\n",
              "      <th>OnlineSecurity</th>\n",
              "      <th>OnlineBackup</th>\n",
              "      <th>DeviceProtection</th>\n",
              "      <th>TechSupport</th>\n",
              "      <th>StreamingTV</th>\n",
              "      <th>StreamingMovies</th>\n",
              "      <th>Contract</th>\n",
              "      <th>PaperlessBilling</th>\n",
              "      <th>PaymentMethod</th>\n",
              "      <th>MonthlyCharges</th>\n",
              "      <th>TotalCharges</th>\n",
              "      <th>Churn</th>\n",
              "    </tr>\n",
              "  </thead>\n",
              "  <tbody>\n",
              "    <tr>\n",
              "      <th>0</th>\n",
              "      <td>7590-VHVEG</td>\n",
              "      <td>Female</td>\n",
              "      <td>0</td>\n",
              "      <td>Yes</td>\n",
              "      <td>No</td>\n",
              "      <td>1</td>\n",
              "      <td>No</td>\n",
              "      <td>No phone service</td>\n",
              "      <td>DSL</td>\n",
              "      <td>No</td>\n",
              "      <td>Yes</td>\n",
              "      <td>No</td>\n",
              "      <td>No</td>\n",
              "      <td>No</td>\n",
              "      <td>No</td>\n",
              "      <td>Month-to-month</td>\n",
              "      <td>Yes</td>\n",
              "      <td>Electronic check</td>\n",
              "      <td>29.85</td>\n",
              "      <td>29.85</td>\n",
              "      <td>No</td>\n",
              "    </tr>\n",
              "    <tr>\n",
              "      <th>1</th>\n",
              "      <td>5575-GNVDE</td>\n",
              "      <td>Male</td>\n",
              "      <td>0</td>\n",
              "      <td>No</td>\n",
              "      <td>No</td>\n",
              "      <td>34</td>\n",
              "      <td>Yes</td>\n",
              "      <td>No</td>\n",
              "      <td>DSL</td>\n",
              "      <td>Yes</td>\n",
              "      <td>No</td>\n",
              "      <td>Yes</td>\n",
              "      <td>No</td>\n",
              "      <td>No</td>\n",
              "      <td>No</td>\n",
              "      <td>One year</td>\n",
              "      <td>No</td>\n",
              "      <td>Mailed check</td>\n",
              "      <td>56.95</td>\n",
              "      <td>1889.5</td>\n",
              "      <td>No</td>\n",
              "    </tr>\n",
              "    <tr>\n",
              "      <th>2</th>\n",
              "      <td>3668-QPYBK</td>\n",
              "      <td>Male</td>\n",
              "      <td>0</td>\n",
              "      <td>No</td>\n",
              "      <td>No</td>\n",
              "      <td>2</td>\n",
              "      <td>Yes</td>\n",
              "      <td>No</td>\n",
              "      <td>DSL</td>\n",
              "      <td>Yes</td>\n",
              "      <td>Yes</td>\n",
              "      <td>No</td>\n",
              "      <td>No</td>\n",
              "      <td>No</td>\n",
              "      <td>No</td>\n",
              "      <td>Month-to-month</td>\n",
              "      <td>Yes</td>\n",
              "      <td>Mailed check</td>\n",
              "      <td>53.85</td>\n",
              "      <td>108.15</td>\n",
              "      <td>Yes</td>\n",
              "    </tr>\n",
              "    <tr>\n",
              "      <th>3</th>\n",
              "      <td>7795-CFOCW</td>\n",
              "      <td>Male</td>\n",
              "      <td>0</td>\n",
              "      <td>No</td>\n",
              "      <td>No</td>\n",
              "      <td>45</td>\n",
              "      <td>No</td>\n",
              "      <td>No phone service</td>\n",
              "      <td>DSL</td>\n",
              "      <td>Yes</td>\n",
              "      <td>No</td>\n",
              "      <td>Yes</td>\n",
              "      <td>Yes</td>\n",
              "      <td>No</td>\n",
              "      <td>No</td>\n",
              "      <td>One year</td>\n",
              "      <td>No</td>\n",
              "      <td>Bank transfer (automatic)</td>\n",
              "      <td>42.30</td>\n",
              "      <td>1840.75</td>\n",
              "      <td>No</td>\n",
              "    </tr>\n",
              "    <tr>\n",
              "      <th>4</th>\n",
              "      <td>9237-HQITU</td>\n",
              "      <td>Female</td>\n",
              "      <td>0</td>\n",
              "      <td>No</td>\n",
              "      <td>No</td>\n",
              "      <td>2</td>\n",
              "      <td>Yes</td>\n",
              "      <td>No</td>\n",
              "      <td>Fiber optic</td>\n",
              "      <td>No</td>\n",
              "      <td>No</td>\n",
              "      <td>No</td>\n",
              "      <td>No</td>\n",
              "      <td>No</td>\n",
              "      <td>No</td>\n",
              "      <td>Month-to-month</td>\n",
              "      <td>Yes</td>\n",
              "      <td>Electronic check</td>\n",
              "      <td>70.70</td>\n",
              "      <td>151.65</td>\n",
              "      <td>Yes</td>\n",
              "    </tr>\n",
              "    <tr>\n",
              "      <th>5</th>\n",
              "      <td>9305-CDSKC</td>\n",
              "      <td>Female</td>\n",
              "      <td>0</td>\n",
              "      <td>No</td>\n",
              "      <td>No</td>\n",
              "      <td>8</td>\n",
              "      <td>Yes</td>\n",
              "      <td>Yes</td>\n",
              "      <td>Fiber optic</td>\n",
              "      <td>No</td>\n",
              "      <td>No</td>\n",
              "      <td>Yes</td>\n",
              "      <td>No</td>\n",
              "      <td>Yes</td>\n",
              "      <td>Yes</td>\n",
              "      <td>Month-to-month</td>\n",
              "      <td>Yes</td>\n",
              "      <td>Electronic check</td>\n",
              "      <td>99.65</td>\n",
              "      <td>820.5</td>\n",
              "      <td>Yes</td>\n",
              "    </tr>\n",
              "    <tr>\n",
              "      <th>6</th>\n",
              "      <td>1452-KIOVK</td>\n",
              "      <td>Male</td>\n",
              "      <td>0</td>\n",
              "      <td>No</td>\n",
              "      <td>Yes</td>\n",
              "      <td>22</td>\n",
              "      <td>Yes</td>\n",
              "      <td>Yes</td>\n",
              "      <td>Fiber optic</td>\n",
              "      <td>No</td>\n",
              "      <td>Yes</td>\n",
              "      <td>No</td>\n",
              "      <td>No</td>\n",
              "      <td>Yes</td>\n",
              "      <td>No</td>\n",
              "      <td>Month-to-month</td>\n",
              "      <td>Yes</td>\n",
              "      <td>Credit card (automatic)</td>\n",
              "      <td>89.10</td>\n",
              "      <td>1949.4</td>\n",
              "      <td>No</td>\n",
              "    </tr>\n",
              "    <tr>\n",
              "      <th>7</th>\n",
              "      <td>6713-OKOMC</td>\n",
              "      <td>Female</td>\n",
              "      <td>0</td>\n",
              "      <td>No</td>\n",
              "      <td>No</td>\n",
              "      <td>10</td>\n",
              "      <td>No</td>\n",
              "      <td>No phone service</td>\n",
              "      <td>DSL</td>\n",
              "      <td>Yes</td>\n",
              "      <td>No</td>\n",
              "      <td>No</td>\n",
              "      <td>No</td>\n",
              "      <td>No</td>\n",
              "      <td>No</td>\n",
              "      <td>Month-to-month</td>\n",
              "      <td>No</td>\n",
              "      <td>Mailed check</td>\n",
              "      <td>29.75</td>\n",
              "      <td>301.9</td>\n",
              "      <td>No</td>\n",
              "    </tr>\n",
              "    <tr>\n",
              "      <th>8</th>\n",
              "      <td>7892-POOKP</td>\n",
              "      <td>Female</td>\n",
              "      <td>0</td>\n",
              "      <td>Yes</td>\n",
              "      <td>No</td>\n",
              "      <td>28</td>\n",
              "      <td>Yes</td>\n",
              "      <td>Yes</td>\n",
              "      <td>Fiber optic</td>\n",
              "      <td>No</td>\n",
              "      <td>No</td>\n",
              "      <td>Yes</td>\n",
              "      <td>Yes</td>\n",
              "      <td>Yes</td>\n",
              "      <td>Yes</td>\n",
              "      <td>Month-to-month</td>\n",
              "      <td>Yes</td>\n",
              "      <td>Electronic check</td>\n",
              "      <td>104.80</td>\n",
              "      <td>3046.05</td>\n",
              "      <td>Yes</td>\n",
              "    </tr>\n",
              "    <tr>\n",
              "      <th>9</th>\n",
              "      <td>6388-TABGU</td>\n",
              "      <td>Male</td>\n",
              "      <td>0</td>\n",
              "      <td>No</td>\n",
              "      <td>Yes</td>\n",
              "      <td>62</td>\n",
              "      <td>Yes</td>\n",
              "      <td>No</td>\n",
              "      <td>DSL</td>\n",
              "      <td>Yes</td>\n",
              "      <td>Yes</td>\n",
              "      <td>No</td>\n",
              "      <td>No</td>\n",
              "      <td>No</td>\n",
              "      <td>No</td>\n",
              "      <td>One year</td>\n",
              "      <td>No</td>\n",
              "      <td>Bank transfer (automatic)</td>\n",
              "      <td>56.15</td>\n",
              "      <td>3487.95</td>\n",
              "      <td>No</td>\n",
              "    </tr>\n",
              "  </tbody>\n",
              "</table>\n",
              "</div>\n",
              "      <button class=\"colab-df-convert\" onclick=\"convertToInteractive('df-a48064f5-b625-46e7-ac4d-0d4a3a91e4e9')\"\n",
              "              title=\"Convert this dataframe to an interactive table.\"\n",
              "              style=\"display:none;\">\n",
              "        \n",
              "  <svg xmlns=\"http://www.w3.org/2000/svg\" height=\"24px\"viewBox=\"0 0 24 24\"\n",
              "       width=\"24px\">\n",
              "    <path d=\"M0 0h24v24H0V0z\" fill=\"none\"/>\n",
              "    <path d=\"M18.56 5.44l.94 2.06.94-2.06 2.06-.94-2.06-.94-.94-2.06-.94 2.06-2.06.94zm-11 1L8.5 8.5l.94-2.06 2.06-.94-2.06-.94L8.5 2.5l-.94 2.06-2.06.94zm10 10l.94 2.06.94-2.06 2.06-.94-2.06-.94-.94-2.06-.94 2.06-2.06.94z\"/><path d=\"M17.41 7.96l-1.37-1.37c-.4-.4-.92-.59-1.43-.59-.52 0-1.04.2-1.43.59L10.3 9.45l-7.72 7.72c-.78.78-.78 2.05 0 2.83L4 21.41c.39.39.9.59 1.41.59.51 0 1.02-.2 1.41-.59l7.78-7.78 2.81-2.81c.8-.78.8-2.07 0-2.86zM5.41 20L4 18.59l7.72-7.72 1.47 1.35L5.41 20z\"/>\n",
              "  </svg>\n",
              "      </button>\n",
              "      \n",
              "  <style>\n",
              "    .colab-df-container {\n",
              "      display:flex;\n",
              "      flex-wrap:wrap;\n",
              "      gap: 12px;\n",
              "    }\n",
              "\n",
              "    .colab-df-convert {\n",
              "      background-color: #E8F0FE;\n",
              "      border: none;\n",
              "      border-radius: 50%;\n",
              "      cursor: pointer;\n",
              "      display: none;\n",
              "      fill: #1967D2;\n",
              "      height: 32px;\n",
              "      padding: 0 0 0 0;\n",
              "      width: 32px;\n",
              "    }\n",
              "\n",
              "    .colab-df-convert:hover {\n",
              "      background-color: #E2EBFA;\n",
              "      box-shadow: 0px 1px 2px rgba(60, 64, 67, 0.3), 0px 1px 3px 1px rgba(60, 64, 67, 0.15);\n",
              "      fill: #174EA6;\n",
              "    }\n",
              "\n",
              "    [theme=dark] .colab-df-convert {\n",
              "      background-color: #3B4455;\n",
              "      fill: #D2E3FC;\n",
              "    }\n",
              "\n",
              "    [theme=dark] .colab-df-convert:hover {\n",
              "      background-color: #434B5C;\n",
              "      box-shadow: 0px 1px 3px 1px rgba(0, 0, 0, 0.15);\n",
              "      filter: drop-shadow(0px 1px 2px rgba(0, 0, 0, 0.3));\n",
              "      fill: #FFFFFF;\n",
              "    }\n",
              "  </style>\n",
              "\n",
              "      <script>\n",
              "        const buttonEl =\n",
              "          document.querySelector('#df-a48064f5-b625-46e7-ac4d-0d4a3a91e4e9 button.colab-df-convert');\n",
              "        buttonEl.style.display =\n",
              "          google.colab.kernel.accessAllowed ? 'block' : 'none';\n",
              "\n",
              "        async function convertToInteractive(key) {\n",
              "          const element = document.querySelector('#df-a48064f5-b625-46e7-ac4d-0d4a3a91e4e9');\n",
              "          const dataTable =\n",
              "            await google.colab.kernel.invokeFunction('convertToInteractive',\n",
              "                                                     [key], {});\n",
              "          if (!dataTable) return;\n",
              "\n",
              "          const docLinkHtml = 'Like what you see? Visit the ' +\n",
              "            '<a target=\"_blank\" href=https://colab.research.google.com/notebooks/data_table.ipynb>data table notebook</a>'\n",
              "            + ' to learn more about interactive tables.';\n",
              "          element.innerHTML = '';\n",
              "          dataTable['output_type'] = 'display_data';\n",
              "          await google.colab.output.renderOutput(dataTable, element);\n",
              "          const docLink = document.createElement('div');\n",
              "          docLink.innerHTML = docLinkHtml;\n",
              "          element.appendChild(docLink);\n",
              "        }\n",
              "      </script>\n",
              "    </div>\n",
              "  </div>\n",
              "  "
            ],
            "text/plain": [
              "   customerID  gender  SeniorCitizen  ... MonthlyCharges TotalCharges  Churn\n",
              "0  7590-VHVEG  Female              0  ...          29.85        29.85     No\n",
              "1  5575-GNVDE    Male              0  ...          56.95       1889.5     No\n",
              "2  3668-QPYBK    Male              0  ...          53.85       108.15    Yes\n",
              "3  7795-CFOCW    Male              0  ...          42.30      1840.75     No\n",
              "4  9237-HQITU  Female              0  ...          70.70       151.65    Yes\n",
              "5  9305-CDSKC  Female              0  ...          99.65        820.5    Yes\n",
              "6  1452-KIOVK    Male              0  ...          89.10       1949.4     No\n",
              "7  6713-OKOMC  Female              0  ...          29.75        301.9     No\n",
              "8  7892-POOKP  Female              0  ...         104.80      3046.05    Yes\n",
              "9  6388-TABGU    Male              0  ...          56.15      3487.95     No\n",
              "\n",
              "[10 rows x 21 columns]"
            ]
          },
          "metadata": {},
          "execution_count": 8
        }
      ]
    },
    {
      "cell_type": "code",
      "source": [
        "df.drop('customerID',axis=1,inplace=True)\n",
        "df.head()"
      ],
      "metadata": {
        "colab": {
          "base_uri": "https://localhost:8080/",
          "height": 339
        },
        "id": "ibAluoTR5BSt",
        "outputId": "8482d873-0c28-4065-f88e-86d7a339a2e4"
      },
      "execution_count": 9,
      "outputs": [
        {
          "output_type": "execute_result",
          "data": {
            "text/html": [
              "\n",
              "  <div id=\"df-3b70c451-01f0-4234-a787-8895f5cd3690\">\n",
              "    <div class=\"colab-df-container\">\n",
              "      <div>\n",
              "<style scoped>\n",
              "    .dataframe tbody tr th:only-of-type {\n",
              "        vertical-align: middle;\n",
              "    }\n",
              "\n",
              "    .dataframe tbody tr th {\n",
              "        vertical-align: top;\n",
              "    }\n",
              "\n",
              "    .dataframe thead th {\n",
              "        text-align: right;\n",
              "    }\n",
              "</style>\n",
              "<table border=\"1\" class=\"dataframe\">\n",
              "  <thead>\n",
              "    <tr style=\"text-align: right;\">\n",
              "      <th></th>\n",
              "      <th>gender</th>\n",
              "      <th>SeniorCitizen</th>\n",
              "      <th>Partner</th>\n",
              "      <th>Dependents</th>\n",
              "      <th>tenure</th>\n",
              "      <th>PhoneService</th>\n",
              "      <th>MultipleLines</th>\n",
              "      <th>InternetService</th>\n",
              "      <th>OnlineSecurity</th>\n",
              "      <th>OnlineBackup</th>\n",
              "      <th>DeviceProtection</th>\n",
              "      <th>TechSupport</th>\n",
              "      <th>StreamingTV</th>\n",
              "      <th>StreamingMovies</th>\n",
              "      <th>Contract</th>\n",
              "      <th>PaperlessBilling</th>\n",
              "      <th>PaymentMethod</th>\n",
              "      <th>MonthlyCharges</th>\n",
              "      <th>TotalCharges</th>\n",
              "      <th>Churn</th>\n",
              "    </tr>\n",
              "  </thead>\n",
              "  <tbody>\n",
              "    <tr>\n",
              "      <th>0</th>\n",
              "      <td>Female</td>\n",
              "      <td>0</td>\n",
              "      <td>Yes</td>\n",
              "      <td>No</td>\n",
              "      <td>1</td>\n",
              "      <td>No</td>\n",
              "      <td>No phone service</td>\n",
              "      <td>DSL</td>\n",
              "      <td>No</td>\n",
              "      <td>Yes</td>\n",
              "      <td>No</td>\n",
              "      <td>No</td>\n",
              "      <td>No</td>\n",
              "      <td>No</td>\n",
              "      <td>Month-to-month</td>\n",
              "      <td>Yes</td>\n",
              "      <td>Electronic check</td>\n",
              "      <td>29.85</td>\n",
              "      <td>29.85</td>\n",
              "      <td>No</td>\n",
              "    </tr>\n",
              "    <tr>\n",
              "      <th>1</th>\n",
              "      <td>Male</td>\n",
              "      <td>0</td>\n",
              "      <td>No</td>\n",
              "      <td>No</td>\n",
              "      <td>34</td>\n",
              "      <td>Yes</td>\n",
              "      <td>No</td>\n",
              "      <td>DSL</td>\n",
              "      <td>Yes</td>\n",
              "      <td>No</td>\n",
              "      <td>Yes</td>\n",
              "      <td>No</td>\n",
              "      <td>No</td>\n",
              "      <td>No</td>\n",
              "      <td>One year</td>\n",
              "      <td>No</td>\n",
              "      <td>Mailed check</td>\n",
              "      <td>56.95</td>\n",
              "      <td>1889.5</td>\n",
              "      <td>No</td>\n",
              "    </tr>\n",
              "    <tr>\n",
              "      <th>2</th>\n",
              "      <td>Male</td>\n",
              "      <td>0</td>\n",
              "      <td>No</td>\n",
              "      <td>No</td>\n",
              "      <td>2</td>\n",
              "      <td>Yes</td>\n",
              "      <td>No</td>\n",
              "      <td>DSL</td>\n",
              "      <td>Yes</td>\n",
              "      <td>Yes</td>\n",
              "      <td>No</td>\n",
              "      <td>No</td>\n",
              "      <td>No</td>\n",
              "      <td>No</td>\n",
              "      <td>Month-to-month</td>\n",
              "      <td>Yes</td>\n",
              "      <td>Mailed check</td>\n",
              "      <td>53.85</td>\n",
              "      <td>108.15</td>\n",
              "      <td>Yes</td>\n",
              "    </tr>\n",
              "    <tr>\n",
              "      <th>3</th>\n",
              "      <td>Male</td>\n",
              "      <td>0</td>\n",
              "      <td>No</td>\n",
              "      <td>No</td>\n",
              "      <td>45</td>\n",
              "      <td>No</td>\n",
              "      <td>No phone service</td>\n",
              "      <td>DSL</td>\n",
              "      <td>Yes</td>\n",
              "      <td>No</td>\n",
              "      <td>Yes</td>\n",
              "      <td>Yes</td>\n",
              "      <td>No</td>\n",
              "      <td>No</td>\n",
              "      <td>One year</td>\n",
              "      <td>No</td>\n",
              "      <td>Bank transfer (automatic)</td>\n",
              "      <td>42.30</td>\n",
              "      <td>1840.75</td>\n",
              "      <td>No</td>\n",
              "    </tr>\n",
              "    <tr>\n",
              "      <th>4</th>\n",
              "      <td>Female</td>\n",
              "      <td>0</td>\n",
              "      <td>No</td>\n",
              "      <td>No</td>\n",
              "      <td>2</td>\n",
              "      <td>Yes</td>\n",
              "      <td>No</td>\n",
              "      <td>Fiber optic</td>\n",
              "      <td>No</td>\n",
              "      <td>No</td>\n",
              "      <td>No</td>\n",
              "      <td>No</td>\n",
              "      <td>No</td>\n",
              "      <td>No</td>\n",
              "      <td>Month-to-month</td>\n",
              "      <td>Yes</td>\n",
              "      <td>Electronic check</td>\n",
              "      <td>70.70</td>\n",
              "      <td>151.65</td>\n",
              "      <td>Yes</td>\n",
              "    </tr>\n",
              "  </tbody>\n",
              "</table>\n",
              "</div>\n",
              "      <button class=\"colab-df-convert\" onclick=\"convertToInteractive('df-3b70c451-01f0-4234-a787-8895f5cd3690')\"\n",
              "              title=\"Convert this dataframe to an interactive table.\"\n",
              "              style=\"display:none;\">\n",
              "        \n",
              "  <svg xmlns=\"http://www.w3.org/2000/svg\" height=\"24px\"viewBox=\"0 0 24 24\"\n",
              "       width=\"24px\">\n",
              "    <path d=\"M0 0h24v24H0V0z\" fill=\"none\"/>\n",
              "    <path d=\"M18.56 5.44l.94 2.06.94-2.06 2.06-.94-2.06-.94-.94-2.06-.94 2.06-2.06.94zm-11 1L8.5 8.5l.94-2.06 2.06-.94-2.06-.94L8.5 2.5l-.94 2.06-2.06.94zm10 10l.94 2.06.94-2.06 2.06-.94-2.06-.94-.94-2.06-.94 2.06-2.06.94z\"/><path d=\"M17.41 7.96l-1.37-1.37c-.4-.4-.92-.59-1.43-.59-.52 0-1.04.2-1.43.59L10.3 9.45l-7.72 7.72c-.78.78-.78 2.05 0 2.83L4 21.41c.39.39.9.59 1.41.59.51 0 1.02-.2 1.41-.59l7.78-7.78 2.81-2.81c.8-.78.8-2.07 0-2.86zM5.41 20L4 18.59l7.72-7.72 1.47 1.35L5.41 20z\"/>\n",
              "  </svg>\n",
              "      </button>\n",
              "      \n",
              "  <style>\n",
              "    .colab-df-container {\n",
              "      display:flex;\n",
              "      flex-wrap:wrap;\n",
              "      gap: 12px;\n",
              "    }\n",
              "\n",
              "    .colab-df-convert {\n",
              "      background-color: #E8F0FE;\n",
              "      border: none;\n",
              "      border-radius: 50%;\n",
              "      cursor: pointer;\n",
              "      display: none;\n",
              "      fill: #1967D2;\n",
              "      height: 32px;\n",
              "      padding: 0 0 0 0;\n",
              "      width: 32px;\n",
              "    }\n",
              "\n",
              "    .colab-df-convert:hover {\n",
              "      background-color: #E2EBFA;\n",
              "      box-shadow: 0px 1px 2px rgba(60, 64, 67, 0.3), 0px 1px 3px 1px rgba(60, 64, 67, 0.15);\n",
              "      fill: #174EA6;\n",
              "    }\n",
              "\n",
              "    [theme=dark] .colab-df-convert {\n",
              "      background-color: #3B4455;\n",
              "      fill: #D2E3FC;\n",
              "    }\n",
              "\n",
              "    [theme=dark] .colab-df-convert:hover {\n",
              "      background-color: #434B5C;\n",
              "      box-shadow: 0px 1px 3px 1px rgba(0, 0, 0, 0.15);\n",
              "      filter: drop-shadow(0px 1px 2px rgba(0, 0, 0, 0.3));\n",
              "      fill: #FFFFFF;\n",
              "    }\n",
              "  </style>\n",
              "\n",
              "      <script>\n",
              "        const buttonEl =\n",
              "          document.querySelector('#df-3b70c451-01f0-4234-a787-8895f5cd3690 button.colab-df-convert');\n",
              "        buttonEl.style.display =\n",
              "          google.colab.kernel.accessAllowed ? 'block' : 'none';\n",
              "\n",
              "        async function convertToInteractive(key) {\n",
              "          const element = document.querySelector('#df-3b70c451-01f0-4234-a787-8895f5cd3690');\n",
              "          const dataTable =\n",
              "            await google.colab.kernel.invokeFunction('convertToInteractive',\n",
              "                                                     [key], {});\n",
              "          if (!dataTable) return;\n",
              "\n",
              "          const docLinkHtml = 'Like what you see? Visit the ' +\n",
              "            '<a target=\"_blank\" href=https://colab.research.google.com/notebooks/data_table.ipynb>data table notebook</a>'\n",
              "            + ' to learn more about interactive tables.';\n",
              "          element.innerHTML = '';\n",
              "          dataTable['output_type'] = 'display_data';\n",
              "          await google.colab.output.renderOutput(dataTable, element);\n",
              "          const docLink = document.createElement('div');\n",
              "          docLink.innerHTML = docLinkHtml;\n",
              "          element.appendChild(docLink);\n",
              "        }\n",
              "      </script>\n",
              "    </div>\n",
              "  </div>\n",
              "  "
            ],
            "text/plain": [
              "   gender  SeniorCitizen Partner  ... MonthlyCharges  TotalCharges Churn\n",
              "0  Female              0     Yes  ...          29.85         29.85    No\n",
              "1    Male              0      No  ...          56.95        1889.5    No\n",
              "2    Male              0      No  ...          53.85        108.15   Yes\n",
              "3    Male              0      No  ...          42.30       1840.75    No\n",
              "4  Female              0      No  ...          70.70        151.65   Yes\n",
              "\n",
              "[5 rows x 20 columns]"
            ]
          },
          "metadata": {},
          "execution_count": 9
        }
      ]
    },
    {
      "cell_type": "code",
      "source": [
        "df.info()"
      ],
      "metadata": {
        "colab": {
          "base_uri": "https://localhost:8080/"
        },
        "id": "fTRhuuFOu-Hq",
        "outputId": "0c0173fe-d36f-4741-fd32-f458e7d98f7c"
      },
      "execution_count": 10,
      "outputs": [
        {
          "output_type": "stream",
          "name": "stdout",
          "text": [
            "<class 'pandas.core.frame.DataFrame'>\n",
            "RangeIndex: 7043 entries, 0 to 7042\n",
            "Data columns (total 20 columns):\n",
            " #   Column            Non-Null Count  Dtype  \n",
            "---  ------            --------------  -----  \n",
            " 0   gender            7043 non-null   object \n",
            " 1   SeniorCitizen     7043 non-null   int64  \n",
            " 2   Partner           7043 non-null   object \n",
            " 3   Dependents        7043 non-null   object \n",
            " 4   tenure            7043 non-null   int64  \n",
            " 5   PhoneService      7043 non-null   object \n",
            " 6   MultipleLines     7043 non-null   object \n",
            " 7   InternetService   7043 non-null   object \n",
            " 8   OnlineSecurity    7043 non-null   object \n",
            " 9   OnlineBackup      7043 non-null   object \n",
            " 10  DeviceProtection  7043 non-null   object \n",
            " 11  TechSupport       7043 non-null   object \n",
            " 12  StreamingTV       7043 non-null   object \n",
            " 13  StreamingMovies   7043 non-null   object \n",
            " 14  Contract          7043 non-null   object \n",
            " 15  PaperlessBilling  7043 non-null   object \n",
            " 16  PaymentMethod     7043 non-null   object \n",
            " 17  MonthlyCharges    7043 non-null   float64\n",
            " 18  TotalCharges      7043 non-null   object \n",
            " 19  Churn             7043 non-null   object \n",
            "dtypes: float64(1), int64(2), object(17)\n",
            "memory usage: 1.1+ MB\n"
          ]
        }
      ]
    },
    {
      "cell_type": "code",
      "source": [
        "df.shape"
      ],
      "metadata": {
        "colab": {
          "base_uri": "https://localhost:8080/"
        },
        "id": "lONMz2tfzcVV",
        "outputId": "1ed61875-93c9-4d25-be7e-1d5cdf8f83b9"
      },
      "execution_count": 11,
      "outputs": [
        {
          "output_type": "execute_result",
          "data": {
            "text/plain": [
              "(7043, 20)"
            ]
          },
          "metadata": {},
          "execution_count": 11
        }
      ]
    },
    {
      "cell_type": "code",
      "source": [
        "df['Churn'].value_counts()     #this is unbalanced dataset "
      ],
      "metadata": {
        "colab": {
          "base_uri": "https://localhost:8080/"
        },
        "id": "w3pvZNXJo-Hd",
        "outputId": "89dd06ac-0ffd-4088-aeb7-56ffd971f149"
      },
      "execution_count": 12,
      "outputs": [
        {
          "output_type": "execute_result",
          "data": {
            "text/plain": [
              "No     5174\n",
              "Yes    1869\n",
              "Name: Churn, dtype: int64"
            ]
          },
          "metadata": {},
          "execution_count": 12
        }
      ]
    },
    {
      "cell_type": "markdown",
      "source": [
        "Total charges are in float but its data\n",
        "type has given object . So we have to change it in float. "
      ],
      "metadata": {
        "id": "sch92r3zvQHr"
      }
    },
    {
      "cell_type": "code",
      "source": [
        "# i am changing object to numeric and used errors='coerce' for change string to 'NaN' values.\n",
        "df[pd.to_numeric(df['TotalCharges'],errors='coerce').isnull()]"
      ],
      "metadata": {
        "colab": {
          "base_uri": "https://localhost:8080/",
          "height": 614
        },
        "id": "pJ1W8yHd5608",
        "outputId": "8023f4ff-fc1b-4537-a482-d68148c03cab"
      },
      "execution_count": 13,
      "outputs": [
        {
          "output_type": "execute_result",
          "data": {
            "text/html": [
              "\n",
              "  <div id=\"df-bd7c99cb-1f85-43e6-b5cc-9cf2102b1b35\">\n",
              "    <div class=\"colab-df-container\">\n",
              "      <div>\n",
              "<style scoped>\n",
              "    .dataframe tbody tr th:only-of-type {\n",
              "        vertical-align: middle;\n",
              "    }\n",
              "\n",
              "    .dataframe tbody tr th {\n",
              "        vertical-align: top;\n",
              "    }\n",
              "\n",
              "    .dataframe thead th {\n",
              "        text-align: right;\n",
              "    }\n",
              "</style>\n",
              "<table border=\"1\" class=\"dataframe\">\n",
              "  <thead>\n",
              "    <tr style=\"text-align: right;\">\n",
              "      <th></th>\n",
              "      <th>gender</th>\n",
              "      <th>SeniorCitizen</th>\n",
              "      <th>Partner</th>\n",
              "      <th>Dependents</th>\n",
              "      <th>tenure</th>\n",
              "      <th>PhoneService</th>\n",
              "      <th>MultipleLines</th>\n",
              "      <th>InternetService</th>\n",
              "      <th>OnlineSecurity</th>\n",
              "      <th>OnlineBackup</th>\n",
              "      <th>DeviceProtection</th>\n",
              "      <th>TechSupport</th>\n",
              "      <th>StreamingTV</th>\n",
              "      <th>StreamingMovies</th>\n",
              "      <th>Contract</th>\n",
              "      <th>PaperlessBilling</th>\n",
              "      <th>PaymentMethod</th>\n",
              "      <th>MonthlyCharges</th>\n",
              "      <th>TotalCharges</th>\n",
              "      <th>Churn</th>\n",
              "    </tr>\n",
              "  </thead>\n",
              "  <tbody>\n",
              "    <tr>\n",
              "      <th>488</th>\n",
              "      <td>Female</td>\n",
              "      <td>0</td>\n",
              "      <td>Yes</td>\n",
              "      <td>Yes</td>\n",
              "      <td>0</td>\n",
              "      <td>No</td>\n",
              "      <td>No phone service</td>\n",
              "      <td>DSL</td>\n",
              "      <td>Yes</td>\n",
              "      <td>No</td>\n",
              "      <td>Yes</td>\n",
              "      <td>Yes</td>\n",
              "      <td>Yes</td>\n",
              "      <td>No</td>\n",
              "      <td>Two year</td>\n",
              "      <td>Yes</td>\n",
              "      <td>Bank transfer (automatic)</td>\n",
              "      <td>52.55</td>\n",
              "      <td></td>\n",
              "      <td>No</td>\n",
              "    </tr>\n",
              "    <tr>\n",
              "      <th>753</th>\n",
              "      <td>Male</td>\n",
              "      <td>0</td>\n",
              "      <td>No</td>\n",
              "      <td>Yes</td>\n",
              "      <td>0</td>\n",
              "      <td>Yes</td>\n",
              "      <td>No</td>\n",
              "      <td>No</td>\n",
              "      <td>No internet service</td>\n",
              "      <td>No internet service</td>\n",
              "      <td>No internet service</td>\n",
              "      <td>No internet service</td>\n",
              "      <td>No internet service</td>\n",
              "      <td>No internet service</td>\n",
              "      <td>Two year</td>\n",
              "      <td>No</td>\n",
              "      <td>Mailed check</td>\n",
              "      <td>20.25</td>\n",
              "      <td></td>\n",
              "      <td>No</td>\n",
              "    </tr>\n",
              "    <tr>\n",
              "      <th>936</th>\n",
              "      <td>Female</td>\n",
              "      <td>0</td>\n",
              "      <td>Yes</td>\n",
              "      <td>Yes</td>\n",
              "      <td>0</td>\n",
              "      <td>Yes</td>\n",
              "      <td>No</td>\n",
              "      <td>DSL</td>\n",
              "      <td>Yes</td>\n",
              "      <td>Yes</td>\n",
              "      <td>Yes</td>\n",
              "      <td>No</td>\n",
              "      <td>Yes</td>\n",
              "      <td>Yes</td>\n",
              "      <td>Two year</td>\n",
              "      <td>No</td>\n",
              "      <td>Mailed check</td>\n",
              "      <td>80.85</td>\n",
              "      <td></td>\n",
              "      <td>No</td>\n",
              "    </tr>\n",
              "    <tr>\n",
              "      <th>1082</th>\n",
              "      <td>Male</td>\n",
              "      <td>0</td>\n",
              "      <td>Yes</td>\n",
              "      <td>Yes</td>\n",
              "      <td>0</td>\n",
              "      <td>Yes</td>\n",
              "      <td>Yes</td>\n",
              "      <td>No</td>\n",
              "      <td>No internet service</td>\n",
              "      <td>No internet service</td>\n",
              "      <td>No internet service</td>\n",
              "      <td>No internet service</td>\n",
              "      <td>No internet service</td>\n",
              "      <td>No internet service</td>\n",
              "      <td>Two year</td>\n",
              "      <td>No</td>\n",
              "      <td>Mailed check</td>\n",
              "      <td>25.75</td>\n",
              "      <td></td>\n",
              "      <td>No</td>\n",
              "    </tr>\n",
              "    <tr>\n",
              "      <th>1340</th>\n",
              "      <td>Female</td>\n",
              "      <td>0</td>\n",
              "      <td>Yes</td>\n",
              "      <td>Yes</td>\n",
              "      <td>0</td>\n",
              "      <td>No</td>\n",
              "      <td>No phone service</td>\n",
              "      <td>DSL</td>\n",
              "      <td>Yes</td>\n",
              "      <td>Yes</td>\n",
              "      <td>Yes</td>\n",
              "      <td>Yes</td>\n",
              "      <td>Yes</td>\n",
              "      <td>No</td>\n",
              "      <td>Two year</td>\n",
              "      <td>No</td>\n",
              "      <td>Credit card (automatic)</td>\n",
              "      <td>56.05</td>\n",
              "      <td></td>\n",
              "      <td>No</td>\n",
              "    </tr>\n",
              "    <tr>\n",
              "      <th>3331</th>\n",
              "      <td>Male</td>\n",
              "      <td>0</td>\n",
              "      <td>Yes</td>\n",
              "      <td>Yes</td>\n",
              "      <td>0</td>\n",
              "      <td>Yes</td>\n",
              "      <td>No</td>\n",
              "      <td>No</td>\n",
              "      <td>No internet service</td>\n",
              "      <td>No internet service</td>\n",
              "      <td>No internet service</td>\n",
              "      <td>No internet service</td>\n",
              "      <td>No internet service</td>\n",
              "      <td>No internet service</td>\n",
              "      <td>Two year</td>\n",
              "      <td>No</td>\n",
              "      <td>Mailed check</td>\n",
              "      <td>19.85</td>\n",
              "      <td></td>\n",
              "      <td>No</td>\n",
              "    </tr>\n",
              "    <tr>\n",
              "      <th>3826</th>\n",
              "      <td>Male</td>\n",
              "      <td>0</td>\n",
              "      <td>Yes</td>\n",
              "      <td>Yes</td>\n",
              "      <td>0</td>\n",
              "      <td>Yes</td>\n",
              "      <td>Yes</td>\n",
              "      <td>No</td>\n",
              "      <td>No internet service</td>\n",
              "      <td>No internet service</td>\n",
              "      <td>No internet service</td>\n",
              "      <td>No internet service</td>\n",
              "      <td>No internet service</td>\n",
              "      <td>No internet service</td>\n",
              "      <td>Two year</td>\n",
              "      <td>No</td>\n",
              "      <td>Mailed check</td>\n",
              "      <td>25.35</td>\n",
              "      <td></td>\n",
              "      <td>No</td>\n",
              "    </tr>\n",
              "    <tr>\n",
              "      <th>4380</th>\n",
              "      <td>Female</td>\n",
              "      <td>0</td>\n",
              "      <td>Yes</td>\n",
              "      <td>Yes</td>\n",
              "      <td>0</td>\n",
              "      <td>Yes</td>\n",
              "      <td>No</td>\n",
              "      <td>No</td>\n",
              "      <td>No internet service</td>\n",
              "      <td>No internet service</td>\n",
              "      <td>No internet service</td>\n",
              "      <td>No internet service</td>\n",
              "      <td>No internet service</td>\n",
              "      <td>No internet service</td>\n",
              "      <td>Two year</td>\n",
              "      <td>No</td>\n",
              "      <td>Mailed check</td>\n",
              "      <td>20.00</td>\n",
              "      <td></td>\n",
              "      <td>No</td>\n",
              "    </tr>\n",
              "    <tr>\n",
              "      <th>5218</th>\n",
              "      <td>Male</td>\n",
              "      <td>0</td>\n",
              "      <td>Yes</td>\n",
              "      <td>Yes</td>\n",
              "      <td>0</td>\n",
              "      <td>Yes</td>\n",
              "      <td>No</td>\n",
              "      <td>No</td>\n",
              "      <td>No internet service</td>\n",
              "      <td>No internet service</td>\n",
              "      <td>No internet service</td>\n",
              "      <td>No internet service</td>\n",
              "      <td>No internet service</td>\n",
              "      <td>No internet service</td>\n",
              "      <td>One year</td>\n",
              "      <td>Yes</td>\n",
              "      <td>Mailed check</td>\n",
              "      <td>19.70</td>\n",
              "      <td></td>\n",
              "      <td>No</td>\n",
              "    </tr>\n",
              "    <tr>\n",
              "      <th>6670</th>\n",
              "      <td>Female</td>\n",
              "      <td>0</td>\n",
              "      <td>Yes</td>\n",
              "      <td>Yes</td>\n",
              "      <td>0</td>\n",
              "      <td>Yes</td>\n",
              "      <td>Yes</td>\n",
              "      <td>DSL</td>\n",
              "      <td>No</td>\n",
              "      <td>Yes</td>\n",
              "      <td>Yes</td>\n",
              "      <td>Yes</td>\n",
              "      <td>Yes</td>\n",
              "      <td>No</td>\n",
              "      <td>Two year</td>\n",
              "      <td>No</td>\n",
              "      <td>Mailed check</td>\n",
              "      <td>73.35</td>\n",
              "      <td></td>\n",
              "      <td>No</td>\n",
              "    </tr>\n",
              "    <tr>\n",
              "      <th>6754</th>\n",
              "      <td>Male</td>\n",
              "      <td>0</td>\n",
              "      <td>No</td>\n",
              "      <td>Yes</td>\n",
              "      <td>0</td>\n",
              "      <td>Yes</td>\n",
              "      <td>Yes</td>\n",
              "      <td>DSL</td>\n",
              "      <td>Yes</td>\n",
              "      <td>Yes</td>\n",
              "      <td>No</td>\n",
              "      <td>Yes</td>\n",
              "      <td>No</td>\n",
              "      <td>No</td>\n",
              "      <td>Two year</td>\n",
              "      <td>Yes</td>\n",
              "      <td>Bank transfer (automatic)</td>\n",
              "      <td>61.90</td>\n",
              "      <td></td>\n",
              "      <td>No</td>\n",
              "    </tr>\n",
              "  </tbody>\n",
              "</table>\n",
              "</div>\n",
              "      <button class=\"colab-df-convert\" onclick=\"convertToInteractive('df-bd7c99cb-1f85-43e6-b5cc-9cf2102b1b35')\"\n",
              "              title=\"Convert this dataframe to an interactive table.\"\n",
              "              style=\"display:none;\">\n",
              "        \n",
              "  <svg xmlns=\"http://www.w3.org/2000/svg\" height=\"24px\"viewBox=\"0 0 24 24\"\n",
              "       width=\"24px\">\n",
              "    <path d=\"M0 0h24v24H0V0z\" fill=\"none\"/>\n",
              "    <path d=\"M18.56 5.44l.94 2.06.94-2.06 2.06-.94-2.06-.94-.94-2.06-.94 2.06-2.06.94zm-11 1L8.5 8.5l.94-2.06 2.06-.94-2.06-.94L8.5 2.5l-.94 2.06-2.06.94zm10 10l.94 2.06.94-2.06 2.06-.94-2.06-.94-.94-2.06-.94 2.06-2.06.94z\"/><path d=\"M17.41 7.96l-1.37-1.37c-.4-.4-.92-.59-1.43-.59-.52 0-1.04.2-1.43.59L10.3 9.45l-7.72 7.72c-.78.78-.78 2.05 0 2.83L4 21.41c.39.39.9.59 1.41.59.51 0 1.02-.2 1.41-.59l7.78-7.78 2.81-2.81c.8-.78.8-2.07 0-2.86zM5.41 20L4 18.59l7.72-7.72 1.47 1.35L5.41 20z\"/>\n",
              "  </svg>\n",
              "      </button>\n",
              "      \n",
              "  <style>\n",
              "    .colab-df-container {\n",
              "      display:flex;\n",
              "      flex-wrap:wrap;\n",
              "      gap: 12px;\n",
              "    }\n",
              "\n",
              "    .colab-df-convert {\n",
              "      background-color: #E8F0FE;\n",
              "      border: none;\n",
              "      border-radius: 50%;\n",
              "      cursor: pointer;\n",
              "      display: none;\n",
              "      fill: #1967D2;\n",
              "      height: 32px;\n",
              "      padding: 0 0 0 0;\n",
              "      width: 32px;\n",
              "    }\n",
              "\n",
              "    .colab-df-convert:hover {\n",
              "      background-color: #E2EBFA;\n",
              "      box-shadow: 0px 1px 2px rgba(60, 64, 67, 0.3), 0px 1px 3px 1px rgba(60, 64, 67, 0.15);\n",
              "      fill: #174EA6;\n",
              "    }\n",
              "\n",
              "    [theme=dark] .colab-df-convert {\n",
              "      background-color: #3B4455;\n",
              "      fill: #D2E3FC;\n",
              "    }\n",
              "\n",
              "    [theme=dark] .colab-df-convert:hover {\n",
              "      background-color: #434B5C;\n",
              "      box-shadow: 0px 1px 3px 1px rgba(0, 0, 0, 0.15);\n",
              "      filter: drop-shadow(0px 1px 2px rgba(0, 0, 0, 0.3));\n",
              "      fill: #FFFFFF;\n",
              "    }\n",
              "  </style>\n",
              "\n",
              "      <script>\n",
              "        const buttonEl =\n",
              "          document.querySelector('#df-bd7c99cb-1f85-43e6-b5cc-9cf2102b1b35 button.colab-df-convert');\n",
              "        buttonEl.style.display =\n",
              "          google.colab.kernel.accessAllowed ? 'block' : 'none';\n",
              "\n",
              "        async function convertToInteractive(key) {\n",
              "          const element = document.querySelector('#df-bd7c99cb-1f85-43e6-b5cc-9cf2102b1b35');\n",
              "          const dataTable =\n",
              "            await google.colab.kernel.invokeFunction('convertToInteractive',\n",
              "                                                     [key], {});\n",
              "          if (!dataTable) return;\n",
              "\n",
              "          const docLinkHtml = 'Like what you see? Visit the ' +\n",
              "            '<a target=\"_blank\" href=https://colab.research.google.com/notebooks/data_table.ipynb>data table notebook</a>'\n",
              "            + ' to learn more about interactive tables.';\n",
              "          element.innerHTML = '';\n",
              "          dataTable['output_type'] = 'display_data';\n",
              "          await google.colab.output.renderOutput(dataTable, element);\n",
              "          const docLink = document.createElement('div');\n",
              "          docLink.innerHTML = docLinkHtml;\n",
              "          element.appendChild(docLink);\n",
              "        }\n",
              "      </script>\n",
              "    </div>\n",
              "  </div>\n",
              "  "
            ],
            "text/plain": [
              "      gender  SeniorCitizen Partner  ... MonthlyCharges  TotalCharges Churn\n",
              "488   Female              0     Yes  ...          52.55                  No\n",
              "753     Male              0      No  ...          20.25                  No\n",
              "936   Female              0     Yes  ...          80.85                  No\n",
              "1082    Male              0     Yes  ...          25.75                  No\n",
              "1340  Female              0     Yes  ...          56.05                  No\n",
              "3331    Male              0     Yes  ...          19.85                  No\n",
              "3826    Male              0     Yes  ...          25.35                  No\n",
              "4380  Female              0     Yes  ...          20.00                  No\n",
              "5218    Male              0     Yes  ...          19.70                  No\n",
              "6670  Female              0     Yes  ...          73.35                  No\n",
              "6754    Male              0      No  ...          61.90                  No\n",
              "\n",
              "[11 rows x 20 columns]"
            ]
          },
          "metadata": {},
          "execution_count": 13
        }
      ]
    },
    {
      "cell_type": "markdown",
      "source": [
        "i will remove these rows which have TotalCharges=' '."
      ],
      "metadata": {
        "id": "HjYOTQMt1DL7"
      }
    },
    {
      "cell_type": "code",
      "source": [
        "df1=df[df['TotalCharges']!=' ']\n",
        "df1.shape"
      ],
      "metadata": {
        "colab": {
          "base_uri": "https://localhost:8080/"
        },
        "id": "ELc5TdKSv3LD",
        "outputId": "b8f9ad88-82c8-4300-cc65-c476d27aa280"
      },
      "execution_count": 14,
      "outputs": [
        {
          "output_type": "execute_result",
          "data": {
            "text/plain": [
              "(7032, 20)"
            ]
          },
          "metadata": {},
          "execution_count": 14
        }
      ]
    },
    {
      "cell_type": "code",
      "source": [
        "#now changes into float64\n",
        "df1['TotalCharges']=pd.to_numeric(df1['TotalCharges'])"
      ],
      "metadata": {
        "id": "t_aPAMFm1Vqv"
      },
      "execution_count": 15,
      "outputs": []
    },
    {
      "cell_type": "code",
      "source": [
        "df1['TotalCharges'].dtypes"
      ],
      "metadata": {
        "colab": {
          "base_uri": "https://localhost:8080/"
        },
        "id": "yfilT-6O1oT6",
        "outputId": "b2c53a94-d896-4411-eaf9-b655fc5976c8"
      },
      "execution_count": 16,
      "outputs": [
        {
          "output_type": "execute_result",
          "data": {
            "text/plain": [
              "dtype('float64')"
            ]
          },
          "metadata": {},
          "execution_count": 16
        }
      ]
    },
    {
      "cell_type": "markdown",
      "source": [
        "We will visualise according to the tenure because by this we can see how much customer is loyal ."
      ],
      "metadata": {
        "id": "_hvt1gk62LXu"
      }
    },
    {
      "cell_type": "code",
      "source": [
        "tenure_churn_no=df1[df1['Churn']=='No'].tenure\n",
        "tenure_churn_yes=df1[df1['Churn']=='Yes'].tenure\n",
        "\n",
        "plt.hist([tenure_churn_no,tenure_churn_yes],color=['green','red'],label=['Churn=No','Churn=Yes'])\n",
        "plt.legend()\n",
        "plt.xlabel('tenure')\n",
        "plt.ylabel('Number Of Customer')"
      ],
      "metadata": {
        "colab": {
          "base_uri": "https://localhost:8080/",
          "height": 296
        },
        "id": "zaeq_uQl1tWY",
        "outputId": "c545f1a9-e08b-43d1-bef6-980c7ff9a1ae"
      },
      "execution_count": 17,
      "outputs": [
        {
          "output_type": "execute_result",
          "data": {
            "text/plain": [
              "Text(0, 0.5, 'Number Of Customer')"
            ]
          },
          "metadata": {},
          "execution_count": 17
        },
        {
          "output_type": "display_data",
          "data": {
            "image/png": "[encoded data removed]",
            "text/plain": [
              "<Figure size 432x288 with 1 Axes>"
            ]
          },
          "metadata": {
            "needs_background": "light"
          }
        }
      ]
    },
    {
      "cell_type": "code",
      "source": [
        "MonthlyCharges_churn_no=df1[df1['Churn']=='No'].MonthlyCharges\n",
        "MonthlyCharges_churn_yes=df1[df1['Churn']=='Yes'].MonthlyCharges\n",
        "\n",
        "plt.hist([MonthlyCharges_churn_no,MonthlyCharges_churn_yes],color=['green','red'],label=['Churn=No','Churn=Yes'])\n",
        "plt.legend()\n",
        "plt.xlabel('MonthlyCharges')\n",
        "plt.ylabel('Number Of Customer')"
      ],
      "metadata": {
        "colab": {
          "base_uri": "https://localhost:8080/",
          "height": 296
        },
        "id": "jbYNlAcg2z9t",
        "outputId": "8e43436e-6d07-48bd-fb7f-50647b2caac3"
      },
      "execution_count": 18,
      "outputs": [
        {
          "output_type": "execute_result",
          "data": {
            "text/plain": [
              "Text(0, 0.5, 'Number Of Customer')"
            ]
          },
          "metadata": {},
          "execution_count": 18
        },
        {
          "output_type": "display_data",
          "data": {
            "image/png": "[encoded data removed]",
            "text/plain": [
              "<Figure size 432x288 with 1 Axes>"
            ]
          },
          "metadata": {
            "needs_background": "light"
          }
        }
      ]
    },
    {
      "cell_type": "code",
      "source": [
        "plt.figure(figsize=(15,6))\n",
        "sns.countplot(data =df1, x='gender', order=df1['gender'].value_counts().index, hue='Churn')\n",
        "plt.xticks(rotation=90)\n",
        "plt.xlabel('gender')\n",
        "plt.ylabel('No. Of Customers')\n",
        "plt.title('Gender Wise Customers ')\n",
        "plt.show()"
      ],
      "metadata": {
        "colab": {
          "base_uri": "https://localhost:8080/",
          "height": 430
        },
        "id": "bzC8DY3VoUXG",
        "outputId": "ab6958fd-c543-412e-f7e3-4c179643f60d"
      },
      "execution_count": 19,
      "outputs": [
        {
          "output_type": "display_data",
          "data": {
            "image/png": "[encoded data removed]",
            "text/plain": [
              "<Figure size 1080x432 with 1 Axes>"
            ]
          },
          "metadata": {
            "needs_background": "light"
          }
        }
      ]
    },
    {
      "cell_type": "code",
      "source": [
        "plt.figure(figsize=(15,6))\n",
        "sns.countplot(data =df1, x='Partner', order=df1['Partner'].value_counts().index, hue='Churn')\n",
        "plt.xticks(rotation=90)\n",
        "plt.xlabel('Partner')\n",
        "plt.ylabel('No. Of Customers')\n",
        "plt.title('Partner Wise Customers ')\n",
        "plt.show()"
      ],
      "metadata": {
        "colab": {
          "base_uri": "https://localhost:8080/",
          "height": 410
        },
        "id": "BzrNuhZ6osiU",
        "outputId": "4fb75a88-40d8-441d-ca19-377ed18217b5"
      },
      "execution_count": 20,
      "outputs": [
        {
          "output_type": "display_data",
          "data": {
            "image/png": "[encoded data removed]",
            "text/plain": [
              "<Figure size 1080x432 with 1 Axes>"
            ]
          },
          "metadata": {
            "needs_background": "light"
          }
        }
      ]
    },
    {
      "cell_type": "code",
      "source": [
        "plt.figure(figsize=(15,6))\n",
        "sns.countplot(data =df1, x='Dependents', order=df1['Dependents'].value_counts().index, hue='Churn')\n",
        "plt.xticks(rotation=90)\n",
        "plt.xlabel('Dependents')\n",
        "plt.ylabel('No. Of Customers')\n",
        "plt.title('Dependents Wise Customers ')\n",
        "plt.show()"
      ],
      "metadata": {
        "colab": {
          "base_uri": "https://localhost:8080/",
          "height": 410
        },
        "id": "Wq94RBlKpKRN",
        "outputId": "93f40175-e130-42a1-8e84-466d34b93c24"
      },
      "execution_count": 21,
      "outputs": [
        {
          "output_type": "display_data",
          "data": {
            "image/png": "[encoded data removed]",
            "text/plain": [
              "<Figure size 1080x432 with 1 Axes>"
            ]
          },
          "metadata": {
            "needs_background": "light"
          }
        }
      ]
    },
    {
      "cell_type": "code",
      "source": [
        "plt.figure(figsize=(15,6))\n",
        "sns.countplot(data =df1, x='PhoneService', order=df1['PhoneService'].value_counts().index, hue='Churn')\n",
        "plt.xticks(rotation=90)\n",
        "plt.xlabel('PhoneService')\n",
        "plt.ylabel('No. Of Customers')\n",
        "plt.title('PhoneService Wise Customers ')\n",
        "plt.show()"
      ],
      "metadata": {
        "colab": {
          "base_uri": "https://localhost:8080/",
          "height": 410
        },
        "id": "tp6kyDHUpcJK",
        "outputId": "9052e3c7-0575-4167-eda9-a438fce84a36"
      },
      "execution_count": 22,
      "outputs": [
        {
          "output_type": "display_data",
          "data": {
            "image/png": "[encoded data removed]",
            "text/plain": [
              "<Figure size 1080x432 with 1 Axes>"
            ]
          },
          "metadata": {
            "needs_background": "light"
          }
        }
      ]
    },
    {
      "cell_type": "code",
      "source": [
        "plt.figure(figsize=(15,6))\n",
        "sns.countplot(data =df1, x='MultipleLines', order=df1['MultipleLines'].value_counts().index, hue='Churn')\n",
        "plt.xticks(rotation=90)\n",
        "plt.xlabel('MultipleLines')\n",
        "plt.ylabel('No. Of Customers')\n",
        "plt.title('MultipleLines Wise Customers ')\n",
        "plt.show()"
      ],
      "metadata": {
        "colab": {
          "base_uri": "https://localhost:8080/",
          "height": 481
        },
        "id": "kxKYyi-1p9fF",
        "outputId": "fb51b1bf-fe91-4c73-bef2-6364eb7dfc36"
      },
      "execution_count": 23,
      "outputs": [
        {
          "output_type": "display_data",
          "data": {
            "image/png": "[encoded data removed]",
            "text/plain": [
              "<Figure size 1080x432 with 1 Axes>"
            ]
          },
          "metadata": {
            "needs_background": "light"
          }
        }
      ]
    },
    {
      "cell_type": "code",
      "source": [
        "plt.figure(figsize=(15,6))\n",
        "sns.countplot(data =df1, x='InternetService', order=df1['InternetService'].value_counts().index, hue='Churn')\n",
        "plt.xticks(rotation=90)\n",
        "plt.xlabel('InternetService')\n",
        "plt.ylabel('No. Of Customers')\n",
        "plt.title('InternetService Wise Customers ')\n",
        "plt.show()"
      ],
      "metadata": {
        "colab": {
          "base_uri": "https://localhost:8080/",
          "height": 446
        },
        "id": "jHajDw8mqIIZ",
        "outputId": "b92fbf59-9334-4ac6-fb94-6b46e290e949"
      },
      "execution_count": 24,
      "outputs": [
        {
          "output_type": "display_data",
          "data": {
            "image/png": "[encoded data removed]",
            "text/plain": [
              "<Figure size 1080x432 with 1 Axes>"
            ]
          },
          "metadata": {
            "needs_background": "light"
          }
        }
      ]
    },
    {
      "cell_type": "code",
      "source": [
        "plt.figure(figsize=(15,6))\n",
        "sns.countplot(data =df1, x='Contract', order=df1['Contract'].value_counts().index, hue='Churn')\n",
        "plt.xticks(rotation=90)\n",
        "plt.xlabel('Contract')\n",
        "plt.ylabel('No. Of Customers')\n",
        "plt.title('Contract Wise Customers ')\n",
        "plt.show()"
      ],
      "metadata": {
        "colab": {
          "base_uri": "https://localhost:8080/",
          "height": 475
        },
        "id": "p8-KG9gYsolJ",
        "outputId": "44c5af71-a72c-4840-9c3e-1de987696c21"
      },
      "execution_count": 25,
      "outputs": [
        {
          "output_type": "display_data",
          "data": {
            "image/png": "[encoded data removed]",
            "text/plain": [
              "<Figure size 1080x432 with 1 Axes>"
            ]
          },
          "metadata": {
            "needs_background": "light"
          }
        }
      ]
    },
    {
      "cell_type": "code",
      "source": [
        "plt.figure(figsize=(15,6))\n",
        "sns.countplot(data =df1, x='PaymentMethod',order=df1['PaymentMethod'].value_counts().index, hue='Churn')\n",
        "plt.xticks(rotation=90)\n",
        "plt.xlabel('PaymentMethod')\n",
        "plt.ylabel('No. Of Customers')\n",
        "plt.title('PaymentMethod Wise Customers ')\n",
        "plt.show()"
      ],
      "metadata": {
        "colab": {
          "base_uri": "https://localhost:8080/",
          "height": 523
        },
        "id": "7iTENLRws8TA",
        "outputId": "3b01335f-28b1-4383-ae13-66e49f427f6e"
      },
      "execution_count": 26,
      "outputs": [
        {
          "output_type": "display_data",
          "data": {
            "image/png": "[encoded data removed]",
            "text/plain": [
              "<Figure size 1080x432 with 1 Axes>"
            ]
          },
          "metadata": {
            "needs_background": "light"
          }
        }
      ]
    },
    {
      "cell_type": "code",
      "source": [
        "plt.figure(figsize=(10,5))\n",
        "sns.countplot(data=df1,x='PaperlessBilling',hue='Churn', order=df1['PaperlessBilling'].value_counts().index)\n",
        "plt.xlabel('PaperlessBilling')\n",
        "plt.ylabel('No. OF Customer')\n",
        "plt.title(' PaperlessBilling vs Customer')\n",
        "plt.show()"
      ],
      "metadata": {
        "colab": {
          "base_uri": "https://localhost:8080/",
          "height": 350
        },
        "id": "1PwIBlTCqQCG",
        "outputId": "992b4214-50a9-4457-87db-107564b238d2"
      },
      "execution_count": 27,
      "outputs": [
        {
          "output_type": "display_data",
          "data": {
            "image/png": "[encoded data removed]",
            "text/plain": [
              "<Figure size 720x360 with 1 Axes>"
            ]
          },
          "metadata": {
            "needs_background": "light"
          }
        }
      ]
    },
    {
      "cell_type": "code",
      "source": [
        "plt.figure(figsize=(10,5))\n",
        "sns.countplot(data=df1,x='OnlineSecurity',hue='Churn', order=df1['OnlineSecurity'].value_counts().index)\n",
        "plt.xlabel('OnlineSecurity')\n",
        "plt.ylabel('No. OF Customer')\n",
        "plt.title(' OnlineSecurity vs Customer')\n",
        "plt.show()"
      ],
      "metadata": {
        "colab": {
          "base_uri": "https://localhost:8080/",
          "height": 350
        },
        "id": "wkE2GepwzUnG",
        "outputId": "8d32ebc2-6d1d-403b-a911-1fe20252d31c"
      },
      "execution_count": 28,
      "outputs": [
        {
          "output_type": "display_data",
          "data": {
            "image/png": "[encoded data removed]",
            "text/plain": [
              "<Figure size 720x360 with 1 Axes>"
            ]
          },
          "metadata": {
            "needs_background": "light"
          }
        }
      ]
    },
    {
      "cell_type": "code",
      "source": [
        "plt.figure(figsize=(10,5))\n",
        "sns.countplot(data=df1,x='OnlineBackup',hue='Churn', order=df1['OnlineBackup'].value_counts().index)\n",
        "plt.xlabel('OnlineBackup')\n",
        "plt.ylabel('No. OF Customer')\n",
        "plt.title('OnlineBackup vs Customer')\n",
        "plt.show()"
      ],
      "metadata": {
        "colab": {
          "base_uri": "https://localhost:8080/",
          "height": 350
        },
        "id": "Ih9V9tps0eIh",
        "outputId": "3ae60546-3080-4ab0-aa01-57f00fa73073"
      },
      "execution_count": 29,
      "outputs": [
        {
          "output_type": "display_data",
          "data": {
            "image/png": "[encoded data removed]",
            "text/plain": [
              "<Figure size 720x360 with 1 Axes>"
            ]
          },
          "metadata": {
            "needs_background": "light"
          }
        }
      ]
    },
    {
      "cell_type": "code",
      "source": [
        "plt.figure(figsize=(10,5))\n",
        "sns.countplot(data=df1,x='DeviceProtection',hue='Churn', order=df1['DeviceProtection'].value_counts().index)\n",
        "plt.xlabel('DeviceProtection')\n",
        "plt.ylabel('No. OF Customer')\n",
        "plt.title('DeviceProtection vs Customer')\n",
        "plt.show()"
      ],
      "metadata": {
        "colab": {
          "base_uri": "https://localhost:8080/",
          "height": 350
        },
        "id": "niSzUP4t0eFG",
        "outputId": "91652f20-1228-4bec-8ba0-59a3b086a5f9"
      },
      "execution_count": 30,
      "outputs": [
        {
          "output_type": "display_data",
          "data": {
            "image/png": "[encoded data removed]",
            "text/plain": [
              "<Figure size 720x360 with 1 Axes>"
            ]
          },
          "metadata": {
            "needs_background": "light"
          }
        }
      ]
    },
    {
      "cell_type": "code",
      "source": [
        "plt.figure(figsize=(10,5))\n",
        "sns.countplot(data=df1,x='TechSupport',hue='Churn', order=df1['TechSupport'].value_counts().index)\n",
        "plt.xlabel('TechSupport')\n",
        "plt.ylabel('No. OF Customer')\n",
        "plt.title('TechSupport vs Customer')\n",
        "plt.show()"
      ],
      "metadata": {
        "colab": {
          "base_uri": "https://localhost:8080/",
          "height": 350
        },
        "id": "ZdUfy5H70eC1",
        "outputId": "39e7cffa-f4cc-4886-a997-67beba798ec3"
      },
      "execution_count": 31,
      "outputs": [
        {
          "output_type": "display_data",
          "data": {
            "image/png": "[encoded data removed]",
            "text/plain": [
              "<Figure size 720x360 with 1 Axes>"
            ]
          },
          "metadata": {
            "needs_background": "light"
          }
        }
      ]
    },
    {
      "cell_type": "code",
      "source": [
        "plt.figure(figsize=(10,5))\n",
        "sns.countplot(data=df1,x='StreamingTV',hue='Churn', order=df1['StreamingTV'].value_counts().index)\n",
        "plt.xlabel('StreamingTV')\n",
        "plt.ylabel('No. OF Customer')\n",
        "plt.title('StreamingTV vs Customer')\n",
        "plt.show()"
      ],
      "metadata": {
        "colab": {
          "base_uri": "https://localhost:8080/",
          "height": 350
        },
        "id": "Gw84T3cC0eAg",
        "outputId": "8ad87b9e-baec-4f1b-e9b8-63de38df7456"
      },
      "execution_count": 32,
      "outputs": [
        {
          "output_type": "display_data",
          "data": {
            "image/png": "[encoded data removed]",
            "text/plain": [
              "<Figure size 720x360 with 1 Axes>"
            ]
          },
          "metadata": {
            "needs_background": "light"
          }
        }
      ]
    },
    {
      "cell_type": "code",
      "source": [
        "plt.figure(figsize=(10,5))\n",
        "sns.countplot(data=df1,x='StreamingMovies',hue='Churn', order=df1['StreamingMovies'].value_counts().index)\n",
        "plt.xlabel('StreamingMovies')\n",
        "plt.ylabel('No. OF Customer')\n",
        "plt.title('StreamingMovies vs Customer')\n",
        "plt.show()"
      ],
      "metadata": {
        "colab": {
          "base_uri": "https://localhost:8080/",
          "height": 350
        },
        "id": "hs23njgCzUah",
        "outputId": "b32ab2e2-0941-466a-cbc6-0b9373a14a36"
      },
      "execution_count": 33,
      "outputs": [
        {
          "output_type": "display_data",
          "data": {
            "image/png": "[encoded data removed]",
            "text/plain": [
              "<Figure size 720x360 with 1 Axes>"
            ]
          },
          "metadata": {
            "needs_background": "light"
          }
        }
      ]
    },
    {
      "cell_type": "markdown",
      "source": [
        "Unique values"
      ],
      "metadata": {
        "id": "neAcbd8H8GHr"
      }
    },
    {
      "cell_type": "code",
      "source": [
        ""
      ],
      "metadata": {
        "id": "4bAX2hk9p83Q"
      },
      "execution_count": 33,
      "outputs": []
    },
    {
      "cell_type": "code",
      "source": [
        "def unique_col_values(df):\n",
        "  for i in df.columns:\n",
        "    if df[i].dtype=='object':\n",
        "      print(f'unique values of column \\'{i}\\' are : ',df[i].unique())\n",
        "  "
      ],
      "metadata": {
        "id": "EcBFyBVi7urs"
      },
      "execution_count": 34,
      "outputs": []
    },
    {
      "cell_type": "code",
      "source": [
        "unique_col_values(df1)"
      ],
      "metadata": {
        "colab": {
          "base_uri": "https://localhost:8080/"
        },
        "id": "xA6vIqNV9fw2",
        "outputId": "26b92b0e-8fe6-4c2d-eb7f-da5cb329aceb"
      },
      "execution_count": 35,
      "outputs": [
        {
          "output_type": "stream",
          "name": "stdout",
          "text": [
            "unique values of column 'gender' are :  ['Female' 'Male']\n",
            "unique values of column 'Partner' are :  ['Yes' 'No']\n",
            "unique values of column 'Dependents' are :  ['No' 'Yes']\n",
            "unique values of column 'PhoneService' are :  ['No' 'Yes']\n",
            "unique values of column 'MultipleLines' are :  ['No phone service' 'No' 'Yes']\n",
            "unique values of column 'InternetService' are :  ['DSL' 'Fiber optic' 'No']\n",
            "unique values of column 'OnlineSecurity' are :  ['No' 'Yes' 'No internet service']\n",
            "unique values of column 'OnlineBackup' are :  ['Yes' 'No' 'No internet service']\n",
            "unique values of column 'DeviceProtection' are :  ['No' 'Yes' 'No internet service']\n",
            "unique values of column 'TechSupport' are :  ['No' 'Yes' 'No internet service']\n",
            "unique values of column 'StreamingTV' are :  ['No' 'Yes' 'No internet service']\n",
            "unique values of column 'StreamingMovies' are :  ['No' 'Yes' 'No internet service']\n",
            "unique values of column 'Contract' are :  ['Month-to-month' 'One year' 'Two year']\n",
            "unique values of column 'PaperlessBilling' are :  ['Yes' 'No']\n",
            "unique values of column 'PaymentMethod' are :  ['Electronic check' 'Mailed check' 'Bank transfer (automatic)'\n",
            " 'Credit card (automatic)']\n",
            "unique values of column 'Churn' are :  ['No' 'Yes']\n"
          ]
        }
      ]
    },
    {
      "cell_type": "code",
      "source": [
        "yes_no_col=['Partner','Dependents','PhoneService','MultipleLines','OnlineSecurity','OnlineBackup','DeviceProtection','TechSupport','StreamingTV','StreamingMovies','PaperlessBilling','Churn']\n",
        "for i in yes_no_col:\n",
        "  df1[i]=df[i].replace({'Yes':1,'No':0})\n",
        "df1\n"
      ],
      "metadata": {
        "colab": {
          "base_uri": "https://localhost:8080/",
          "height": 626
        },
        "id": "h-JsCpQG_5j5",
        "outputId": "25f1005f-85a0-4802-a908-2d4878198e78"
      },
      "execution_count": 36,
      "outputs": [
        {
          "output_type": "execute_result",
          "data": {
            "text/html": [
              "\n",
              "  <div id=\"df-ab3fb1ef-ae36-4e5b-8d59-18db5909a798\">\n",
              "    <div class=\"colab-df-container\">\n",
              "      <div>\n",
              "<style scoped>\n",
              "    .dataframe tbody tr th:only-of-type {\n",
              "        vertical-align: middle;\n",
              "    }\n",
              "\n",
              "    .dataframe tbody tr th {\n",
              "        vertical-align: top;\n",
              "    }\n",
              "\n",
              "    .dataframe thead th {\n",
              "        text-align: right;\n",
              "    }\n",
              "</style>\n",
              "<table border=\"1\" class=\"dataframe\">\n",
              "  <thead>\n",
              "    <tr style=\"text-align: right;\">\n",
              "      <th></th>\n",
              "      <th>gender</th>\n",
              "      <th>SeniorCitizen</th>\n",
              "      <th>Partner</th>\n",
              "      <th>Dependents</th>\n",
              "      <th>tenure</th>\n",
              "      <th>PhoneService</th>\n",
              "      <th>MultipleLines</th>\n",
              "      <th>InternetService</th>\n",
              "      <th>OnlineSecurity</th>\n",
              "      <th>OnlineBackup</th>\n",
              "      <th>DeviceProtection</th>\n",
              "      <th>TechSupport</th>\n",
              "      <th>StreamingTV</th>\n",
              "      <th>StreamingMovies</th>\n",
              "      <th>Contract</th>\n",
              "      <th>PaperlessBilling</th>\n",
              "      <th>PaymentMethod</th>\n",
              "      <th>MonthlyCharges</th>\n",
              "      <th>TotalCharges</th>\n",
              "      <th>Churn</th>\n",
              "    </tr>\n",
              "  </thead>\n",
              "  <tbody>\n",
              "    <tr>\n",
              "      <th>0</th>\n",
              "      <td>Female</td>\n",
              "      <td>0</td>\n",
              "      <td>1</td>\n",
              "      <td>0</td>\n",
              "      <td>1</td>\n",
              "      <td>0</td>\n",
              "      <td>No phone service</td>\n",
              "      <td>DSL</td>\n",
              "      <td>0</td>\n",
              "      <td>1</td>\n",
              "      <td>0</td>\n",
              "      <td>0</td>\n",
              "      <td>0</td>\n",
              "      <td>0</td>\n",
              "      <td>Month-to-month</td>\n",
              "      <td>1</td>\n",
              "      <td>Electronic check</td>\n",
              "      <td>29.85</td>\n",
              "      <td>29.85</td>\n",
              "      <td>0</td>\n",
              "    </tr>\n",
              "    <tr>\n",
              "      <th>1</th>\n",
              "      <td>Male</td>\n",
              "      <td>0</td>\n",
              "      <td>0</td>\n",
              "      <td>0</td>\n",
              "      <td>34</td>\n",
              "      <td>1</td>\n",
              "      <td>0</td>\n",
              "      <td>DSL</td>\n",
              "      <td>1</td>\n",
              "      <td>0</td>\n",
              "      <td>1</td>\n",
              "      <td>0</td>\n",
              "      <td>0</td>\n",
              "      <td>0</td>\n",
              "      <td>One year</td>\n",
              "      <td>0</td>\n",
              "      <td>Mailed check</td>\n",
              "      <td>56.95</td>\n",
              "      <td>1889.50</td>\n",
              "      <td>0</td>\n",
              "    </tr>\n",
              "    <tr>\n",
              "      <th>2</th>\n",
              "      <td>Male</td>\n",
              "      <td>0</td>\n",
              "      <td>0</td>\n",
              "      <td>0</td>\n",
              "      <td>2</td>\n",
              "      <td>1</td>\n",
              "      <td>0</td>\n",
              "      <td>DSL</td>\n",
              "      <td>1</td>\n",
              "      <td>1</td>\n",
              "      <td>0</td>\n",
              "      <td>0</td>\n",
              "      <td>0</td>\n",
              "      <td>0</td>\n",
              "      <td>Month-to-month</td>\n",
              "      <td>1</td>\n",
              "      <td>Mailed check</td>\n",
              "      <td>53.85</td>\n",
              "      <td>108.15</td>\n",
              "      <td>1</td>\n",
              "    </tr>\n",
              "    <tr>\n",
              "      <th>3</th>\n",
              "      <td>Male</td>\n",
              "      <td>0</td>\n",
              "      <td>0</td>\n",
              "      <td>0</td>\n",
              "      <td>45</td>\n",
              "      <td>0</td>\n",
              "      <td>No phone service</td>\n",
              "      <td>DSL</td>\n",
              "      <td>1</td>\n",
              "      <td>0</td>\n",
              "      <td>1</td>\n",
              "      <td>1</td>\n",
              "      <td>0</td>\n",
              "      <td>0</td>\n",
              "      <td>One year</td>\n",
              "      <td>0</td>\n",
              "      <td>Bank transfer (automatic)</td>\n",
              "      <td>42.30</td>\n",
              "      <td>1840.75</td>\n",
              "      <td>0</td>\n",
              "    </tr>\n",
              "    <tr>\n",
              "      <th>4</th>\n",
              "      <td>Female</td>\n",
              "      <td>0</td>\n",
              "      <td>0</td>\n",
              "      <td>0</td>\n",
              "      <td>2</td>\n",
              "      <td>1</td>\n",
              "      <td>0</td>\n",
              "      <td>Fiber optic</td>\n",
              "      <td>0</td>\n",
              "      <td>0</td>\n",
              "      <td>0</td>\n",
              "      <td>0</td>\n",
              "      <td>0</td>\n",
              "      <td>0</td>\n",
              "      <td>Month-to-month</td>\n",
              "      <td>1</td>\n",
              "      <td>Electronic check</td>\n",
              "      <td>70.70</td>\n",
              "      <td>151.65</td>\n",
              "      <td>1</td>\n",
              "    </tr>\n",
              "    <tr>\n",
              "      <th>...</th>\n",
              "      <td>...</td>\n",
              "      <td>...</td>\n",
              "      <td>...</td>\n",
              "      <td>...</td>\n",
              "      <td>...</td>\n",
              "      <td>...</td>\n",
              "      <td>...</td>\n",
              "      <td>...</td>\n",
              "      <td>...</td>\n",
              "      <td>...</td>\n",
              "      <td>...</td>\n",
              "      <td>...</td>\n",
              "      <td>...</td>\n",
              "      <td>...</td>\n",
              "      <td>...</td>\n",
              "      <td>...</td>\n",
              "      <td>...</td>\n",
              "      <td>...</td>\n",
              "      <td>...</td>\n",
              "      <td>...</td>\n",
              "    </tr>\n",
              "    <tr>\n",
              "      <th>7038</th>\n",
              "      <td>Male</td>\n",
              "      <td>0</td>\n",
              "      <td>1</td>\n",
              "      <td>1</td>\n",
              "      <td>24</td>\n",
              "      <td>1</td>\n",
              "      <td>1</td>\n",
              "      <td>DSL</td>\n",
              "      <td>1</td>\n",
              "      <td>0</td>\n",
              "      <td>1</td>\n",
              "      <td>1</td>\n",
              "      <td>1</td>\n",
              "      <td>1</td>\n",
              "      <td>One year</td>\n",
              "      <td>1</td>\n",
              "      <td>Mailed check</td>\n",
              "      <td>84.80</td>\n",
              "      <td>1990.50</td>\n",
              "      <td>0</td>\n",
              "    </tr>\n",
              "    <tr>\n",
              "      <th>7039</th>\n",
              "      <td>Female</td>\n",
              "      <td>0</td>\n",
              "      <td>1</td>\n",
              "      <td>1</td>\n",
              "      <td>72</td>\n",
              "      <td>1</td>\n",
              "      <td>1</td>\n",
              "      <td>Fiber optic</td>\n",
              "      <td>0</td>\n",
              "      <td>1</td>\n",
              "      <td>1</td>\n",
              "      <td>0</td>\n",
              "      <td>1</td>\n",
              "      <td>1</td>\n",
              "      <td>One year</td>\n",
              "      <td>1</td>\n",
              "      <td>Credit card (automatic)</td>\n",
              "      <td>103.20</td>\n",
              "      <td>7362.90</td>\n",
              "      <td>0</td>\n",
              "    </tr>\n",
              "    <tr>\n",
              "      <th>7040</th>\n",
              "      <td>Female</td>\n",
              "      <td>0</td>\n",
              "      <td>1</td>\n",
              "      <td>1</td>\n",
              "      <td>11</td>\n",
              "      <td>0</td>\n",
              "      <td>No phone service</td>\n",
              "      <td>DSL</td>\n",
              "      <td>1</td>\n",
              "      <td>0</td>\n",
              "      <td>0</td>\n",
              "      <td>0</td>\n",
              "      <td>0</td>\n",
              "      <td>0</td>\n",
              "      <td>Month-to-month</td>\n",
              "      <td>1</td>\n",
              "      <td>Electronic check</td>\n",
              "      <td>29.60</td>\n",
              "      <td>346.45</td>\n",
              "      <td>0</td>\n",
              "    </tr>\n",
              "    <tr>\n",
              "      <th>7041</th>\n",
              "      <td>Male</td>\n",
              "      <td>1</td>\n",
              "      <td>1</td>\n",
              "      <td>0</td>\n",
              "      <td>4</td>\n",
              "      <td>1</td>\n",
              "      <td>1</td>\n",
              "      <td>Fiber optic</td>\n",
              "      <td>0</td>\n",
              "      <td>0</td>\n",
              "      <td>0</td>\n",
              "      <td>0</td>\n",
              "      <td>0</td>\n",
              "      <td>0</td>\n",
              "      <td>Month-to-month</td>\n",
              "      <td>1</td>\n",
              "      <td>Mailed check</td>\n",
              "      <td>74.40</td>\n",
              "      <td>306.60</td>\n",
              "      <td>1</td>\n",
              "    </tr>\n",
              "    <tr>\n",
              "      <th>7042</th>\n",
              "      <td>Male</td>\n",
              "      <td>0</td>\n",
              "      <td>0</td>\n",
              "      <td>0</td>\n",
              "      <td>66</td>\n",
              "      <td>1</td>\n",
              "      <td>0</td>\n",
              "      <td>Fiber optic</td>\n",
              "      <td>1</td>\n",
              "      <td>0</td>\n",
              "      <td>1</td>\n",
              "      <td>1</td>\n",
              "      <td>1</td>\n",
              "      <td>1</td>\n",
              "      <td>Two year</td>\n",
              "      <td>1</td>\n",
              "      <td>Bank transfer (automatic)</td>\n",
              "      <td>105.65</td>\n",
              "      <td>6844.50</td>\n",
              "      <td>0</td>\n",
              "    </tr>\n",
              "  </tbody>\n",
              "</table>\n",
              "<p>7032 rows × 20 columns</p>\n",
              "</div>\n",
              "      <button class=\"colab-df-convert\" onclick=\"convertToInteractive('df-ab3fb1ef-ae36-4e5b-8d59-18db5909a798')\"\n",
              "              title=\"Convert this dataframe to an interactive table.\"\n",
              "              style=\"display:none;\">\n",
              "        \n",
              "  <svg xmlns=\"http://www.w3.org/2000/svg\" height=\"24px\"viewBox=\"0 0 24 24\"\n",
              "       width=\"24px\">\n",
              "    <path d=\"M0 0h24v24H0V0z\" fill=\"none\"/>\n",
              "    <path d=\"M18.56 5.44l.94 2.06.94-2.06 2.06-.94-2.06-.94-.94-2.06-.94 2.06-2.06.94zm-11 1L8.5 8.5l.94-2.06 2.06-.94-2.06-.94L8.5 2.5l-.94 2.06-2.06.94zm10 10l.94 2.06.94-2.06 2.06-.94-2.06-.94-.94-2.06-.94 2.06-2.06.94z\"/><path d=\"M17.41 7.96l-1.37-1.37c-.4-.4-.92-.59-1.43-.59-.52 0-1.04.2-1.43.59L10.3 9.45l-7.72 7.72c-.78.78-.78 2.05 0 2.83L4 21.41c.39.39.9.59 1.41.59.51 0 1.02-.2 1.41-.59l7.78-7.78 2.81-2.81c.8-.78.8-2.07 0-2.86zM5.41 20L4 18.59l7.72-7.72 1.47 1.35L5.41 20z\"/>\n",
              "  </svg>\n",
              "      </button>\n",
              "      \n",
              "  <style>\n",
              "    .colab-df-container {\n",
              "      display:flex;\n",
              "      flex-wrap:wrap;\n",
              "      gap: 12px;\n",
              "    }\n",
              "\n",
              "    .colab-df-convert {\n",
              "      background-color: #E8F0FE;\n",
              "      border: none;\n",
              "      border-radius: 50%;\n",
              "      cursor: pointer;\n",
              "      display: none;\n",
              "      fill: #1967D2;\n",
              "      height: 32px;\n",
              "      padding: 0 0 0 0;\n",
              "      width: 32px;\n",
              "    }\n",
              "\n",
              "    .colab-df-convert:hover {\n",
              "      background-color: #E2EBFA;\n",
              "      box-shadow: 0px 1px 2px rgba(60, 64, 67, 0.3), 0px 1px 3px 1px rgba(60, 64, 67, 0.15);\n",
              "      fill: #174EA6;\n",
              "    }\n",
              "\n",
              "    [theme=dark] .colab-df-convert {\n",
              "      background-color: #3B4455;\n",
              "      fill: #D2E3FC;\n",
              "    }\n",
              "\n",
              "    [theme=dark] .colab-df-convert:hover {\n",
              "      background-color: #434B5C;\n",
              "      box-shadow: 0px 1px 3px 1px rgba(0, 0, 0, 0.15);\n",
              "      filter: drop-shadow(0px 1px 2px rgba(0, 0, 0, 0.3));\n",
              "      fill: #FFFFFF;\n",
              "    }\n",
              "  </style>\n",
              "\n",
              "      <script>\n",
              "        const buttonEl =\n",
              "          document.querySelector('#df-ab3fb1ef-ae36-4e5b-8d59-18db5909a798 button.colab-df-convert');\n",
              "        buttonEl.style.display =\n",
              "          google.colab.kernel.accessAllowed ? 'block' : 'none';\n",
              "\n",
              "        async function convertToInteractive(key) {\n",
              "          const element = document.querySelector('#df-ab3fb1ef-ae36-4e5b-8d59-18db5909a798');\n",
              "          const dataTable =\n",
              "            await google.colab.kernel.invokeFunction('convertToInteractive',\n",
              "                                                     [key], {});\n",
              "          if (!dataTable) return;\n",
              "\n",
              "          const docLinkHtml = 'Like what you see? Visit the ' +\n",
              "            '<a target=\"_blank\" href=https://colab.research.google.com/notebooks/data_table.ipynb>data table notebook</a>'\n",
              "            + ' to learn more about interactive tables.';\n",
              "          element.innerHTML = '';\n",
              "          dataTable['output_type'] = 'display_data';\n",
              "          await google.colab.output.renderOutput(dataTable, element);\n",
              "          const docLink = document.createElement('div');\n",
              "          docLink.innerHTML = docLinkHtml;\n",
              "          element.appendChild(docLink);\n",
              "        }\n",
              "      </script>\n",
              "    </div>\n",
              "  </div>\n",
              "  "
            ],
            "text/plain": [
              "      gender  SeniorCitizen  Partner  ...  MonthlyCharges  TotalCharges  Churn\n",
              "0     Female              0        1  ...           29.85         29.85      0\n",
              "1       Male              0        0  ...           56.95       1889.50      0\n",
              "2       Male              0        0  ...           53.85        108.15      1\n",
              "3       Male              0        0  ...           42.30       1840.75      0\n",
              "4     Female              0        0  ...           70.70        151.65      1\n",
              "...      ...            ...      ...  ...             ...           ...    ...\n",
              "7038    Male              0        1  ...           84.80       1990.50      0\n",
              "7039  Female              0        1  ...          103.20       7362.90      0\n",
              "7040  Female              0        1  ...           29.60        346.45      0\n",
              "7041    Male              1        1  ...           74.40        306.60      1\n",
              "7042    Male              0        0  ...          105.65       6844.50      0\n",
              "\n",
              "[7032 rows x 20 columns]"
            ]
          },
          "metadata": {},
          "execution_count": 36
        }
      ]
    },
    {
      "cell_type": "code",
      "source": [
        "df1['gender'].unique()"
      ],
      "metadata": {
        "colab": {
          "base_uri": "https://localhost:8080/"
        },
        "id": "iF8aAmnmKnWK",
        "outputId": "1128da17-e212-4ab8-bbdd-fbc82eb6a9af"
      },
      "execution_count": 37,
      "outputs": [
        {
          "output_type": "execute_result",
          "data": {
            "text/plain": [
              "array(['Female', 'Male'], dtype=object)"
            ]
          },
          "metadata": {},
          "execution_count": 37
        }
      ]
    },
    {
      "cell_type": "code",
      "source": [
        "#replaced categories with the numeric value\n",
        "df1['gender']=df1['gender'].replace({'Female':1,'Male':0})\n",
        "df1['MultipleLines']=df1['MultipleLines'].replace('No phone service',0)\n",
        "df1=df1.replace('No internet service',0)"
      ],
      "metadata": {
        "id": "H9ScuX5Zq90k"
      },
      "execution_count": 38,
      "outputs": []
    },
    {
      "cell_type": "code",
      "source": [
        "df2=pd.get_dummies(data=df1,columns=['InternetService','Contract','PaymentMethod'])\n"
      ],
      "metadata": {
        "id": "7oOqyBBiKqQv"
      },
      "execution_count": 39,
      "outputs": []
    },
    {
      "cell_type": "code",
      "source": [
        "df2.head()"
      ],
      "metadata": {
        "colab": {
          "base_uri": "https://localhost:8080/",
          "height": 305
        },
        "id": "-1Od5Ut_Lw67",
        "outputId": "e8251f44-5c79-4d38-c48f-552ec6c00952"
      },
      "execution_count": 40,
      "outputs": [
        {
          "output_type": "execute_result",
          "data": {
            "text/html": [
              "\n",
              "  <div id=\"df-e5f70784-347c-47c3-940c-4b0abd635e2e\">\n",
              "    <div class=\"colab-df-container\">\n",
              "      <div>\n",
              "<style scoped>\n",
              "    .dataframe tbody tr th:only-of-type {\n",
              "        vertical-align: middle;\n",
              "    }\n",
              "\n",
              "    .dataframe tbody tr th {\n",
              "        vertical-align: top;\n",
              "    }\n",
              "\n",
              "    .dataframe thead th {\n",
              "        text-align: right;\n",
              "    }\n",
              "</style>\n",
              "<table border=\"1\" class=\"dataframe\">\n",
              "  <thead>\n",
              "    <tr style=\"text-align: right;\">\n",
              "      <th></th>\n",
              "      <th>gender</th>\n",
              "      <th>SeniorCitizen</th>\n",
              "      <th>Partner</th>\n",
              "      <th>Dependents</th>\n",
              "      <th>tenure</th>\n",
              "      <th>PhoneService</th>\n",
              "      <th>MultipleLines</th>\n",
              "      <th>OnlineSecurity</th>\n",
              "      <th>OnlineBackup</th>\n",
              "      <th>DeviceProtection</th>\n",
              "      <th>TechSupport</th>\n",
              "      <th>StreamingTV</th>\n",
              "      <th>StreamingMovies</th>\n",
              "      <th>PaperlessBilling</th>\n",
              "      <th>MonthlyCharges</th>\n",
              "      <th>TotalCharges</th>\n",
              "      <th>Churn</th>\n",
              "      <th>InternetService_DSL</th>\n",
              "      <th>InternetService_Fiber optic</th>\n",
              "      <th>InternetService_No</th>\n",
              "      <th>Contract_Month-to-month</th>\n",
              "      <th>Contract_One year</th>\n",
              "      <th>Contract_Two year</th>\n",
              "      <th>PaymentMethod_Bank transfer (automatic)</th>\n",
              "      <th>PaymentMethod_Credit card (automatic)</th>\n",
              "      <th>PaymentMethod_Electronic check</th>\n",
              "      <th>PaymentMethod_Mailed check</th>\n",
              "    </tr>\n",
              "  </thead>\n",
              "  <tbody>\n",
              "    <tr>\n",
              "      <th>0</th>\n",
              "      <td>1</td>\n",
              "      <td>0</td>\n",
              "      <td>1</td>\n",
              "      <td>0</td>\n",
              "      <td>1</td>\n",
              "      <td>0</td>\n",
              "      <td>0</td>\n",
              "      <td>0</td>\n",
              "      <td>1</td>\n",
              "      <td>0</td>\n",
              "      <td>0</td>\n",
              "      <td>0</td>\n",
              "      <td>0</td>\n",
              "      <td>1</td>\n",
              "      <td>29.85</td>\n",
              "      <td>29.85</td>\n",
              "      <td>0</td>\n",
              "      <td>1</td>\n",
              "      <td>0</td>\n",
              "      <td>0</td>\n",
              "      <td>1</td>\n",
              "      <td>0</td>\n",
              "      <td>0</td>\n",
              "      <td>0</td>\n",
              "      <td>0</td>\n",
              "      <td>1</td>\n",
              "      <td>0</td>\n",
              "    </tr>\n",
              "    <tr>\n",
              "      <th>1</th>\n",
              "      <td>0</td>\n",
              "      <td>0</td>\n",
              "      <td>0</td>\n",
              "      <td>0</td>\n",
              "      <td>34</td>\n",
              "      <td>1</td>\n",
              "      <td>0</td>\n",
              "      <td>1</td>\n",
              "      <td>0</td>\n",
              "      <td>1</td>\n",
              "      <td>0</td>\n",
              "      <td>0</td>\n",
              "      <td>0</td>\n",
              "      <td>0</td>\n",
              "      <td>56.95</td>\n",
              "      <td>1889.50</td>\n",
              "      <td>0</td>\n",
              "      <td>1</td>\n",
              "      <td>0</td>\n",
              "      <td>0</td>\n",
              "      <td>0</td>\n",
              "      <td>1</td>\n",
              "      <td>0</td>\n",
              "      <td>0</td>\n",
              "      <td>0</td>\n",
              "      <td>0</td>\n",
              "      <td>1</td>\n",
              "    </tr>\n",
              "    <tr>\n",
              "      <th>2</th>\n",
              "      <td>0</td>\n",
              "      <td>0</td>\n",
              "      <td>0</td>\n",
              "      <td>0</td>\n",
              "      <td>2</td>\n",
              "      <td>1</td>\n",
              "      <td>0</td>\n",
              "      <td>1</td>\n",
              "      <td>1</td>\n",
              "      <td>0</td>\n",
              "      <td>0</td>\n",
              "      <td>0</td>\n",
              "      <td>0</td>\n",
              "      <td>1</td>\n",
              "      <td>53.85</td>\n",
              "      <td>108.15</td>\n",
              "      <td>1</td>\n",
              "      <td>1</td>\n",
              "      <td>0</td>\n",
              "      <td>0</td>\n",
              "      <td>1</td>\n",
              "      <td>0</td>\n",
              "      <td>0</td>\n",
              "      <td>0</td>\n",
              "      <td>0</td>\n",
              "      <td>0</td>\n",
              "      <td>1</td>\n",
              "    </tr>\n",
              "    <tr>\n",
              "      <th>3</th>\n",
              "      <td>0</td>\n",
              "      <td>0</td>\n",
              "      <td>0</td>\n",
              "      <td>0</td>\n",
              "      <td>45</td>\n",
              "      <td>0</td>\n",
              "      <td>0</td>\n",
              "      <td>1</td>\n",
              "      <td>0</td>\n",
              "      <td>1</td>\n",
              "      <td>1</td>\n",
              "      <td>0</td>\n",
              "      <td>0</td>\n",
              "      <td>0</td>\n",
              "      <td>42.30</td>\n",
              "      <td>1840.75</td>\n",
              "      <td>0</td>\n",
              "      <td>1</td>\n",
              "      <td>0</td>\n",
              "      <td>0</td>\n",
              "      <td>0</td>\n",
              "      <td>1</td>\n",
              "      <td>0</td>\n",
              "      <td>1</td>\n",
              "      <td>0</td>\n",
              "      <td>0</td>\n",
              "      <td>0</td>\n",
              "    </tr>\n",
              "    <tr>\n",
              "      <th>4</th>\n",
              "      <td>1</td>\n",
              "      <td>0</td>\n",
              "      <td>0</td>\n",
              "      <td>0</td>\n",
              "      <td>2</td>\n",
              "      <td>1</td>\n",
              "      <td>0</td>\n",
              "      <td>0</td>\n",
              "      <td>0</td>\n",
              "      <td>0</td>\n",
              "      <td>0</td>\n",
              "      <td>0</td>\n",
              "      <td>0</td>\n",
              "      <td>1</td>\n",
              "      <td>70.70</td>\n",
              "      <td>151.65</td>\n",
              "      <td>1</td>\n",
              "      <td>0</td>\n",
              "      <td>1</td>\n",
              "      <td>0</td>\n",
              "      <td>1</td>\n",
              "      <td>0</td>\n",
              "      <td>0</td>\n",
              "      <td>0</td>\n",
              "      <td>0</td>\n",
              "      <td>1</td>\n",
              "      <td>0</td>\n",
              "    </tr>\n",
              "  </tbody>\n",
              "</table>\n",
              "</div>\n",
              "      <button class=\"colab-df-convert\" onclick=\"convertToInteractive('df-e5f70784-347c-47c3-940c-4b0abd635e2e')\"\n",
              "              title=\"Convert this dataframe to an interactive table.\"\n",
              "              style=\"display:none;\">\n",
              "        \n",
              "  <svg xmlns=\"http://www.w3.org/2000/svg\" height=\"24px\"viewBox=\"0 0 24 24\"\n",
              "       width=\"24px\">\n",
              "    <path d=\"M0 0h24v24H0V0z\" fill=\"none\"/>\n",
              "    <path d=\"M18.56 5.44l.94 2.06.94-2.06 2.06-.94-2.06-.94-.94-2.06-.94 2.06-2.06.94zm-11 1L8.5 8.5l.94-2.06 2.06-.94-2.06-.94L8.5 2.5l-.94 2.06-2.06.94zm10 10l.94 2.06.94-2.06 2.06-.94-2.06-.94-.94-2.06-.94 2.06-2.06.94z\"/><path d=\"M17.41 7.96l-1.37-1.37c-.4-.4-.92-.59-1.43-.59-.52 0-1.04.2-1.43.59L10.3 9.45l-7.72 7.72c-.78.78-.78 2.05 0 2.83L4 21.41c.39.39.9.59 1.41.59.51 0 1.02-.2 1.41-.59l7.78-7.78 2.81-2.81c.8-.78.8-2.07 0-2.86zM5.41 20L4 18.59l7.72-7.72 1.47 1.35L5.41 20z\"/>\n",
              "  </svg>\n",
              "      </button>\n",
              "      \n",
              "  <style>\n",
              "    .colab-df-container {\n",
              "      display:flex;\n",
              "      flex-wrap:wrap;\n",
              "      gap: 12px;\n",
              "    }\n",
              "\n",
              "    .colab-df-convert {\n",
              "      background-color: #E8F0FE;\n",
              "      border: none;\n",
              "      border-radius: 50%;\n",
              "      cursor: pointer;\n",
              "      display: none;\n",
              "      fill: #1967D2;\n",
              "      height: 32px;\n",
              "      padding: 0 0 0 0;\n",
              "      width: 32px;\n",
              "    }\n",
              "\n",
              "    .colab-df-convert:hover {\n",
              "      background-color: #E2EBFA;\n",
              "      box-shadow: 0px 1px 2px rgba(60, 64, 67, 0.3), 0px 1px 3px 1px rgba(60, 64, 67, 0.15);\n",
              "      fill: #174EA6;\n",
              "    }\n",
              "\n",
              "    [theme=dark] .colab-df-convert {\n",
              "      background-color: #3B4455;\n",
              "      fill: #D2E3FC;\n",
              "    }\n",
              "\n",
              "    [theme=dark] .colab-df-convert:hover {\n",
              "      background-color: #434B5C;\n",
              "      box-shadow: 0px 1px 3px 1px rgba(0, 0, 0, 0.15);\n",
              "      filter: drop-shadow(0px 1px 2px rgba(0, 0, 0, 0.3));\n",
              "      fill: #FFFFFF;\n",
              "    }\n",
              "  </style>\n",
              "\n",
              "      <script>\n",
              "        const buttonEl =\n",
              "          document.querySelector('#df-e5f70784-347c-47c3-940c-4b0abd635e2e button.colab-df-convert');\n",
              "        buttonEl.style.display =\n",
              "          google.colab.kernel.accessAllowed ? 'block' : 'none';\n",
              "\n",
              "        async function convertToInteractive(key) {\n",
              "          const element = document.querySelector('#df-e5f70784-347c-47c3-940c-4b0abd635e2e');\n",
              "          const dataTable =\n",
              "            await google.colab.kernel.invokeFunction('convertToInteractive',\n",
              "                                                     [key], {});\n",
              "          if (!dataTable) return;\n",
              "\n",
              "          const docLinkHtml = 'Like what you see? Visit the ' +\n",
              "            '<a target=\"_blank\" href=https://colab.research.google.com/notebooks/data_table.ipynb>data table notebook</a>'\n",
              "            + ' to learn more about interactive tables.';\n",
              "          element.innerHTML = '';\n",
              "          dataTable['output_type'] = 'display_data';\n",
              "          await google.colab.output.renderOutput(dataTable, element);\n",
              "          const docLink = document.createElement('div');\n",
              "          docLink.innerHTML = docLinkHtml;\n",
              "          element.appendChild(docLink);\n",
              "        }\n",
              "      </script>\n",
              "    </div>\n",
              "  </div>\n",
              "  "
            ],
            "text/plain": [
              "   gender  ...  PaymentMethod_Mailed check\n",
              "0       1  ...                           0\n",
              "1       0  ...                           1\n",
              "2       0  ...                           1\n",
              "3       0  ...                           0\n",
              "4       1  ...                           0\n",
              "\n",
              "[5 rows x 27 columns]"
            ]
          },
          "metadata": {},
          "execution_count": 40
        }
      ]
    },
    {
      "cell_type": "code",
      "source": [
        "df2.shape"
      ],
      "metadata": {
        "colab": {
          "base_uri": "https://localhost:8080/"
        },
        "id": "8SWOCcVULyOP",
        "outputId": "47580594-fea6-4368-eb4c-a54bef4983c9"
      },
      "execution_count": 41,
      "outputs": [
        {
          "output_type": "execute_result",
          "data": {
            "text/plain": [
              "(7032, 27)"
            ]
          },
          "metadata": {},
          "execution_count": 41
        }
      ]
    },
    {
      "cell_type": "code",
      "source": [
        "df2.info()"
      ],
      "metadata": {
        "colab": {
          "base_uri": "https://localhost:8080/"
        },
        "id": "a39olNmhL3UX",
        "outputId": "63968947-f44e-4e45-adea-8265a85b4413"
      },
      "execution_count": 42,
      "outputs": [
        {
          "output_type": "stream",
          "name": "stdout",
          "text": [
            "<class 'pandas.core.frame.DataFrame'>\n",
            "Int64Index: 7032 entries, 0 to 7042\n",
            "Data columns (total 27 columns):\n",
            " #   Column                                   Non-Null Count  Dtype  \n",
            "---  ------                                   --------------  -----  \n",
            " 0   gender                                   7032 non-null   int64  \n",
            " 1   SeniorCitizen                            7032 non-null   int64  \n",
            " 2   Partner                                  7032 non-null   int64  \n",
            " 3   Dependents                               7032 non-null   int64  \n",
            " 4   tenure                                   7032 non-null   int64  \n",
            " 5   PhoneService                             7032 non-null   int64  \n",
            " 6   MultipleLines                            7032 non-null   int64  \n",
            " 7   OnlineSecurity                           7032 non-null   int64  \n",
            " 8   OnlineBackup                             7032 non-null   int64  \n",
            " 9   DeviceProtection                         7032 non-null   int64  \n",
            " 10  TechSupport                              7032 non-null   int64  \n",
            " 11  StreamingTV                              7032 non-null   int64  \n",
            " 12  StreamingMovies                          7032 non-null   int64  \n",
            " 13  PaperlessBilling                         7032 non-null   int64  \n",
            " 14  MonthlyCharges                           7032 non-null   float64\n",
            " 15  TotalCharges                             7032 non-null   float64\n",
            " 16  Churn                                    7032 non-null   int64  \n",
            " 17  InternetService_DSL                      7032 non-null   uint8  \n",
            " 18  InternetService_Fiber optic              7032 non-null   uint8  \n",
            " 19  InternetService_No                       7032 non-null   uint8  \n",
            " 20  Contract_Month-to-month                  7032 non-null   uint8  \n",
            " 21  Contract_One year                        7032 non-null   uint8  \n",
            " 22  Contract_Two year                        7032 non-null   uint8  \n",
            " 23  PaymentMethod_Bank transfer (automatic)  7032 non-null   uint8  \n",
            " 24  PaymentMethod_Credit card (automatic)    7032 non-null   uint8  \n",
            " 25  PaymentMethod_Electronic check           7032 non-null   uint8  \n",
            " 26  PaymentMethod_Mailed check               7032 non-null   uint8  \n",
            "dtypes: float64(2), int64(15), uint8(10)\n",
            "memory usage: 1.3 MB\n"
          ]
        }
      ]
    },
    {
      "cell_type": "code",
      "source": [
        "df2.sample(5)"
      ],
      "metadata": {
        "colab": {
          "base_uri": "https://localhost:8080/",
          "height": 305
        },
        "id": "dMaEOjc5L7VQ",
        "outputId": "c9dfaa3b-a105-4539-905e-44badcb7504d"
      },
      "execution_count": 43,
      "outputs": [
        {
          "output_type": "execute_result",
          "data": {
            "text/html": [
              "\n",
              "  <div id=\"df-c81221ea-e669-4f71-a8dc-6cc7215676cf\">\n",
              "    <div class=\"colab-df-container\">\n",
              "      <div>\n",
              "<style scoped>\n",
              "    .dataframe tbody tr th:only-of-type {\n",
              "        vertical-align: middle;\n",
              "    }\n",
              "\n",
              "    .dataframe tbody tr th {\n",
              "        vertical-align: top;\n",
              "    }\n",
              "\n",
              "    .dataframe thead th {\n",
              "        text-align: right;\n",
              "    }\n",
              "</style>\n",
              "<table border=\"1\" class=\"dataframe\">\n",
              "  <thead>\n",
              "    <tr style=\"text-align: right;\">\n",
              "      <th></th>\n",
              "      <th>gender</th>\n",
              "      <th>SeniorCitizen</th>\n",
              "      <th>Partner</th>\n",
              "      <th>Dependents</th>\n",
              "      <th>tenure</th>\n",
              "      <th>PhoneService</th>\n",
              "      <th>MultipleLines</th>\n",
              "      <th>OnlineSecurity</th>\n",
              "      <th>OnlineBackup</th>\n",
              "      <th>DeviceProtection</th>\n",
              "      <th>TechSupport</th>\n",
              "      <th>StreamingTV</th>\n",
              "      <th>StreamingMovies</th>\n",
              "      <th>PaperlessBilling</th>\n",
              "      <th>MonthlyCharges</th>\n",
              "      <th>TotalCharges</th>\n",
              "      <th>Churn</th>\n",
              "      <th>InternetService_DSL</th>\n",
              "      <th>InternetService_Fiber optic</th>\n",
              "      <th>InternetService_No</th>\n",
              "      <th>Contract_Month-to-month</th>\n",
              "      <th>Contract_One year</th>\n",
              "      <th>Contract_Two year</th>\n",
              "      <th>PaymentMethod_Bank transfer (automatic)</th>\n",
              "      <th>PaymentMethod_Credit card (automatic)</th>\n",
              "      <th>PaymentMethod_Electronic check</th>\n",
              "      <th>PaymentMethod_Mailed check</th>\n",
              "    </tr>\n",
              "  </thead>\n",
              "  <tbody>\n",
              "    <tr>\n",
              "      <th>5605</th>\n",
              "      <td>0</td>\n",
              "      <td>0</td>\n",
              "      <td>1</td>\n",
              "      <td>1</td>\n",
              "      <td>10</td>\n",
              "      <td>1</td>\n",
              "      <td>0</td>\n",
              "      <td>0</td>\n",
              "      <td>0</td>\n",
              "      <td>1</td>\n",
              "      <td>0</td>\n",
              "      <td>1</td>\n",
              "      <td>0</td>\n",
              "      <td>0</td>\n",
              "      <td>60.20</td>\n",
              "      <td>563.5</td>\n",
              "      <td>0</td>\n",
              "      <td>1</td>\n",
              "      <td>0</td>\n",
              "      <td>0</td>\n",
              "      <td>1</td>\n",
              "      <td>0</td>\n",
              "      <td>0</td>\n",
              "      <td>0</td>\n",
              "      <td>0</td>\n",
              "      <td>0</td>\n",
              "      <td>1</td>\n",
              "    </tr>\n",
              "    <tr>\n",
              "      <th>3033</th>\n",
              "      <td>1</td>\n",
              "      <td>0</td>\n",
              "      <td>1</td>\n",
              "      <td>0</td>\n",
              "      <td>68</td>\n",
              "      <td>1</td>\n",
              "      <td>1</td>\n",
              "      <td>1</td>\n",
              "      <td>1</td>\n",
              "      <td>1</td>\n",
              "      <td>0</td>\n",
              "      <td>1</td>\n",
              "      <td>1</td>\n",
              "      <td>1</td>\n",
              "      <td>110.80</td>\n",
              "      <td>7553.6</td>\n",
              "      <td>0</td>\n",
              "      <td>0</td>\n",
              "      <td>1</td>\n",
              "      <td>0</td>\n",
              "      <td>0</td>\n",
              "      <td>0</td>\n",
              "      <td>1</td>\n",
              "      <td>1</td>\n",
              "      <td>0</td>\n",
              "      <td>0</td>\n",
              "      <td>0</td>\n",
              "    </tr>\n",
              "    <tr>\n",
              "      <th>3985</th>\n",
              "      <td>0</td>\n",
              "      <td>1</td>\n",
              "      <td>1</td>\n",
              "      <td>0</td>\n",
              "      <td>16</td>\n",
              "      <td>1</td>\n",
              "      <td>0</td>\n",
              "      <td>1</td>\n",
              "      <td>1</td>\n",
              "      <td>0</td>\n",
              "      <td>0</td>\n",
              "      <td>0</td>\n",
              "      <td>0</td>\n",
              "      <td>1</td>\n",
              "      <td>54.55</td>\n",
              "      <td>825.1</td>\n",
              "      <td>0</td>\n",
              "      <td>1</td>\n",
              "      <td>0</td>\n",
              "      <td>0</td>\n",
              "      <td>1</td>\n",
              "      <td>0</td>\n",
              "      <td>0</td>\n",
              "      <td>1</td>\n",
              "      <td>0</td>\n",
              "      <td>0</td>\n",
              "      <td>0</td>\n",
              "    </tr>\n",
              "    <tr>\n",
              "      <th>4426</th>\n",
              "      <td>1</td>\n",
              "      <td>0</td>\n",
              "      <td>0</td>\n",
              "      <td>1</td>\n",
              "      <td>16</td>\n",
              "      <td>1</td>\n",
              "      <td>1</td>\n",
              "      <td>0</td>\n",
              "      <td>0</td>\n",
              "      <td>0</td>\n",
              "      <td>1</td>\n",
              "      <td>0</td>\n",
              "      <td>0</td>\n",
              "      <td>1</td>\n",
              "      <td>79.50</td>\n",
              "      <td>1264.2</td>\n",
              "      <td>0</td>\n",
              "      <td>0</td>\n",
              "      <td>1</td>\n",
              "      <td>0</td>\n",
              "      <td>0</td>\n",
              "      <td>1</td>\n",
              "      <td>0</td>\n",
              "      <td>0</td>\n",
              "      <td>1</td>\n",
              "      <td>0</td>\n",
              "      <td>0</td>\n",
              "    </tr>\n",
              "    <tr>\n",
              "      <th>1512</th>\n",
              "      <td>1</td>\n",
              "      <td>0</td>\n",
              "      <td>1</td>\n",
              "      <td>1</td>\n",
              "      <td>14</td>\n",
              "      <td>1</td>\n",
              "      <td>1</td>\n",
              "      <td>0</td>\n",
              "      <td>0</td>\n",
              "      <td>0</td>\n",
              "      <td>0</td>\n",
              "      <td>1</td>\n",
              "      <td>0</td>\n",
              "      <td>1</td>\n",
              "      <td>84.80</td>\n",
              "      <td>1203.9</td>\n",
              "      <td>0</td>\n",
              "      <td>0</td>\n",
              "      <td>1</td>\n",
              "      <td>0</td>\n",
              "      <td>1</td>\n",
              "      <td>0</td>\n",
              "      <td>0</td>\n",
              "      <td>0</td>\n",
              "      <td>0</td>\n",
              "      <td>1</td>\n",
              "      <td>0</td>\n",
              "    </tr>\n",
              "  </tbody>\n",
              "</table>\n",
              "</div>\n",
              "      <button class=\"colab-df-convert\" onclick=\"convertToInteractive('df-c81221ea-e669-4f71-a8dc-6cc7215676cf')\"\n",
              "              title=\"Convert this dataframe to an interactive table.\"\n",
              "              style=\"display:none;\">\n",
              "        \n",
              "  <svg xmlns=\"http://www.w3.org/2000/svg\" height=\"24px\"viewBox=\"0 0 24 24\"\n",
              "       width=\"24px\">\n",
              "    <path d=\"M0 0h24v24H0V0z\" fill=\"none\"/>\n",
              "    <path d=\"M18.56 5.44l.94 2.06.94-2.06 2.06-.94-2.06-.94-.94-2.06-.94 2.06-2.06.94zm-11 1L8.5 8.5l.94-2.06 2.06-.94-2.06-.94L8.5 2.5l-.94 2.06-2.06.94zm10 10l.94 2.06.94-2.06 2.06-.94-2.06-.94-.94-2.06-.94 2.06-2.06.94z\"/><path d=\"M17.41 7.96l-1.37-1.37c-.4-.4-.92-.59-1.43-.59-.52 0-1.04.2-1.43.59L10.3 9.45l-7.72 7.72c-.78.78-.78 2.05 0 2.83L4 21.41c.39.39.9.59 1.41.59.51 0 1.02-.2 1.41-.59l7.78-7.78 2.81-2.81c.8-.78.8-2.07 0-2.86zM5.41 20L4 18.59l7.72-7.72 1.47 1.35L5.41 20z\"/>\n",
              "  </svg>\n",
              "      </button>\n",
              "      \n",
              "  <style>\n",
              "    .colab-df-container {\n",
              "      display:flex;\n",
              "      flex-wrap:wrap;\n",
              "      gap: 12px;\n",
              "    }\n",
              "\n",
              "    .colab-df-convert {\n",
              "      background-color: #E8F0FE;\n",
              "      border: none;\n",
              "      border-radius: 50%;\n",
              "      cursor: pointer;\n",
              "      display: none;\n",
              "      fill: #1967D2;\n",
              "      height: 32px;\n",
              "      padding: 0 0 0 0;\n",
              "      width: 32px;\n",
              "    }\n",
              "\n",
              "    .colab-df-convert:hover {\n",
              "      background-color: #E2EBFA;\n",
              "      box-shadow: 0px 1px 2px rgba(60, 64, 67, 0.3), 0px 1px 3px 1px rgba(60, 64, 67, 0.15);\n",
              "      fill: #174EA6;\n",
              "    }\n",
              "\n",
              "    [theme=dark] .colab-df-convert {\n",
              "      background-color: #3B4455;\n",
              "      fill: #D2E3FC;\n",
              "    }\n",
              "\n",
              "    [theme=dark] .colab-df-convert:hover {\n",
              "      background-color: #434B5C;\n",
              "      box-shadow: 0px 1px 3px 1px rgba(0, 0, 0, 0.15);\n",
              "      filter: drop-shadow(0px 1px 2px rgba(0, 0, 0, 0.3));\n",
              "      fill: #FFFFFF;\n",
              "    }\n",
              "  </style>\n",
              "\n",
              "      <script>\n",
              "        const buttonEl =\n",
              "          document.querySelector('#df-c81221ea-e669-4f71-a8dc-6cc7215676cf button.colab-df-convert');\n",
              "        buttonEl.style.display =\n",
              "          google.colab.kernel.accessAllowed ? 'block' : 'none';\n",
              "\n",
              "        async function convertToInteractive(key) {\n",
              "          const element = document.querySelector('#df-c81221ea-e669-4f71-a8dc-6cc7215676cf');\n",
              "          const dataTable =\n",
              "            await google.colab.kernel.invokeFunction('convertToInteractive',\n",
              "                                                     [key], {});\n",
              "          if (!dataTable) return;\n",
              "\n",
              "          const docLinkHtml = 'Like what you see? Visit the ' +\n",
              "            '<a target=\"_blank\" href=https://colab.research.google.com/notebooks/data_table.ipynb>data table notebook</a>'\n",
              "            + ' to learn more about interactive tables.';\n",
              "          element.innerHTML = '';\n",
              "          dataTable['output_type'] = 'display_data';\n",
              "          await google.colab.output.renderOutput(dataTable, element);\n",
              "          const docLink = document.createElement('div');\n",
              "          docLink.innerHTML = docLinkHtml;\n",
              "          element.appendChild(docLink);\n",
              "        }\n",
              "      </script>\n",
              "    </div>\n",
              "  </div>\n",
              "  "
            ],
            "text/plain": [
              "      gender  ...  PaymentMethod_Mailed check\n",
              "5605       0  ...                           1\n",
              "3033       1  ...                           0\n",
              "3985       0  ...                           0\n",
              "4426       1  ...                           0\n",
              "1512       1  ...                           0\n",
              "\n",
              "[5 rows x 27 columns]"
            ]
          },
          "metadata": {},
          "execution_count": 43
        }
      ]
    },
    {
      "cell_type": "markdown",
      "source": [
        "Normalize the data into one scale"
      ],
      "metadata": {
        "id": "oCM-PfsOs5ab"
      }
    },
    {
      "cell_type": "code",
      "source": [
        "cols_to_scale=['tenure','MonthlyCharges','TotalCharges']\n",
        "\n",
        "from sklearn.preprocessing import MinMaxScaler\n",
        "scaler=MinMaxScaler()\n",
        "df2[cols_to_scale]=scaler.fit_transform(df2[cols_to_scale])\n",
        "df2\n",
        "\n"
      ],
      "metadata": {
        "colab": {
          "base_uri": "https://localhost:8080/",
          "height": 522
        },
        "id": "ovjR_0tcSNqg",
        "outputId": "0357e7cf-0b5d-4c15-89c1-71c7b7792343"
      },
      "execution_count": 44,
      "outputs": [
        {
          "output_type": "execute_result",
          "data": {
            "text/html": [
              "\n",
              "  <div id=\"df-1441b52d-fc11-4799-af0c-cecc1055ca14\">\n",
              "    <div class=\"colab-df-container\">\n",
              "      <div>\n",
              "<style scoped>\n",
              "    .dataframe tbody tr th:only-of-type {\n",
              "        vertical-align: middle;\n",
              "    }\n",
              "\n",
              "    .dataframe tbody tr th {\n",
              "        vertical-align: top;\n",
              "    }\n",
              "\n",
              "    .dataframe thead th {\n",
              "        text-align: right;\n",
              "    }\n",
              "</style>\n",
              "<table border=\"1\" class=\"dataframe\">\n",
              "  <thead>\n",
              "    <tr style=\"text-align: right;\">\n",
              "      <th></th>\n",
              "      <th>gender</th>\n",
              "      <th>SeniorCitizen</th>\n",
              "      <th>Partner</th>\n",
              "      <th>Dependents</th>\n",
              "      <th>tenure</th>\n",
              "      <th>PhoneService</th>\n",
              "      <th>MultipleLines</th>\n",
              "      <th>OnlineSecurity</th>\n",
              "      <th>OnlineBackup</th>\n",
              "      <th>DeviceProtection</th>\n",
              "      <th>TechSupport</th>\n",
              "      <th>StreamingTV</th>\n",
              "      <th>StreamingMovies</th>\n",
              "      <th>PaperlessBilling</th>\n",
              "      <th>MonthlyCharges</th>\n",
              "      <th>TotalCharges</th>\n",
              "      <th>Churn</th>\n",
              "      <th>InternetService_DSL</th>\n",
              "      <th>InternetService_Fiber optic</th>\n",
              "      <th>InternetService_No</th>\n",
              "      <th>Contract_Month-to-month</th>\n",
              "      <th>Contract_One year</th>\n",
              "      <th>Contract_Two year</th>\n",
              "      <th>PaymentMethod_Bank transfer (automatic)</th>\n",
              "      <th>PaymentMethod_Credit card (automatic)</th>\n",
              "      <th>PaymentMethod_Electronic check</th>\n",
              "      <th>PaymentMethod_Mailed check</th>\n",
              "    </tr>\n",
              "  </thead>\n",
              "  <tbody>\n",
              "    <tr>\n",
              "      <th>0</th>\n",
              "      <td>1</td>\n",
              "      <td>0</td>\n",
              "      <td>1</td>\n",
              "      <td>0</td>\n",
              "      <td>0.000000</td>\n",
              "      <td>0</td>\n",
              "      <td>0</td>\n",
              "      <td>0</td>\n",
              "      <td>1</td>\n",
              "      <td>0</td>\n",
              "      <td>0</td>\n",
              "      <td>0</td>\n",
              "      <td>0</td>\n",
              "      <td>1</td>\n",
              "      <td>0.115423</td>\n",
              "      <td>0.001275</td>\n",
              "      <td>0</td>\n",
              "      <td>1</td>\n",
              "      <td>0</td>\n",
              "      <td>0</td>\n",
              "      <td>1</td>\n",
              "      <td>0</td>\n",
              "      <td>0</td>\n",
              "      <td>0</td>\n",
              "      <td>0</td>\n",
              "      <td>1</td>\n",
              "      <td>0</td>\n",
              "    </tr>\n",
              "    <tr>\n",
              "      <th>1</th>\n",
              "      <td>0</td>\n",
              "      <td>0</td>\n",
              "      <td>0</td>\n",
              "      <td>0</td>\n",
              "      <td>0.464789</td>\n",
              "      <td>1</td>\n",
              "      <td>0</td>\n",
              "      <td>1</td>\n",
              "      <td>0</td>\n",
              "      <td>1</td>\n",
              "      <td>0</td>\n",
              "      <td>0</td>\n",
              "      <td>0</td>\n",
              "      <td>0</td>\n",
              "      <td>0.385075</td>\n",
              "      <td>0.215867</td>\n",
              "      <td>0</td>\n",
              "      <td>1</td>\n",
              "      <td>0</td>\n",
              "      <td>0</td>\n",
              "      <td>0</td>\n",
              "      <td>1</td>\n",
              "      <td>0</td>\n",
              "      <td>0</td>\n",
              "      <td>0</td>\n",
              "      <td>0</td>\n",
              "      <td>1</td>\n",
              "    </tr>\n",
              "    <tr>\n",
              "      <th>2</th>\n",
              "      <td>0</td>\n",
              "      <td>0</td>\n",
              "      <td>0</td>\n",
              "      <td>0</td>\n",
              "      <td>0.014085</td>\n",
              "      <td>1</td>\n",
              "      <td>0</td>\n",
              "      <td>1</td>\n",
              "      <td>1</td>\n",
              "      <td>0</td>\n",
              "      <td>0</td>\n",
              "      <td>0</td>\n",
              "      <td>0</td>\n",
              "      <td>1</td>\n",
              "      <td>0.354229</td>\n",
              "      <td>0.010310</td>\n",
              "      <td>1</td>\n",
              "      <td>1</td>\n",
              "      <td>0</td>\n",
              "      <td>0</td>\n",
              "      <td>1</td>\n",
              "      <td>0</td>\n",
              "      <td>0</td>\n",
              "      <td>0</td>\n",
              "      <td>0</td>\n",
              "      <td>0</td>\n",
              "      <td>1</td>\n",
              "    </tr>\n",
              "    <tr>\n",
              "      <th>3</th>\n",
              "      <td>0</td>\n",
              "      <td>0</td>\n",
              "      <td>0</td>\n",
              "      <td>0</td>\n",
              "      <td>0.619718</td>\n",
              "      <td>0</td>\n",
              "      <td>0</td>\n",
              "      <td>1</td>\n",
              "      <td>0</td>\n",
              "      <td>1</td>\n",
              "      <td>1</td>\n",
              "      <td>0</td>\n",
              "      <td>0</td>\n",
              "      <td>0</td>\n",
              "      <td>0.239303</td>\n",
              "      <td>0.210241</td>\n",
              "      <td>0</td>\n",
              "      <td>1</td>\n",
              "      <td>0</td>\n",
              "      <td>0</td>\n",
              "      <td>0</td>\n",
              "      <td>1</td>\n",
              "      <td>0</td>\n",
              "      <td>1</td>\n",
              "      <td>0</td>\n",
              "      <td>0</td>\n",
              "      <td>0</td>\n",
              "    </tr>\n",
              "    <tr>\n",
              "      <th>4</th>\n",
              "      <td>1</td>\n",
              "      <td>0</td>\n",
              "      <td>0</td>\n",
              "      <td>0</td>\n",
              "      <td>0.014085</td>\n",
              "      <td>1</td>\n",
              "      <td>0</td>\n",
              "      <td>0</td>\n",
              "      <td>0</td>\n",
              "      <td>0</td>\n",
              "      <td>0</td>\n",
              "      <td>0</td>\n",
              "      <td>0</td>\n",
              "      <td>1</td>\n",
              "      <td>0.521891</td>\n",
              "      <td>0.015330</td>\n",
              "      <td>1</td>\n",
              "      <td>0</td>\n",
              "      <td>1</td>\n",
              "      <td>0</td>\n",
              "      <td>1</td>\n",
              "      <td>0</td>\n",
              "      <td>0</td>\n",
              "      <td>0</td>\n",
              "      <td>0</td>\n",
              "      <td>1</td>\n",
              "      <td>0</td>\n",
              "    </tr>\n",
              "    <tr>\n",
              "      <th>...</th>\n",
              "      <td>...</td>\n",
              "      <td>...</td>\n",
              "      <td>...</td>\n",
              "      <td>...</td>\n",
              "      <td>...</td>\n",
              "      <td>...</td>\n",
              "      <td>...</td>\n",
              "      <td>...</td>\n",
              "      <td>...</td>\n",
              "      <td>...</td>\n",
              "      <td>...</td>\n",
              "      <td>...</td>\n",
              "      <td>...</td>\n",
              "      <td>...</td>\n",
              "      <td>...</td>\n",
              "      <td>...</td>\n",
              "      <td>...</td>\n",
              "      <td>...</td>\n",
              "      <td>...</td>\n",
              "      <td>...</td>\n",
              "      <td>...</td>\n",
              "      <td>...</td>\n",
              "      <td>...</td>\n",
              "      <td>...</td>\n",
              "      <td>...</td>\n",
              "      <td>...</td>\n",
              "      <td>...</td>\n",
              "    </tr>\n",
              "    <tr>\n",
              "      <th>7038</th>\n",
              "      <td>0</td>\n",
              "      <td>0</td>\n",
              "      <td>1</td>\n",
              "      <td>1</td>\n",
              "      <td>0.323944</td>\n",
              "      <td>1</td>\n",
              "      <td>1</td>\n",
              "      <td>1</td>\n",
              "      <td>0</td>\n",
              "      <td>1</td>\n",
              "      <td>1</td>\n",
              "      <td>1</td>\n",
              "      <td>1</td>\n",
              "      <td>1</td>\n",
              "      <td>0.662189</td>\n",
              "      <td>0.227521</td>\n",
              "      <td>0</td>\n",
              "      <td>1</td>\n",
              "      <td>0</td>\n",
              "      <td>0</td>\n",
              "      <td>0</td>\n",
              "      <td>1</td>\n",
              "      <td>0</td>\n",
              "      <td>0</td>\n",
              "      <td>0</td>\n",
              "      <td>0</td>\n",
              "      <td>1</td>\n",
              "    </tr>\n",
              "    <tr>\n",
              "      <th>7039</th>\n",
              "      <td>1</td>\n",
              "      <td>0</td>\n",
              "      <td>1</td>\n",
              "      <td>1</td>\n",
              "      <td>1.000000</td>\n",
              "      <td>1</td>\n",
              "      <td>1</td>\n",
              "      <td>0</td>\n",
              "      <td>1</td>\n",
              "      <td>1</td>\n",
              "      <td>0</td>\n",
              "      <td>1</td>\n",
              "      <td>1</td>\n",
              "      <td>1</td>\n",
              "      <td>0.845274</td>\n",
              "      <td>0.847461</td>\n",
              "      <td>0</td>\n",
              "      <td>0</td>\n",
              "      <td>1</td>\n",
              "      <td>0</td>\n",
              "      <td>0</td>\n",
              "      <td>1</td>\n",
              "      <td>0</td>\n",
              "      <td>0</td>\n",
              "      <td>1</td>\n",
              "      <td>0</td>\n",
              "      <td>0</td>\n",
              "    </tr>\n",
              "    <tr>\n",
              "      <th>7040</th>\n",
              "      <td>1</td>\n",
              "      <td>0</td>\n",
              "      <td>1</td>\n",
              "      <td>1</td>\n",
              "      <td>0.140845</td>\n",
              "      <td>0</td>\n",
              "      <td>0</td>\n",
              "      <td>1</td>\n",
              "      <td>0</td>\n",
              "      <td>0</td>\n",
              "      <td>0</td>\n",
              "      <td>0</td>\n",
              "      <td>0</td>\n",
              "      <td>1</td>\n",
              "      <td>0.112935</td>\n",
              "      <td>0.037809</td>\n",
              "      <td>0</td>\n",
              "      <td>1</td>\n",
              "      <td>0</td>\n",
              "      <td>0</td>\n",
              "      <td>1</td>\n",
              "      <td>0</td>\n",
              "      <td>0</td>\n",
              "      <td>0</td>\n",
              "      <td>0</td>\n",
              "      <td>1</td>\n",
              "      <td>0</td>\n",
              "    </tr>\n",
              "    <tr>\n",
              "      <th>7041</th>\n",
              "      <td>0</td>\n",
              "      <td>1</td>\n",
              "      <td>1</td>\n",
              "      <td>0</td>\n",
              "      <td>0.042254</td>\n",
              "      <td>1</td>\n",
              "      <td>1</td>\n",
              "      <td>0</td>\n",
              "      <td>0</td>\n",
              "      <td>0</td>\n",
              "      <td>0</td>\n",
              "      <td>0</td>\n",
              "      <td>0</td>\n",
              "      <td>1</td>\n",
              "      <td>0.558706</td>\n",
              "      <td>0.033210</td>\n",
              "      <td>1</td>\n",
              "      <td>0</td>\n",
              "      <td>1</td>\n",
              "      <td>0</td>\n",
              "      <td>1</td>\n",
              "      <td>0</td>\n",
              "      <td>0</td>\n",
              "      <td>0</td>\n",
              "      <td>0</td>\n",
              "      <td>0</td>\n",
              "      <td>1</td>\n",
              "    </tr>\n",
              "    <tr>\n",
              "      <th>7042</th>\n",
              "      <td>0</td>\n",
              "      <td>0</td>\n",
              "      <td>0</td>\n",
              "      <td>0</td>\n",
              "      <td>0.915493</td>\n",
              "      <td>1</td>\n",
              "      <td>0</td>\n",
              "      <td>1</td>\n",
              "      <td>0</td>\n",
              "      <td>1</td>\n",
              "      <td>1</td>\n",
              "      <td>1</td>\n",
              "      <td>1</td>\n",
              "      <td>1</td>\n",
              "      <td>0.869652</td>\n",
              "      <td>0.787641</td>\n",
              "      <td>0</td>\n",
              "      <td>0</td>\n",
              "      <td>1</td>\n",
              "      <td>0</td>\n",
              "      <td>0</td>\n",
              "      <td>0</td>\n",
              "      <td>1</td>\n",
              "      <td>1</td>\n",
              "      <td>0</td>\n",
              "      <td>0</td>\n",
              "      <td>0</td>\n",
              "    </tr>\n",
              "  </tbody>\n",
              "</table>\n",
              "<p>7032 rows × 27 columns</p>\n",
              "</div>\n",
              "      <button class=\"colab-df-convert\" onclick=\"convertToInteractive('df-1441b52d-fc11-4799-af0c-cecc1055ca14')\"\n",
              "              title=\"Convert this dataframe to an interactive table.\"\n",
              "              style=\"display:none;\">\n",
              "        \n",
              "  <svg xmlns=\"http://www.w3.org/2000/svg\" height=\"24px\"viewBox=\"0 0 24 24\"\n",
              "       width=\"24px\">\n",
              "    <path d=\"M0 0h24v24H0V0z\" fill=\"none\"/>\n",
              "    <path d=\"M18.56 5.44l.94 2.06.94-2.06 2.06-.94-2.06-.94-.94-2.06-.94 2.06-2.06.94zm-11 1L8.5 8.5l.94-2.06 2.06-.94-2.06-.94L8.5 2.5l-.94 2.06-2.06.94zm10 10l.94 2.06.94-2.06 2.06-.94-2.06-.94-.94-2.06-.94 2.06-2.06.94z\"/><path d=\"M17.41 7.96l-1.37-1.37c-.4-.4-.92-.59-1.43-.59-.52 0-1.04.2-1.43.59L10.3 9.45l-7.72 7.72c-.78.78-.78 2.05 0 2.83L4 21.41c.39.39.9.59 1.41.59.51 0 1.02-.2 1.41-.59l7.78-7.78 2.81-2.81c.8-.78.8-2.07 0-2.86zM5.41 20L4 18.59l7.72-7.72 1.47 1.35L5.41 20z\"/>\n",
              "  </svg>\n",
              "      </button>\n",
              "      \n",
              "  <style>\n",
              "    .colab-df-container {\n",
              "      display:flex;\n",
              "      flex-wrap:wrap;\n",
              "      gap: 12px;\n",
              "    }\n",
              "\n",
              "    .colab-df-convert {\n",
              "      background-color: #E8F0FE;\n",
              "      border: none;\n",
              "      border-radius: 50%;\n",
              "      cursor: pointer;\n",
              "      display: none;\n",
              "      fill: #1967D2;\n",
              "      height: 32px;\n",
              "      padding: 0 0 0 0;\n",
              "      width: 32px;\n",
              "    }\n",
              "\n",
              "    .colab-df-convert:hover {\n",
              "      background-color: #E2EBFA;\n",
              "      box-shadow: 0px 1px 2px rgba(60, 64, 67, 0.3), 0px 1px 3px 1px rgba(60, 64, 67, 0.15);\n",
              "      fill: #174EA6;\n",
              "    }\n",
              "\n",
              "    [theme=dark] .colab-df-convert {\n",
              "      background-color: #3B4455;\n",
              "      fill: #D2E3FC;\n",
              "    }\n",
              "\n",
              "    [theme=dark] .colab-df-convert:hover {\n",
              "      background-color: #434B5C;\n",
              "      box-shadow: 0px 1px 3px 1px rgba(0, 0, 0, 0.15);\n",
              "      filter: drop-shadow(0px 1px 2px rgba(0, 0, 0, 0.3));\n",
              "      fill: #FFFFFF;\n",
              "    }\n",
              "  </style>\n",
              "\n",
              "      <script>\n",
              "        const buttonEl =\n",
              "          document.querySelector('#df-1441b52d-fc11-4799-af0c-cecc1055ca14 button.colab-df-convert');\n",
              "        buttonEl.style.display =\n",
              "          google.colab.kernel.accessAllowed ? 'block' : 'none';\n",
              "\n",
              "        async function convertToInteractive(key) {\n",
              "          const element = document.querySelector('#df-1441b52d-fc11-4799-af0c-cecc1055ca14');\n",
              "          const dataTable =\n",
              "            await google.colab.kernel.invokeFunction('convertToInteractive',\n",
              "                                                     [key], {});\n",
              "          if (!dataTable) return;\n",
              "\n",
              "          const docLinkHtml = 'Like what you see? Visit the ' +\n",
              "            '<a target=\"_blank\" href=https://colab.research.google.com/notebooks/data_table.ipynb>data table notebook</a>'\n",
              "            + ' to learn more about interactive tables.';\n",
              "          element.innerHTML = '';\n",
              "          dataTable['output_type'] = 'display_data';\n",
              "          await google.colab.output.renderOutput(dataTable, element);\n",
              "          const docLink = document.createElement('div');\n",
              "          docLink.innerHTML = docLinkHtml;\n",
              "          element.appendChild(docLink);\n",
              "        }\n",
              "      </script>\n",
              "    </div>\n",
              "  </div>\n",
              "  "
            ],
            "text/plain": [
              "      gender  ...  PaymentMethod_Mailed check\n",
              "0          1  ...                           0\n",
              "1          0  ...                           1\n",
              "2          0  ...                           1\n",
              "3          0  ...                           0\n",
              "4          1  ...                           0\n",
              "...      ...  ...                         ...\n",
              "7038       0  ...                           1\n",
              "7039       1  ...                           0\n",
              "7040       1  ...                           0\n",
              "7041       0  ...                           1\n",
              "7042       0  ...                           0\n",
              "\n",
              "[7032 rows x 27 columns]"
            ]
          },
          "metadata": {},
          "execution_count": 44
        }
      ]
    },
    {
      "cell_type": "code",
      "source": [
        "df2.sample()"
      ],
      "metadata": {
        "colab": {
          "base_uri": "https://localhost:8080/",
          "height": 179
        },
        "id": "5pPAXyjQe3-P",
        "outputId": "e49356a1-57df-4890-9c24-4a133433aaa7"
      },
      "execution_count": 45,
      "outputs": [
        {
          "output_type": "execute_result",
          "data": {
            "text/html": [
              "\n",
              "  <div id=\"df-8029f329-0e05-4d39-82ce-392069b4aa0f\">\n",
              "    <div class=\"colab-df-container\">\n",
              "      <div>\n",
              "<style scoped>\n",
              "    .dataframe tbody tr th:only-of-type {\n",
              "        vertical-align: middle;\n",
              "    }\n",
              "\n",
              "    .dataframe tbody tr th {\n",
              "        vertical-align: top;\n",
              "    }\n",
              "\n",
              "    .dataframe thead th {\n",
              "        text-align: right;\n",
              "    }\n",
              "</style>\n",
              "<table border=\"1\" class=\"dataframe\">\n",
              "  <thead>\n",
              "    <tr style=\"text-align: right;\">\n",
              "      <th></th>\n",
              "      <th>gender</th>\n",
              "      <th>SeniorCitizen</th>\n",
              "      <th>Partner</th>\n",
              "      <th>Dependents</th>\n",
              "      <th>tenure</th>\n",
              "      <th>PhoneService</th>\n",
              "      <th>MultipleLines</th>\n",
              "      <th>OnlineSecurity</th>\n",
              "      <th>OnlineBackup</th>\n",
              "      <th>DeviceProtection</th>\n",
              "      <th>TechSupport</th>\n",
              "      <th>StreamingTV</th>\n",
              "      <th>StreamingMovies</th>\n",
              "      <th>PaperlessBilling</th>\n",
              "      <th>MonthlyCharges</th>\n",
              "      <th>TotalCharges</th>\n",
              "      <th>Churn</th>\n",
              "      <th>InternetService_DSL</th>\n",
              "      <th>InternetService_Fiber optic</th>\n",
              "      <th>InternetService_No</th>\n",
              "      <th>Contract_Month-to-month</th>\n",
              "      <th>Contract_One year</th>\n",
              "      <th>Contract_Two year</th>\n",
              "      <th>PaymentMethod_Bank transfer (automatic)</th>\n",
              "      <th>PaymentMethod_Credit card (automatic)</th>\n",
              "      <th>PaymentMethod_Electronic check</th>\n",
              "      <th>PaymentMethod_Mailed check</th>\n",
              "    </tr>\n",
              "  </thead>\n",
              "  <tbody>\n",
              "    <tr>\n",
              "      <th>930</th>\n",
              "      <td>1</td>\n",
              "      <td>0</td>\n",
              "      <td>0</td>\n",
              "      <td>0</td>\n",
              "      <td>0.211268</td>\n",
              "      <td>1</td>\n",
              "      <td>0</td>\n",
              "      <td>0</td>\n",
              "      <td>1</td>\n",
              "      <td>0</td>\n",
              "      <td>0</td>\n",
              "      <td>0</td>\n",
              "      <td>0</td>\n",
              "      <td>0</td>\n",
              "      <td>0.565672</td>\n",
              "      <td>0.137786</td>\n",
              "      <td>0</td>\n",
              "      <td>0</td>\n",
              "      <td>1</td>\n",
              "      <td>0</td>\n",
              "      <td>1</td>\n",
              "      <td>0</td>\n",
              "      <td>0</td>\n",
              "      <td>1</td>\n",
              "      <td>0</td>\n",
              "      <td>0</td>\n",
              "      <td>0</td>\n",
              "    </tr>\n",
              "  </tbody>\n",
              "</table>\n",
              "</div>\n",
              "      <button class=\"colab-df-convert\" onclick=\"convertToInteractive('df-8029f329-0e05-4d39-82ce-392069b4aa0f')\"\n",
              "              title=\"Convert this dataframe to an interactive table.\"\n",
              "              style=\"display:none;\">\n",
              "        \n",
              "  <svg xmlns=\"http://www.w3.org/2000/svg\" height=\"24px\"viewBox=\"0 0 24 24\"\n",
              "       width=\"24px\">\n",
              "    <path d=\"M0 0h24v24H0V0z\" fill=\"none\"/>\n",
              "    <path d=\"M18.56 5.44l.94 2.06.94-2.06 2.06-.94-2.06-.94-.94-2.06-.94 2.06-2.06.94zm-11 1L8.5 8.5l.94-2.06 2.06-.94-2.06-.94L8.5 2.5l-.94 2.06-2.06.94zm10 10l.94 2.06.94-2.06 2.06-.94-2.06-.94-.94-2.06-.94 2.06-2.06.94z\"/><path d=\"M17.41 7.96l-1.37-1.37c-.4-.4-.92-.59-1.43-.59-.52 0-1.04.2-1.43.59L10.3 9.45l-7.72 7.72c-.78.78-.78 2.05 0 2.83L4 21.41c.39.39.9.59 1.41.59.51 0 1.02-.2 1.41-.59l7.78-7.78 2.81-2.81c.8-.78.8-2.07 0-2.86zM5.41 20L4 18.59l7.72-7.72 1.47 1.35L5.41 20z\"/>\n",
              "  </svg>\n",
              "      </button>\n",
              "      \n",
              "  <style>\n",
              "    .colab-df-container {\n",
              "      display:flex;\n",
              "      flex-wrap:wrap;\n",
              "      gap: 12px;\n",
              "    }\n",
              "\n",
              "    .colab-df-convert {\n",
              "      background-color: #E8F0FE;\n",
              "      border: none;\n",
              "      border-radius: 50%;\n",
              "      cursor: pointer;\n",
              "      display: none;\n",
              "      fill: #1967D2;\n",
              "      height: 32px;\n",
              "      padding: 0 0 0 0;\n",
              "      width: 32px;\n",
              "    }\n",
              "\n",
              "    .colab-df-convert:hover {\n",
              "      background-color: #E2EBFA;\n",
              "      box-shadow: 0px 1px 2px rgba(60, 64, 67, 0.3), 0px 1px 3px 1px rgba(60, 64, 67, 0.15);\n",
              "      fill: #174EA6;\n",
              "    }\n",
              "\n",
              "    [theme=dark] .colab-df-convert {\n",
              "      background-color: #3B4455;\n",
              "      fill: #D2E3FC;\n",
              "    }\n",
              "\n",
              "    [theme=dark] .colab-df-convert:hover {\n",
              "      background-color: #434B5C;\n",
              "      box-shadow: 0px 1px 3px 1px rgba(0, 0, 0, 0.15);\n",
              "      filter: drop-shadow(0px 1px 2px rgba(0, 0, 0, 0.3));\n",
              "      fill: #FFFFFF;\n",
              "    }\n",
              "  </style>\n",
              "\n",
              "      <script>\n",
              "        const buttonEl =\n",
              "          document.querySelector('#df-8029f329-0e05-4d39-82ce-392069b4aa0f button.colab-df-convert');\n",
              "        buttonEl.style.display =\n",
              "          google.colab.kernel.accessAllowed ? 'block' : 'none';\n",
              "\n",
              "        async function convertToInteractive(key) {\n",
              "          const element = document.querySelector('#df-8029f329-0e05-4d39-82ce-392069b4aa0f');\n",
              "          const dataTable =\n",
              "            await google.colab.kernel.invokeFunction('convertToInteractive',\n",
              "                                                     [key], {});\n",
              "          if (!dataTable) return;\n",
              "\n",
              "          const docLinkHtml = 'Like what you see? Visit the ' +\n",
              "            '<a target=\"_blank\" href=https://colab.research.google.com/notebooks/data_table.ipynb>data table notebook</a>'\n",
              "            + ' to learn more about interactive tables.';\n",
              "          element.innerHTML = '';\n",
              "          dataTable['output_type'] = 'display_data';\n",
              "          await google.colab.output.renderOutput(dataTable, element);\n",
              "          const docLink = document.createElement('div');\n",
              "          docLink.innerHTML = docLinkHtml;\n",
              "          element.appendChild(docLink);\n",
              "        }\n",
              "      </script>\n",
              "    </div>\n",
              "  </div>\n",
              "  "
            ],
            "text/plain": [
              "     gender  ...  PaymentMethod_Mailed check\n",
              "930       1  ...                           0\n",
              "\n",
              "[1 rows x 27 columns]"
            ]
          },
          "metadata": {},
          "execution_count": 45
        }
      ]
    },
    {
      "cell_type": "markdown",
      "source": [
        "Separate the Data into x and y then train and test."
      ],
      "metadata": {
        "id": "wsNgKjZHgVsu"
      }
    },
    {
      "cell_type": "code",
      "source": [
        "x=df2.drop('Churn',axis=1)  #input\n",
        "y=df2['Churn']              #output"
      ],
      "metadata": {
        "id": "76OasY2Qf0ck"
      },
      "execution_count": 46,
      "outputs": []
    },
    {
      "cell_type": "code",
      "source": [
        "from sklearn.model_selection import train_test_split\n",
        "x_train,x_test,y_train,y_test=train_test_split(x,y,test_size=0.2,random_state=272) \n",
        "#splitted train and test data into 80:20 \n",
        "\n"
      ],
      "metadata": {
        "id": "v3TliuR6gpe7"
      },
      "execution_count": 47,
      "outputs": []
    },
    {
      "cell_type": "code",
      "source": [
        "print(x_train.shape)\n",
        "print(x_test.shape)\n",
        "print(y_train.shape)\n",
        "print(y_test.shape)"
      ],
      "metadata": {
        "colab": {
          "base_uri": "https://localhost:8080/"
        },
        "id": "N8hI87Vxg7EF",
        "outputId": "03040ccb-a62d-4b87-d4ff-db6046920e3b"
      },
      "execution_count": 48,
      "outputs": [
        {
          "output_type": "stream",
          "name": "stdout",
          "text": [
            "(5625, 26)\n",
            "(1407, 26)\n",
            "(5625,)\n",
            "(1407,)\n"
          ]
        }
      ]
    },
    {
      "cell_type": "markdown",
      "source": [
        "## Model Builiding"
      ],
      "metadata": {
        "id": "JTWVLghcipxv"
      }
    },
    {
      "cell_type": "markdown",
      "source": [
        "A- without dealing with Unbalanced Data Problem"
      ],
      "metadata": {
        "id": "LosSxsoT7mU3"
      }
    },
    {
      "cell_type": "markdown",
      "source": [
        "### 1- Machine Learning Approach"
      ],
      "metadata": {
        "id": "-HajrF0olqVh"
      }
    },
    {
      "cell_type": "code",
      "source": [
        "np.arange(5,55,10)"
      ],
      "metadata": {
        "colab": {
          "base_uri": "https://localhost:8080/"
        },
        "id": "QfACVdswnCB5",
        "outputId": "a50b36a6-d218-405b-f2fb-674c054add1c"
      },
      "execution_count": 49,
      "outputs": [
        {
          "output_type": "execute_result",
          "data": {
            "text/plain": [
              "array([ 5, 15, 25, 35, 45])"
            ]
          },
          "metadata": {},
          "execution_count": 49
        }
      ]
    },
    {
      "cell_type": "markdown",
      "source": [
        "Random Forest Classifier"
      ],
      "metadata": {
        "id": "hREnCZ98saLx"
      }
    },
    {
      "cell_type": "code",
      "source": [
        "from sklearn.ensemble import RandomForestClassifier\n",
        "from sklearn.metrics import accuracy_score,classification_report,confusion_matrix\n",
        "accuracy=[]\n",
        "est=np.arange(100,1000,10)\n",
        "for i in est:\n",
        "  clf_rf = RandomForestClassifier(n_estimators=i ,random_state=1)      \n",
        "  clr_rf = clf_rf.fit(x_train,y_train)\n",
        "\n",
        "  ac = accuracy_score(y_test,clf_rf.predict(x_test))\n",
        "  accuracy.append(ac*100)\n",
        "print('Accuracy is: ',accuracy)\n"
      ],
      "metadata": {
        "colab": {
          "base_uri": "https://localhost:8080/"
        },
        "id": "Bw-2IDDfk2_j",
        "outputId": "eeec8bbe-ef90-412c-95b1-f08cb972b6bb"
      },
      "execution_count": 50,
      "outputs": [
        {
          "output_type": "stream",
          "name": "stdout",
          "text": [
            "Accuracy is:  [76.83013503909027, 76.90120824449183, 77.39872068230277, 77.25657427149964, 77.3276474769012, 77.46979388770433, 77.11442786069652, 76.97228144989339, 77.04335465529495, 77.18550106609808, 77.46979388770433, 77.18550106609808, 76.97228144989339, 77.04335465529495, 76.97228144989339, 77.11442786069652, 77.18550106609808, 77.3276474769012, 77.11442786069652, 77.25657427149964, 77.3276474769012, 77.3276474769012, 77.25657427149964, 77.18550106609808, 77.46979388770433, 77.18550106609808, 77.39872068230277, 77.39872068230277, 77.68301350390902, 77.46979388770433, 77.61194029850746, 77.61194029850746, 77.39872068230277, 77.39872068230277, 77.39872068230277, 77.46979388770433, 77.46979388770433, 77.25657427149964, 77.46979388770433, 77.46979388770433, 77.46979388770433, 77.46979388770433, 77.3276474769012, 77.25657427149964, 77.46979388770433, 77.46979388770433, 77.46979388770433, 77.5408670931059, 77.39872068230277, 77.46979388770433, 77.39872068230277, 77.46979388770433, 77.46979388770433, 77.5408670931059, 77.39872068230277, 77.3276474769012, 77.39872068230277, 77.39872068230277, 77.25657427149964, 77.3276474769012, 77.39872068230277, 77.5408670931059, 77.5408670931059, 77.46979388770433, 77.61194029850746, 77.46979388770433, 77.68301350390902, 77.68301350390902, 77.5408670931059, 77.46979388770433, 77.75408670931058, 77.75408670931058, 77.61194029850746, 77.61194029850746, 77.61194029850746, 77.68301350390902, 77.61194029850746, 77.75408670931058, 77.61194029850746, 77.5408670931059, 77.61194029850746, 77.46979388770433, 77.5408670931059, 77.46979388770433, 77.46979388770433, 77.46979388770433, 77.61194029850746, 77.61194029850746, 77.5408670931059, 77.68301350390902]\n"
          ]
        }
      ]
    },
    {
      "cell_type": "code",
      "source": [
        "plt.figure(figsize=(5,5))\n",
        "plt.plot(est,accuracy)\n",
        "plt.xlabel('No. Of Estimators')\n",
        "plt.ylabel('Accuracy')\n",
        "plt.title('Accuracy trade off!')\n",
        "plt.show()                    # we can say that no. of estimators are 800 should be optimal"
      ],
      "metadata": {
        "colab": {
          "base_uri": "https://localhost:8080/",
          "height": 350
        },
        "id": "5BEcG25gmMPN",
        "outputId": "556bee16-9fdf-4339-f191-57906d7a47c1"
      },
      "execution_count": 51,
      "outputs": [
        {
          "output_type": "display_data",
          "data": {
            "image/png": "[encoded data removed]",
            "text/plain": [
              "<Figure size 360x360 with 1 Axes>"
            ]
          },
          "metadata": {
            "needs_background": "light"
          }
        }
      ]
    },
    {
      "cell_type": "markdown",
      "source": [
        "Hyper parameter tunning Of Random Forest Classifier"
      ],
      "metadata": {
        "id": "lgptia6vsemP"
      }
    },
    {
      "cell_type": "code",
      "source": [
        "from  sklearn.model_selection import RandomizedSearchCV\n",
        "rf_c=RandomForestClassifier()\n",
        "param_grid={'n_estimators':[int(x) for x in np.linspace(start=200,stop=1200,num=11)],\n",
        "            'max_features':['auto','sqrt'],\n",
        "            'max_depth':[int(x) for x in np.linspace(start=10,stop=100,num=11)],\n",
        "            'min_samples_leaf':[1,2,3,5],\n",
        "            'min_samples_split':[2,5,10,15]}\n",
        "random_cv=RandomizedSearchCV(rf_c,param_grid,cv=3,verbose=2,random_state=42)\n",
        "random_cv.fit(x_train,y_train)\n",
        "best_random=random_cv.best_estimator_\n",
        "prediction_cv=best_random.predict(x_test)\n",
        "print('best estimators are : ',best_random)\n",
        "print(accuracy_score(y_test,prediction_cv))"
      ],
      "metadata": {
        "colab": {
          "base_uri": "https://localhost:8080/"
        },
        "id": "0kg3VKXRq_Uj",
        "outputId": "9c281357-56fb-46e2-84b9-11faf76726b6"
      },
      "execution_count": 52,
      "outputs": [
        {
          "output_type": "stream",
          "name": "stdout",
          "text": [
            "Fitting 3 folds for each of 10 candidates, totalling 30 fits\n",
            "[CV] END max_depth=91, max_features=auto, min_samples_leaf=1, min_samples_split=2, n_estimators=800; total time=   4.1s\n",
            "[CV] END max_depth=91, max_features=auto, min_samples_leaf=1, min_samples_split=2, n_estimators=800; total time=   4.1s\n",
            "[CV] END max_depth=91, max_features=auto, min_samples_leaf=1, min_samples_split=2, n_estimators=800; total time=   4.1s\n",
            "[CV] END max_depth=91, max_features=sqrt, min_samples_leaf=5, min_samples_split=10, n_estimators=1100; total time=   4.7s\n",
            "[CV] END max_depth=91, max_features=sqrt, min_samples_leaf=5, min_samples_split=10, n_estimators=1100; total time=   4.6s\n",
            "[CV] END max_depth=91, max_features=sqrt, min_samples_leaf=5, min_samples_split=10, n_estimators=1100; total time=   4.7s\n",
            "[CV] END max_depth=28, max_features=auto, min_samples_leaf=5, min_samples_split=10, n_estimators=400; total time=   1.7s\n",
            "[CV] END max_depth=28, max_features=auto, min_samples_leaf=5, min_samples_split=10, n_estimators=400; total time=   1.7s\n",
            "[CV] END max_depth=28, max_features=auto, min_samples_leaf=5, min_samples_split=10, n_estimators=400; total time=   1.7s\n",
            "[CV] END max_depth=37, max_features=sqrt, min_samples_leaf=2, min_samples_split=5, n_estimators=900; total time=   4.2s\n",
            "[CV] END max_depth=37, max_features=sqrt, min_samples_leaf=2, min_samples_split=5, n_estimators=900; total time=   4.2s\n",
            "[CV] END max_depth=37, max_features=sqrt, min_samples_leaf=2, min_samples_split=5, n_estimators=900; total time=   4.2s\n",
            "[CV] END max_depth=37, max_features=auto, min_samples_leaf=2, min_samples_split=10, n_estimators=1000; total time=   4.6s\n",
            "[CV] END max_depth=37, max_features=auto, min_samples_leaf=2, min_samples_split=10, n_estimators=1000; total time=   4.4s\n",
            "[CV] END max_depth=37, max_features=auto, min_samples_leaf=2, min_samples_split=10, n_estimators=1000; total time=   4.4s\n",
            "[CV] END max_depth=37, max_features=auto, min_samples_leaf=1, min_samples_split=15, n_estimators=800; total time=   3.5s\n",
            "[CV] END max_depth=37, max_features=auto, min_samples_leaf=1, min_samples_split=15, n_estimators=800; total time=   3.4s\n",
            "[CV] END max_depth=37, max_features=auto, min_samples_leaf=1, min_samples_split=15, n_estimators=800; total time=   3.5s\n",
            "[CV] END max_depth=100, max_features=sqrt, min_samples_leaf=2, min_samples_split=10, n_estimators=1200; total time=   5.7s\n",
            "[CV] END max_depth=100, max_features=sqrt, min_samples_leaf=2, min_samples_split=10, n_estimators=1200; total time=   6.2s\n",
            "[CV] END max_depth=100, max_features=sqrt, min_samples_leaf=2, min_samples_split=10, n_estimators=1200; total time=   5.3s\n",
            "[CV] END max_depth=82, max_features=sqrt, min_samples_leaf=3, min_samples_split=5, n_estimators=300; total time=   1.4s\n",
            "[CV] END max_depth=82, max_features=sqrt, min_samples_leaf=3, min_samples_split=5, n_estimators=300; total time=   1.3s\n",
            "[CV] END max_depth=82, max_features=sqrt, min_samples_leaf=3, min_samples_split=5, n_estimators=300; total time=   1.4s\n",
            "[CV] END max_depth=46, max_features=sqrt, min_samples_leaf=2, min_samples_split=2, n_estimators=1200; total time=   5.7s\n",
            "[CV] END max_depth=46, max_features=sqrt, min_samples_leaf=2, min_samples_split=2, n_estimators=1200; total time=   5.7s\n",
            "[CV] END max_depth=46, max_features=sqrt, min_samples_leaf=2, min_samples_split=2, n_estimators=1200; total time=   5.7s\n",
            "[CV] END max_depth=64, max_features=auto, min_samples_leaf=2, min_samples_split=5, n_estimators=400; total time=   1.9s\n",
            "[CV] END max_depth=64, max_features=auto, min_samples_leaf=2, min_samples_split=5, n_estimators=400; total time=   1.9s\n",
            "[CV] END max_depth=64, max_features=auto, min_samples_leaf=2, min_samples_split=5, n_estimators=400; total time=   1.9s\n",
            "best estimators are :  RandomForestClassifier(max_depth=28, min_samples_leaf=5, min_samples_split=10,\n",
            "                       n_estimators=400)\n",
            "0.7889125799573561\n"
          ]
        }
      ]
    },
    {
      "cell_type": "markdown",
      "source": [
        "2- Deep Learning Approach"
      ],
      "metadata": {
        "id": "Jm6GrqrioAwv"
      }
    },
    {
      "cell_type": "code",
      "source": [
        "import tensorflow as tf\n",
        "from tensorflow import keras"
      ],
      "metadata": {
        "id": "NXFp4lR0hG_L"
      },
      "execution_count": 53,
      "outputs": []
    },
    {
      "cell_type": "code",
      "source": [
        "model1=keras.Sequential([\n",
        "                        keras.layers.Dense(20,input_shape=(26,),activation='relu'),\n",
        "                        keras.layers.Dense(1,activation='sigmoid'),\n",
        "])\n",
        "\n",
        "model1.compile(optimizer='adam',\n",
        "              loss='binary_crossentropy',\n",
        "              metrics=['accuracy'])\n",
        "model1.fit(x_train,y_train,epochs=5,batch_size=8)\n"
      ],
      "metadata": {
        "colab": {
          "base_uri": "https://localhost:8080/"
        },
        "id": "6SXv4qx4kFqv",
        "outputId": "dc3745e9-0539-4bb2-bf8d-8a823808f3a3"
      },
      "execution_count": 54,
      "outputs": [
        {
          "output_type": "stream",
          "name": "stdout",
          "text": [
            "Epoch 1/5\n",
            "704/704 [==============================] - 2s 2ms/step - loss: 0.4792 - accuracy: 0.7600\n",
            "Epoch 2/5\n",
            "704/704 [==============================] - 1s 2ms/step - loss: 0.4264 - accuracy: 0.7964\n",
            "Epoch 3/5\n",
            "704/704 [==============================] - 1s 2ms/step - loss: 0.4192 - accuracy: 0.8016\n",
            "Epoch 4/5\n",
            "704/704 [==============================] - 1s 2ms/step - loss: 0.4163 - accuracy: 0.8043\n",
            "Epoch 5/5\n",
            "704/704 [==============================] - 1s 1ms/step - loss: 0.4147 - accuracy: 0.8004\n"
          ]
        },
        {
          "output_type": "execute_result",
          "data": {
            "text/plain": [
              "<keras.callbacks.History at 0x7f95f3461c90>"
            ]
          },
          "metadata": {},
          "execution_count": 54
        }
      ]
    },
    {
      "cell_type": "markdown",
      "source": [
        "Adding One more  hidden Layer"
      ],
      "metadata": {
        "id": "XA9CzAR0sOfn"
      }
    },
    {
      "cell_type": "code",
      "source": [
        "model2=keras.Sequential([\n",
        "                        keras.layers.Dense(20,input_shape=(26,),activation='relu'),\n",
        "                        keras.layers.Dense(10,activation='relu'),\n",
        "                        keras.layers.Dense(1,activation='sigmoid'),\n",
        "])\n",
        "\n",
        "model2.compile(optimizer='adam',\n",
        "              loss='binary_crossentropy',\n",
        "              metrics=['accuracy'])\n",
        "model2.fit(x_train,y_train,epochs=5,batch_size=8)"
      ],
      "metadata": {
        "colab": {
          "base_uri": "https://localhost:8080/"
        },
        "id": "p5k4XnnFlLUB",
        "outputId": "28f85491-3dd5-463e-a059-696182351943"
      },
      "execution_count": 55,
      "outputs": [
        {
          "output_type": "stream",
          "name": "stdout",
          "text": [
            "Epoch 1/5\n",
            "704/704 [==============================] - 2s 2ms/step - loss: 0.4699 - accuracy: 0.7579\n",
            "Epoch 2/5\n",
            "704/704 [==============================] - 1s 2ms/step - loss: 0.4285 - accuracy: 0.7916\n",
            "Epoch 3/5\n",
            "704/704 [==============================] - 1s 2ms/step - loss: 0.4214 - accuracy: 0.7959\n",
            "Epoch 4/5\n",
            "704/704 [==============================] - 1s 2ms/step - loss: 0.4180 - accuracy: 0.8005\n",
            "Epoch 5/5\n",
            "704/704 [==============================] - 1s 2ms/step - loss: 0.4148 - accuracy: 0.8039\n"
          ]
        },
        {
          "output_type": "execute_result",
          "data": {
            "text/plain": [
              "<keras.callbacks.History at 0x7f95f33e7750>"
            ]
          },
          "metadata": {},
          "execution_count": 55
        }
      ]
    },
    {
      "cell_type": "markdown",
      "source": [
        "adding dropout layers-----means just to avoid overfit and no need to repeat same nuron "
      ],
      "metadata": {
        "id": "iwnkXI72BlNT"
      }
    },
    {
      "cell_type": "code",
      "source": [
        "model3=tf.keras.Sequential([\n",
        "                            keras.layers.Dense(20,input_shape=(26,),activation='relu'),\n",
        "                            keras.layers.Dropout(0.2),\n",
        "                            keras.layers.Dense(100,activation='relu'),\n",
        "                            keras.layers.Dropout(0.3),\n",
        "                            keras.layers.Dense(1,activation='sigmoid')\n",
        "])\n",
        "model3.compile(optimizer='adam',loss='binary_crossentropy',metrics=['accuracy'])\n",
        "acc=[]\n",
        "model3.fit(x_train,y_train,epochs=100,batch_size=10)\n",
        "\n"
      ],
      "metadata": {
        "colab": {
          "base_uri": "https://localhost:8080/"
        },
        "id": "vToAyEK9BkTD",
        "outputId": "cea7b01f-803e-40a5-dd44-2ca10380b78c"
      },
      "execution_count": 56,
      "outputs": [
        {
          "output_type": "stream",
          "name": "stdout",
          "text": [
            "Epoch 1/100\n",
            "563/563 [==============================] - 2s 2ms/step - loss: 0.4644 - accuracy: 0.7664\n",
            "Epoch 2/100\n",
            "563/563 [==============================] - 1s 2ms/step - loss: 0.4371 - accuracy: 0.7865\n",
            "Epoch 3/100\n",
            "563/563 [==============================] - 1s 2ms/step - loss: 0.4311 - accuracy: 0.7918\n",
            "Epoch 4/100\n",
            "563/563 [==============================] - 1s 2ms/step - loss: 0.4248 - accuracy: 0.7964\n",
            "Epoch 5/100\n",
            "563/563 [==============================] - 1s 2ms/step - loss: 0.4254 - accuracy: 0.8020\n",
            "Epoch 6/100\n",
            "563/563 [==============================] - 1s 2ms/step - loss: 0.4257 - accuracy: 0.7970\n",
            "Epoch 7/100\n",
            "563/563 [==============================] - 1s 2ms/step - loss: 0.4196 - accuracy: 0.8004\n",
            "Epoch 8/100\n",
            "563/563 [==============================] - 1s 2ms/step - loss: 0.4164 - accuracy: 0.8048\n",
            "Epoch 9/100\n",
            "563/563 [==============================] - 1s 2ms/step - loss: 0.4163 - accuracy: 0.8036\n",
            "Epoch 10/100\n",
            "563/563 [==============================] - 1s 2ms/step - loss: 0.4143 - accuracy: 0.8039\n",
            "Epoch 11/100\n",
            "563/563 [==============================] - 1s 2ms/step - loss: 0.4185 - accuracy: 0.8062\n",
            "Epoch 12/100\n",
            "563/563 [==============================] - 1s 2ms/step - loss: 0.4164 - accuracy: 0.8055\n",
            "Epoch 13/100\n",
            "563/563 [==============================] - 1s 2ms/step - loss: 0.4124 - accuracy: 0.8084\n",
            "Epoch 14/100\n",
            "563/563 [==============================] - 1s 2ms/step - loss: 0.4116 - accuracy: 0.8105\n",
            "Epoch 15/100\n",
            "563/563 [==============================] - 1s 2ms/step - loss: 0.4124 - accuracy: 0.8092\n",
            "Epoch 16/100\n",
            "563/563 [==============================] - 1s 2ms/step - loss: 0.4088 - accuracy: 0.8137\n",
            "Epoch 17/100\n",
            "563/563 [==============================] - 1s 2ms/step - loss: 0.4087 - accuracy: 0.8112\n",
            "Epoch 18/100\n",
            "563/563 [==============================] - 1s 2ms/step - loss: 0.4074 - accuracy: 0.8117\n",
            "Epoch 19/100\n",
            "563/563 [==============================] - 1s 2ms/step - loss: 0.4048 - accuracy: 0.8089\n",
            "Epoch 20/100\n",
            "563/563 [==============================] - 1s 2ms/step - loss: 0.4061 - accuracy: 0.8126\n",
            "Epoch 21/100\n",
            "563/563 [==============================] - 1s 2ms/step - loss: 0.4068 - accuracy: 0.8148\n",
            "Epoch 22/100\n",
            "563/563 [==============================] - 1s 2ms/step - loss: 0.4064 - accuracy: 0.8119\n",
            "Epoch 23/100\n",
            "563/563 [==============================] - 1s 2ms/step - loss: 0.4026 - accuracy: 0.8180\n",
            "Epoch 24/100\n",
            "563/563 [==============================] - 1s 2ms/step - loss: 0.4002 - accuracy: 0.8140\n",
            "Epoch 25/100\n",
            "563/563 [==============================] - 1s 2ms/step - loss: 0.4060 - accuracy: 0.8142\n",
            "Epoch 26/100\n",
            "563/563 [==============================] - 1s 2ms/step - loss: 0.4030 - accuracy: 0.8112\n",
            "Epoch 27/100\n",
            "563/563 [==============================] - 1s 2ms/step - loss: 0.4016 - accuracy: 0.8116\n",
            "Epoch 28/100\n",
            "563/563 [==============================] - 1s 2ms/step - loss: 0.3980 - accuracy: 0.8169\n",
            "Epoch 29/100\n",
            "563/563 [==============================] - 1s 2ms/step - loss: 0.3987 - accuracy: 0.8151\n",
            "Epoch 30/100\n",
            "563/563 [==============================] - 1s 2ms/step - loss: 0.4017 - accuracy: 0.8158\n",
            "Epoch 31/100\n",
            "563/563 [==============================] - 1s 2ms/step - loss: 0.4004 - accuracy: 0.8178\n",
            "Epoch 32/100\n",
            "563/563 [==============================] - 1s 2ms/step - loss: 0.3965 - accuracy: 0.8215\n",
            "Epoch 33/100\n",
            "563/563 [==============================] - 1s 2ms/step - loss: 0.4039 - accuracy: 0.8130\n",
            "Epoch 34/100\n",
            "563/563 [==============================] - 1s 2ms/step - loss: 0.4012 - accuracy: 0.8126\n",
            "Epoch 35/100\n",
            "563/563 [==============================] - 1s 2ms/step - loss: 0.3946 - accuracy: 0.8206\n",
            "Epoch 36/100\n",
            "563/563 [==============================] - 1s 2ms/step - loss: 0.3948 - accuracy: 0.8185\n",
            "Epoch 37/100\n",
            "563/563 [==============================] - 1s 2ms/step - loss: 0.3995 - accuracy: 0.8160\n",
            "Epoch 38/100\n",
            "563/563 [==============================] - 1s 2ms/step - loss: 0.3967 - accuracy: 0.8167\n",
            "Epoch 39/100\n",
            "563/563 [==============================] - 1s 2ms/step - loss: 0.3951 - accuracy: 0.8187\n",
            "Epoch 40/100\n",
            "563/563 [==============================] - 1s 2ms/step - loss: 0.3965 - accuracy: 0.8156\n",
            "Epoch 41/100\n",
            "563/563 [==============================] - 1s 2ms/step - loss: 0.3942 - accuracy: 0.8203\n",
            "Epoch 42/100\n",
            "563/563 [==============================] - 1s 2ms/step - loss: 0.3951 - accuracy: 0.8178\n",
            "Epoch 43/100\n",
            "563/563 [==============================] - 1s 2ms/step - loss: 0.3920 - accuracy: 0.8245\n",
            "Epoch 44/100\n",
            "563/563 [==============================] - 1s 2ms/step - loss: 0.3948 - accuracy: 0.8156\n",
            "Epoch 45/100\n",
            "563/563 [==============================] - 1s 2ms/step - loss: 0.3911 - accuracy: 0.8215\n",
            "Epoch 46/100\n",
            "563/563 [==============================] - 1s 2ms/step - loss: 0.3949 - accuracy: 0.8190\n",
            "Epoch 47/100\n",
            "563/563 [==============================] - 1s 2ms/step - loss: 0.3911 - accuracy: 0.8180\n",
            "Epoch 48/100\n",
            "563/563 [==============================] - 1s 2ms/step - loss: 0.3915 - accuracy: 0.8238\n",
            "Epoch 49/100\n",
            "563/563 [==============================] - 1s 2ms/step - loss: 0.3908 - accuracy: 0.8194\n",
            "Epoch 50/100\n",
            "563/563 [==============================] - 1s 2ms/step - loss: 0.3894 - accuracy: 0.8165\n",
            "Epoch 51/100\n",
            "563/563 [==============================] - 1s 2ms/step - loss: 0.3924 - accuracy: 0.8215\n",
            "Epoch 52/100\n",
            "563/563 [==============================] - 1s 2ms/step - loss: 0.3902 - accuracy: 0.8183\n",
            "Epoch 53/100\n",
            "563/563 [==============================] - 1s 2ms/step - loss: 0.3893 - accuracy: 0.8228\n",
            "Epoch 54/100\n",
            "563/563 [==============================] - 1s 2ms/step - loss: 0.3920 - accuracy: 0.8206\n",
            "Epoch 55/100\n",
            "563/563 [==============================] - 1s 2ms/step - loss: 0.3874 - accuracy: 0.8197\n",
            "Epoch 56/100\n",
            "563/563 [==============================] - 1s 2ms/step - loss: 0.3902 - accuracy: 0.8190\n",
            "Epoch 57/100\n",
            "563/563 [==============================] - 1s 2ms/step - loss: 0.3891 - accuracy: 0.8229\n",
            "Epoch 58/100\n",
            "563/563 [==============================] - 1s 2ms/step - loss: 0.3863 - accuracy: 0.8228\n",
            "Epoch 59/100\n",
            "563/563 [==============================] - 1s 2ms/step - loss: 0.3911 - accuracy: 0.8167\n",
            "Epoch 60/100\n",
            "563/563 [==============================] - 1s 2ms/step - loss: 0.3883 - accuracy: 0.8197\n",
            "Epoch 61/100\n",
            "563/563 [==============================] - 1s 2ms/step - loss: 0.3889 - accuracy: 0.8194\n",
            "Epoch 62/100\n",
            "563/563 [==============================] - 1s 2ms/step - loss: 0.3871 - accuracy: 0.8204\n",
            "Epoch 63/100\n",
            "563/563 [==============================] - 1s 2ms/step - loss: 0.3886 - accuracy: 0.8220\n",
            "Epoch 64/100\n",
            "563/563 [==============================] - 1s 2ms/step - loss: 0.3870 - accuracy: 0.8231\n",
            "Epoch 65/100\n",
            "563/563 [==============================] - 1s 2ms/step - loss: 0.3848 - accuracy: 0.8244\n",
            "Epoch 66/100\n",
            "563/563 [==============================] - 1s 2ms/step - loss: 0.3847 - accuracy: 0.8208\n",
            "Epoch 67/100\n",
            "563/563 [==============================] - 1s 2ms/step - loss: 0.3861 - accuracy: 0.8244\n",
            "Epoch 68/100\n",
            "563/563 [==============================] - 1s 2ms/step - loss: 0.3839 - accuracy: 0.8235\n",
            "Epoch 69/100\n",
            "563/563 [==============================] - 1s 2ms/step - loss: 0.3885 - accuracy: 0.8187\n",
            "Epoch 70/100\n",
            "563/563 [==============================] - 1s 2ms/step - loss: 0.3817 - accuracy: 0.8242\n",
            "Epoch 71/100\n",
            "563/563 [==============================] - 1s 2ms/step - loss: 0.3803 - accuracy: 0.8242\n",
            "Epoch 72/100\n",
            "563/563 [==============================] - 1s 2ms/step - loss: 0.3858 - accuracy: 0.8220\n",
            "Epoch 73/100\n",
            "563/563 [==============================] - 1s 2ms/step - loss: 0.3840 - accuracy: 0.8222\n",
            "Epoch 74/100\n",
            "563/563 [==============================] - 1s 2ms/step - loss: 0.3831 - accuracy: 0.8212\n",
            "Epoch 75/100\n",
            "563/563 [==============================] - 1s 2ms/step - loss: 0.3840 - accuracy: 0.8242\n",
            "Epoch 76/100\n",
            "563/563 [==============================] - 1s 2ms/step - loss: 0.3815 - accuracy: 0.8229\n",
            "Epoch 77/100\n",
            "563/563 [==============================] - 1s 2ms/step - loss: 0.3855 - accuracy: 0.8240\n",
            "Epoch 78/100\n",
            "563/563 [==============================] - 1s 2ms/step - loss: 0.3851 - accuracy: 0.8236\n",
            "Epoch 79/100\n",
            "563/563 [==============================] - 1s 2ms/step - loss: 0.3831 - accuracy: 0.8260\n",
            "Epoch 80/100\n",
            "563/563 [==============================] - 1s 2ms/step - loss: 0.3812 - accuracy: 0.8258\n",
            "Epoch 81/100\n",
            "563/563 [==============================] - 1s 2ms/step - loss: 0.3827 - accuracy: 0.8252\n",
            "Epoch 82/100\n",
            "563/563 [==============================] - 1s 2ms/step - loss: 0.3800 - accuracy: 0.8260\n",
            "Epoch 83/100\n",
            "563/563 [==============================] - 1s 2ms/step - loss: 0.3813 - accuracy: 0.8222\n",
            "Epoch 84/100\n",
            "563/563 [==============================] - 1s 2ms/step - loss: 0.3789 - accuracy: 0.8258\n",
            "Epoch 85/100\n",
            "563/563 [==============================] - 1s 2ms/step - loss: 0.3787 - accuracy: 0.8267\n",
            "Epoch 86/100\n",
            "563/563 [==============================] - 1s 2ms/step - loss: 0.3800 - accuracy: 0.8272\n",
            "Epoch 87/100\n",
            "563/563 [==============================] - 1s 2ms/step - loss: 0.3828 - accuracy: 0.8277\n",
            "Epoch 88/100\n",
            "563/563 [==============================] - 1s 2ms/step - loss: 0.3771 - accuracy: 0.8258\n",
            "Epoch 89/100\n",
            "563/563 [==============================] - 1s 2ms/step - loss: 0.3801 - accuracy: 0.8258\n",
            "Epoch 90/100\n",
            "563/563 [==============================] - 1s 2ms/step - loss: 0.3773 - accuracy: 0.8306\n",
            "Epoch 91/100\n",
            "563/563 [==============================] - 1s 2ms/step - loss: 0.3815 - accuracy: 0.8260\n",
            "Epoch 92/100\n",
            "563/563 [==============================] - 1s 2ms/step - loss: 0.3786 - accuracy: 0.8276\n",
            "Epoch 93/100\n",
            "563/563 [==============================] - 1s 2ms/step - loss: 0.3778 - accuracy: 0.8290\n",
            "Epoch 94/100\n",
            "563/563 [==============================] - 1s 2ms/step - loss: 0.3827 - accuracy: 0.8220\n",
            "Epoch 95/100\n",
            "563/563 [==============================] - 1s 2ms/step - loss: 0.3779 - accuracy: 0.8292\n",
            "Epoch 96/100\n",
            "563/563 [==============================] - 1s 2ms/step - loss: 0.3745 - accuracy: 0.8318\n",
            "Epoch 97/100\n",
            "563/563 [==============================] - 1s 2ms/step - loss: 0.3788 - accuracy: 0.8261\n",
            "Epoch 98/100\n",
            "563/563 [==============================] - 1s 2ms/step - loss: 0.3788 - accuracy: 0.8306\n",
            "Epoch 99/100\n",
            "563/563 [==============================] - 1s 2ms/step - loss: 0.3741 - accuracy: 0.8284\n",
            "Epoch 100/100\n",
            "563/563 [==============================] - 1s 2ms/step - loss: 0.3764 - accuracy: 0.8274\n"
          ]
        },
        {
          "output_type": "execute_result",
          "data": {
            "text/plain": [
              "<keras.callbacks.History at 0x7f95f324c850>"
            ]
          },
          "metadata": {},
          "execution_count": 56
        }
      ]
    },
    {
      "cell_type": "code",
      "source": [
        "acc"
      ],
      "metadata": {
        "colab": {
          "base_uri": "https://localhost:8080/"
        },
        "id": "VMQjAEo-KfJs",
        "outputId": "9a7cce17-ecbc-4c0e-c082-9cc55d8d3cac"
      },
      "execution_count": 57,
      "outputs": [
        {
          "output_type": "execute_result",
          "data": {
            "text/plain": [
              "[]"
            ]
          },
          "metadata": {},
          "execution_count": 57
        }
      ]
    },
    {
      "cell_type": "markdown",
      "source": [
        "as we can see there is not more effect in accuracy when we are increaing hidden layers, we have done hyperparameter tunning , increased epochs as well ."
      ],
      "metadata": {
        "id": "pjNpz7y2thWx"
      }
    },
    {
      "cell_type": "code",
      "source": [
        "model1.evaluate(x_test,y_test)"
      ],
      "metadata": {
        "colab": {
          "base_uri": "https://localhost:8080/"
        },
        "id": "cko1IlyUwtaq",
        "outputId": "124520ad-9840-486d-f83f-7b4983fece1b"
      },
      "execution_count": 58,
      "outputs": [
        {
          "output_type": "stream",
          "name": "stdout",
          "text": [
            "44/44 [==============================] - 0s 2ms/step - loss: 0.4251 - accuracy: 0.7982\n"
          ]
        },
        {
          "output_type": "execute_result",
          "data": {
            "text/plain": [
              "[0.4251297414302826, 0.7981520891189575]"
            ]
          },
          "metadata": {},
          "execution_count": 58
        }
      ]
    },
    {
      "cell_type": "code",
      "source": [
        "model2.evaluate(x_test,y_test)"
      ],
      "metadata": {
        "colab": {
          "base_uri": "https://localhost:8080/"
        },
        "id": "2o_waKz1rmVb",
        "outputId": "ca0f15c0-bc9d-4b5e-e123-4f701c98b624"
      },
      "execution_count": 59,
      "outputs": [
        {
          "output_type": "stream",
          "name": "stdout",
          "text": [
            "44/44 [==============================] - 0s 1ms/step - loss: 0.4432 - accuracy: 0.7768\n"
          ]
        },
        {
          "output_type": "execute_result",
          "data": {
            "text/plain": [
              "[0.4432357847690582, 0.7768301367759705]"
            ]
          },
          "metadata": {},
          "execution_count": 59
        }
      ]
    },
    {
      "cell_type": "markdown",
      "source": [
        "based on model2----"
      ],
      "metadata": {
        "id": "eywpTdQUGa_W"
      }
    },
    {
      "cell_type": "code",
      "source": [
        "y_pred=model2.predict(x_test)\n",
        "y_pred"
      ],
      "metadata": {
        "colab": {
          "base_uri": "https://localhost:8080/"
        },
        "id": "f4T6Eh2LwqKt",
        "outputId": "de4016f8-90cf-4eb9-ba83-e449b31c42ec"
      },
      "execution_count": 60,
      "outputs": [
        {
          "output_type": "execute_result",
          "data": {
            "text/plain": [
              "array([[0.05898479],\n",
              "       [0.07405618],\n",
              "       [0.68878853],\n",
              "       ...,\n",
              "       [0.7558861 ],\n",
              "       [0.11952966],\n",
              "       [0.29892316]], dtype=float32)"
            ]
          },
          "metadata": {},
          "execution_count": 60
        }
      ]
    },
    {
      "cell_type": "code",
      "source": [
        "#will convert into one dimension\n",
        "y_predict=[]\n",
        "for i in y_pred:\n",
        "  if i>0.5:\n",
        "    y_predict.append(1)\n",
        "  else:\n",
        "    y_predict.append(0)"
      ],
      "metadata": {
        "id": "BUCBa8Meymxt"
      },
      "execution_count": 61,
      "outputs": []
    },
    {
      "cell_type": "code",
      "source": [
        "y_predict[:5]"
      ],
      "metadata": {
        "colab": {
          "base_uri": "https://localhost:8080/"
        },
        "id": "I2FCYwFizM13",
        "outputId": "71472a03-8a97-4832-e29c-184e20d9ae68"
      },
      "execution_count": 62,
      "outputs": [
        {
          "output_type": "execute_result",
          "data": {
            "text/plain": [
              "[0, 0, 1, 0, 1]"
            ]
          },
          "metadata": {},
          "execution_count": 62
        }
      ]
    },
    {
      "cell_type": "code",
      "source": [
        "from sklearn.metrics import accuracy_score,classification_report,confusion_matrix\n",
        "print(accuracy_score(y_test,y_predict))\n",
        "print(classification_report(y_test,y_predict))\n",
        "cm=confusion_matrix(y_test,y_predict)\n",
        "print(cm)\n"
      ],
      "metadata": {
        "colab": {
          "base_uri": "https://localhost:8080/"
        },
        "id": "xPOJpGh9zQkl",
        "outputId": "c309e5f4-74aa-4f17-9bcb-5aa1222b78ce"
      },
      "execution_count": 63,
      "outputs": [
        {
          "output_type": "stream",
          "name": "stdout",
          "text": [
            "0.7768301350390903\n",
            "              precision    recall  f1-score   support\n",
            "\n",
            "           0       0.86      0.83      0.85      1035\n",
            "           1       0.57      0.63      0.60       372\n",
            "\n",
            "    accuracy                           0.78      1407\n",
            "   macro avg       0.72      0.73      0.72      1407\n",
            "weighted avg       0.79      0.78      0.78      1407\n",
            "\n",
            "[[857 178]\n",
            " [136 236]]\n"
          ]
        }
      ]
    },
    {
      "cell_type": "markdown",
      "source": [
        "Visualize confusion matrix"
      ],
      "metadata": {
        "id": "NsZwWQnW0iMm"
      }
    },
    {
      "cell_type": "code",
      "source": [
        "sns.heatmap(cm,annot=True,fmt='d')\n",
        "plt.xlabel('Predictd')\n",
        "plt.ylabel('True')"
      ],
      "metadata": {
        "colab": {
          "base_uri": "https://localhost:8080/",
          "height": 296
        },
        "id": "0ODu-AViz1Cr",
        "outputId": "d23a58af-1a34-4038-cf14-a57603c990cd"
      },
      "execution_count": 64,
      "outputs": [
        {
          "output_type": "execute_result",
          "data": {
            "text/plain": [
              "Text(33.0, 0.5, 'True')"
            ]
          },
          "metadata": {},
          "execution_count": 64
        },
        {
          "output_type": "display_data",
          "data": {
            "image/png": "[encoded data removed]",
            "text/plain": [
              "<Figure size 432x288 with 2 Axes>"
            ]
          },
          "metadata": {
            "needs_background": "light"
          }
        }
      ]
    },
    {
      "cell_type": "markdown",
      "source": [
        "### dealing with unbalanced data\n",
        "\n"
      ],
      "metadata": {
        "id": "O3uoMlRqMVn-"
      }
    },
    {
      "cell_type": "markdown",
      "source": [
        "1- undersampling method"
      ],
      "metadata": {
        "id": "sC3j8awdNZui"
      }
    },
    {
      "cell_type": "code",
      "source": [
        "unbal_0,unbal_1=y.value_counts()\n"
      ],
      "metadata": {
        "id": "-P-JKwugGxUj"
      },
      "execution_count": 65,
      "outputs": []
    },
    {
      "cell_type": "code",
      "source": [
        "churn_1=df2[df2['Churn']==1]  #choosing those observations which have churn===1\n",
        "churn_0=df2[df2['Churn']==0]  ##choosing those observations which have churn==0"
      ],
      "metadata": {
        "id": "WAjkSub7YYNk"
      },
      "execution_count": 66,
      "outputs": []
    },
    {
      "cell_type": "code",
      "source": [
        "churn_0=churn_0.sample(unbal_1)\n",
        "churn_0.shape"
      ],
      "metadata": {
        "colab": {
          "base_uri": "https://localhost:8080/"
        },
        "id": "JGtwTRzmNQyv",
        "outputId": "b3237bcd-45c8-45a8-bf12-760fe567260f"
      },
      "execution_count": 67,
      "outputs": [
        {
          "output_type": "execute_result",
          "data": {
            "text/plain": [
              "(1869, 27)"
            ]
          },
          "metadata": {},
          "execution_count": 67
        }
      ]
    },
    {
      "cell_type": "code",
      "source": [
        "bal=pd.concat([churn_0,churn_1])\n",
        "bal.shape"
      ],
      "metadata": {
        "colab": {
          "base_uri": "https://localhost:8080/"
        },
        "id": "YV0iAZBoY7rv",
        "outputId": "8874259b-486a-4532-bcc1-bd669af0f74b"
      },
      "execution_count": 68,
      "outputs": [
        {
          "output_type": "execute_result",
          "data": {
            "text/plain": [
              "(3738, 27)"
            ]
          },
          "metadata": {},
          "execution_count": 68
        }
      ]
    },
    {
      "cell_type": "code",
      "source": [
        "x_bal=bal.drop('Churn',axis=1)\n",
        "y_bal=bal['Churn']"
      ],
      "metadata": {
        "id": "AhkMc7qhOdB7"
      },
      "execution_count": 69,
      "outputs": []
    },
    {
      "cell_type": "code",
      "source": [
        "x_train_bal,x_test_bal,y_train_bal,y_test_bal=train_test_split(x_bal,y_bal,test_size=0.2,random_state=272)\n",
        "print(x_train_bal.shape)\n",
        "print(y_train_bal.shape)\n",
        "print(x_test_bal.shape)\n",
        "print(x_test_bal.shape)"
      ],
      "metadata": {
        "colab": {
          "base_uri": "https://localhost:8080/"
        },
        "id": "g42dpShAOyde",
        "outputId": "f731b242-30db-4708-b707-479bc8951ac9"
      },
      "execution_count": 70,
      "outputs": [
        {
          "output_type": "stream",
          "name": "stdout",
          "text": [
            "(2990, 26)\n",
            "(2990,)\n",
            "(748, 26)\n",
            "(748, 26)\n"
          ]
        }
      ]
    },
    {
      "cell_type": "markdown",
      "source": [
        "1- Random Forest"
      ],
      "metadata": {
        "id": "VPt8ywRlPzOf"
      }
    },
    {
      "cell_type": "code",
      "source": [
        "from sklearn.ensemble import RandomForestClassifier\n",
        "from sklearn.metrics import accuracy_score,classification_report,confusion_matrix\n",
        "accuracy=[]\n",
        "est=np.arange(100,1000,10)\n",
        "for i in est:\n",
        "  clf_rf = RandomForestClassifier(n_estimators=i ,random_state=1)      \n",
        "  clr_rf = clf_rf.fit(x_train_bal,y_train_bal)\n",
        "\n",
        "  ac = accuracy_score(y_test_bal,clf_rf.predict(x_test_bal))\n",
        "  accuracy.append(ac*100)\n",
        "print('Accuracy is: ',accuracy)"
      ],
      "metadata": {
        "colab": {
          "base_uri": "https://localhost:8080/"
        },
        "id": "SbgSL8QbPI3y",
        "outputId": "b9a86fac-f30b-4c03-fd51-3c4ebe7d4150"
      },
      "execution_count": 71,
      "outputs": [
        {
          "output_type": "stream",
          "name": "stdout",
          "text": [
            "Accuracy is:  [74.73262032085562, 74.73262032085562, 75.0, 75.0, 75.0, 75.0, 75.1336898395722, 74.59893048128342, 74.73262032085562, 74.73262032085562, 74.33155080213903, 74.59893048128342, 74.8663101604278, 74.73262032085562, 74.73262032085562, 74.46524064171123, 74.46524064171123, 74.73262032085562, 74.46524064171123, 74.59893048128342, 74.8663101604278, 75.1336898395722, 75.1336898395722, 75.26737967914438, 75.26737967914438, 74.8663101604278, 74.59893048128342, 74.59893048128342, 74.46524064171123, 74.33155080213903, 74.46524064171123, 74.46524064171123, 74.46524064171123, 74.46524064171123, 74.46524064171123, 74.46524064171123, 74.33155080213903, 74.46524064171123, 74.33155080213903, 74.19786096256684, 74.19786096256684, 74.19786096256684, 74.19786096256684, 74.19786096256684, 74.19786096256684, 74.33155080213903, 74.46524064171123, 74.46524064171123, 74.46524064171123, 74.46524064171123, 74.46524064171123, 74.46524064171123, 74.33155080213903, 74.46524064171123, 74.46524064171123, 74.46524064171123, 74.59893048128342, 74.59893048128342, 74.59893048128342, 74.46524064171123, 74.46524064171123, 74.46524064171123, 74.59893048128342, 74.59893048128342, 74.73262032085562, 74.59893048128342, 74.46524064171123, 74.59893048128342, 74.59893048128342, 74.73262032085562, 74.73262032085562, 74.73262032085562, 74.59893048128342, 74.8663101604278, 75.0, 74.8663101604278, 74.73262032085562, 74.8663101604278, 74.73262032085562, 74.73262032085562, 74.8663101604278, 74.73262032085562, 74.73262032085562, 74.73262032085562, 74.73262032085562, 74.73262032085562, 74.46524064171123, 74.46524064171123, 74.46524064171123, 74.46524064171123]\n"
          ]
        }
      ]
    },
    {
      "cell_type": "code",
      "source": [
        "plt.figure(figsize=(5,5))\n",
        "plt.plot(est,accuracy)\n",
        "plt.xlabel('No. Of Estimators')\n",
        "plt.ylabel('Accuracy')\n",
        "plt.title('Accuracy trade off!')\n",
        "plt.show()"
      ],
      "metadata": {
        "colab": {
          "base_uri": "https://localhost:8080/",
          "height": 350
        },
        "id": "x7N_k-A5QapJ",
        "outputId": "9a381fd6-51c9-46e0-bd9c-e5b715539b3d"
      },
      "execution_count": 72,
      "outputs": [
        {
          "output_type": "display_data",
          "data": {
            "image/png": "[encoded data removed]",
            "text/plain": [
              "<Figure size 360x360 with 1 Axes>"
            ]
          },
          "metadata": {
            "needs_background": "light"
          }
        }
      ]
    },
    {
      "cell_type": "code",
      "source": [
        "from  sklearn.model_selection import RandomizedSearchCV\n",
        "rf_c=RandomForestClassifier()\n",
        "param_grid={'n_estimators':[int(x) for x in np.linspace(start=200,stop=1200,num=11)],\n",
        "            'max_features':['auto','sqrt'],\n",
        "            'max_depth':[int(x) for x in np.linspace(start=10,stop=100,num=11)],\n",
        "            'min_samples_leaf':[1,2,3,5],\n",
        "            'min_samples_split':[2,5,10,15]}\n",
        "random_cv=RandomizedSearchCV(rf_c,param_grid,cv=3,verbose=2,random_state=42)\n",
        "random_cv.fit(x_train_bal,y_train_bal)\n",
        "best_random=random_cv.best_estimator_\n",
        "prediction_cv=best_random.predict(x_test_bal)\n",
        "print('best estimators are : ',best_random)\n",
        "print(accuracy_score(y_test_bal,prediction_cv))"
      ],
      "metadata": {
        "colab": {
          "base_uri": "https://localhost:8080/"
        },
        "id": "GC0KK1M1SJ-D",
        "outputId": "60641fa9-9d14-48c9-d95c-d77775c2b466"
      },
      "execution_count": 73,
      "outputs": [
        {
          "output_type": "stream",
          "name": "stdout",
          "text": [
            "Fitting 3 folds for each of 10 candidates, totalling 30 fits\n",
            "[CV] END max_depth=91, max_features=auto, min_samples_leaf=1, min_samples_split=2, n_estimators=800; total time=   2.8s\n",
            "[CV] END max_depth=91, max_features=auto, min_samples_leaf=1, min_samples_split=2, n_estimators=800; total time=   2.8s\n",
            "[CV] END max_depth=91, max_features=auto, min_samples_leaf=1, min_samples_split=2, n_estimators=800; total time=   2.8s\n",
            "[CV] END max_depth=91, max_features=sqrt, min_samples_leaf=5, min_samples_split=10, n_estimators=1100; total time=   3.2s\n",
            "[CV] END max_depth=91, max_features=sqrt, min_samples_leaf=5, min_samples_split=10, n_estimators=1100; total time=   3.2s\n",
            "[CV] END max_depth=91, max_features=sqrt, min_samples_leaf=5, min_samples_split=10, n_estimators=1100; total time=   3.4s\n",
            "[CV] END max_depth=28, max_features=auto, min_samples_leaf=5, min_samples_split=10, n_estimators=400; total time=   1.2s\n",
            "[CV] END max_depth=28, max_features=auto, min_samples_leaf=5, min_samples_split=10, n_estimators=400; total time=   1.2s\n",
            "[CV] END max_depth=28, max_features=auto, min_samples_leaf=5, min_samples_split=10, n_estimators=400; total time=   1.2s\n",
            "[CV] END max_depth=37, max_features=sqrt, min_samples_leaf=2, min_samples_split=5, n_estimators=900; total time=   2.9s\n",
            "[CV] END max_depth=37, max_features=sqrt, min_samples_leaf=2, min_samples_split=5, n_estimators=900; total time=   2.8s\n",
            "[CV] END max_depth=37, max_features=sqrt, min_samples_leaf=2, min_samples_split=5, n_estimators=900; total time=   2.9s\n",
            "[CV] END max_depth=37, max_features=auto, min_samples_leaf=2, min_samples_split=10, n_estimators=1000; total time=   3.0s\n",
            "[CV] END max_depth=37, max_features=auto, min_samples_leaf=2, min_samples_split=10, n_estimators=1000; total time=   3.0s\n",
            "[CV] END max_depth=37, max_features=auto, min_samples_leaf=2, min_samples_split=10, n_estimators=1000; total time=   3.0s\n",
            "[CV] END max_depth=37, max_features=auto, min_samples_leaf=1, min_samples_split=15, n_estimators=800; total time=   2.3s\n",
            "[CV] END max_depth=37, max_features=auto, min_samples_leaf=1, min_samples_split=15, n_estimators=800; total time=   2.4s\n",
            "[CV] END max_depth=37, max_features=auto, min_samples_leaf=1, min_samples_split=15, n_estimators=800; total time=   2.4s\n",
            "[CV] END max_depth=100, max_features=sqrt, min_samples_leaf=2, min_samples_split=10, n_estimators=1200; total time=   3.6s\n",
            "[CV] END max_depth=100, max_features=sqrt, min_samples_leaf=2, min_samples_split=10, n_estimators=1200; total time=   3.6s\n",
            "[CV] END max_depth=100, max_features=sqrt, min_samples_leaf=2, min_samples_split=10, n_estimators=1200; total time=   3.6s\n",
            "[CV] END max_depth=82, max_features=sqrt, min_samples_leaf=3, min_samples_split=5, n_estimators=300; total time=   0.9s\n",
            "[CV] END max_depth=82, max_features=sqrt, min_samples_leaf=3, min_samples_split=5, n_estimators=300; total time=   0.9s\n",
            "[CV] END max_depth=82, max_features=sqrt, min_samples_leaf=3, min_samples_split=5, n_estimators=300; total time=   0.9s\n",
            "[CV] END max_depth=46, max_features=sqrt, min_samples_leaf=2, min_samples_split=2, n_estimators=1200; total time=   3.8s\n",
            "[CV] END max_depth=46, max_features=sqrt, min_samples_leaf=2, min_samples_split=2, n_estimators=1200; total time=   3.8s\n",
            "[CV] END max_depth=46, max_features=sqrt, min_samples_leaf=2, min_samples_split=2, n_estimators=1200; total time=   3.8s\n",
            "[CV] END max_depth=64, max_features=auto, min_samples_leaf=2, min_samples_split=5, n_estimators=400; total time=   1.3s\n",
            "[CV] END max_depth=64, max_features=auto, min_samples_leaf=2, min_samples_split=5, n_estimators=400; total time=   1.3s\n",
            "[CV] END max_depth=64, max_features=auto, min_samples_leaf=2, min_samples_split=5, n_estimators=400; total time=   1.3s\n",
            "best estimators are :  RandomForestClassifier(max_depth=37, min_samples_split=15, n_estimators=800)\n",
            "0.7700534759358288\n"
          ]
        }
      ]
    },
    {
      "cell_type": "markdown",
      "source": [
        "So aacuracy has increased slightly "
      ],
      "metadata": {
        "id": "UWuwqQcATaYv"
      }
    },
    {
      "cell_type": "code",
      "source": [
        "model1=keras.Sequential([\n",
        "                        keras.layers.Dense(20,input_shape=(26,),activation='relu'),\n",
        "                        keras.layers.Dense(1,activation='sigmoid'),\n",
        "])\n",
        "\n",
        "model1.compile(optimizer='adam',\n",
        "              loss='binary_crossentropy',\n",
        "              metrics=['accuracy'])\n",
        "model1.fit(x_train_bal,y_train_bal,epochs=5,batch_size=8)\n"
      ],
      "metadata": {
        "colab": {
          "base_uri": "https://localhost:8080/"
        },
        "id": "db9Ln4Y2SkNG",
        "outputId": "590288e1-45ee-4c5c-8dbc-3c9b68a5cabb"
      },
      "execution_count": 74,
      "outputs": [
        {
          "output_type": "stream",
          "name": "stdout",
          "text": [
            "Epoch 1/5\n",
            "374/374 [==============================] - 1s 2ms/step - loss: 0.5919 - accuracy: 0.6866\n",
            "Epoch 2/5\n",
            "374/374 [==============================] - 1s 2ms/step - loss: 0.5087 - accuracy: 0.7545\n",
            "Epoch 3/5\n",
            "374/374 [==============================] - 1s 2ms/step - loss: 0.4972 - accuracy: 0.7572\n",
            "Epoch 4/5\n",
            "374/374 [==============================] - 1s 1ms/step - loss: 0.4934 - accuracy: 0.7605\n",
            "Epoch 5/5\n",
            "374/374 [==============================] - 1s 1ms/step - loss: 0.4909 - accuracy: 0.7619\n"
          ]
        },
        {
          "output_type": "execute_result",
          "data": {
            "text/plain": [
              "<keras.callbacks.History at 0x7f966f80db90>"
            ]
          },
          "metadata": {},
          "execution_count": 74
        }
      ]
    },
    {
      "cell_type": "code",
      "source": [
        "model2=keras.Sequential([\n",
        "                        keras.layers.Dense(20,input_shape=(26,),activation='relu'),\n",
        "                        keras.layers.Dense(10,activation='relu'),\n",
        "                        keras.layers.Dense(1,activation='sigmoid'),\n",
        "])\n",
        "\n",
        "\n",
        "model2.compile(optimizer='adam',\n",
        "              loss='binary_crossentropy',\n",
        "              metrics=['accuracy'])\n",
        "model2.fit(x_train_bal,y_train_bal,epochs=5,batch_size=8)"
      ],
      "metadata": {
        "colab": {
          "base_uri": "https://localhost:8080/"
        },
        "id": "qaJVFxT2TqYx",
        "outputId": "c2075018-8a94-430f-dc5d-40bc06587f81"
      },
      "execution_count": 75,
      "outputs": [
        {
          "output_type": "stream",
          "name": "stdout",
          "text": [
            "Epoch 1/5\n",
            "374/374 [==============================] - 1s 2ms/step - loss: 0.5837 - accuracy: 0.7064\n",
            "Epoch 2/5\n",
            "374/374 [==============================] - 1s 2ms/step - loss: 0.5084 - accuracy: 0.7569\n",
            "Epoch 3/5\n",
            "374/374 [==============================] - 1s 2ms/step - loss: 0.4975 - accuracy: 0.7575\n",
            "Epoch 4/5\n",
            "374/374 [==============================] - 1s 2ms/step - loss: 0.4910 - accuracy: 0.7602\n",
            "Epoch 5/5\n",
            "374/374 [==============================] - 1s 2ms/step - loss: 0.4885 - accuracy: 0.7609\n"
          ]
        },
        {
          "output_type": "execute_result",
          "data": {
            "text/plain": [
              "<keras.callbacks.History at 0x7f95f2e68990>"
            ]
          },
          "metadata": {},
          "execution_count": 75
        }
      ]
    },
    {
      "cell_type": "code",
      "source": [
        "model2.evaluate(x_test_bal,y_test_bal)\n",
        "y_pred_bal=model2.predict(x_test_bal)\n"
      ],
      "metadata": {
        "colab": {
          "base_uri": "https://localhost:8080/"
        },
        "id": "l4PrFTM1un7U",
        "outputId": "b6a3e898-9f1c-498a-cc64-22a46ba0b4a0"
      },
      "execution_count": 76,
      "outputs": [
        {
          "output_type": "stream",
          "name": "stdout",
          "text": [
            "24/24 [==============================] - 0s 1ms/step - loss: 0.4897 - accuracy: 0.7767\n"
          ]
        }
      ]
    },
    {
      "cell_type": "code",
      "source": [
        "y_predict_bal=[]\n",
        "for i in y_pred_bal:\n",
        "  if i>0.5:\n",
        "    y_predict_bal.append(1)\n",
        "  else:\n",
        "    y_predict_bal.append(0)"
      ],
      "metadata": {
        "id": "wIwYhSSYvIo7"
      },
      "execution_count": 77,
      "outputs": []
    },
    {
      "cell_type": "code",
      "source": [
        "from sklearn.metrics import accuracy_score,classification_report,confusion_matrix\n",
        "print(accuracy_score(y_test_bal,y_predict_bal))\n",
        "print(classification_report(y_test_bal,y_predict_bal))\n",
        "cm=confusion_matrix(y_test_bal,y_predict_bal)\n",
        "print(cm)"
      ],
      "metadata": {
        "colab": {
          "base_uri": "https://localhost:8080/"
        },
        "id": "dX1Vea7IvN2R",
        "outputId": "575ff244-e30a-4369-ba1e-7a4fca40dce9"
      },
      "execution_count": 78,
      "outputs": [
        {
          "output_type": "stream",
          "name": "stdout",
          "text": [
            "0.7767379679144385\n",
            "              precision    recall  f1-score   support\n",
            "\n",
            "           0       0.84      0.71      0.77       395\n",
            "           1       0.73      0.85      0.78       353\n",
            "\n",
            "    accuracy                           0.78       748\n",
            "   macro avg       0.78      0.78      0.78       748\n",
            "weighted avg       0.79      0.78      0.78       748\n",
            "\n",
            "[[282 113]\n",
            " [ 54 299]]\n"
          ]
        }
      ]
    },
    {
      "cell_type": "code",
      "source": [
        "sns.heatmap(cm,annot=True,fmt='d')\n",
        "plt.xlabel('Predictd')\n",
        "plt.ylabel('True')"
      ],
      "metadata": {
        "colab": {
          "base_uri": "https://localhost:8080/",
          "height": 296
        },
        "id": "Vb0GUk9Wy2s_",
        "outputId": "d77cbec4-9ad6-4a5f-df4d-6992982201d2"
      },
      "execution_count": 79,
      "outputs": [
        {
          "output_type": "execute_result",
          "data": {
            "text/plain": [
              "Text(33.0, 0.5, 'True')"
            ]
          },
          "metadata": {},
          "execution_count": 79
        },
        {
          "output_type": "display_data",
          "data": {
            "image/png": "[encoded data removed]",
            "text/plain": [
              "<Figure size 432x288 with 2 Axes>"
            ]
          },
          "metadata": {
            "needs_background": "light"
          }
        }
      ]
    },
    {
      "cell_type": "code",
      "source": [
        "model3=tf.keras.Sequential([\n",
        "                            keras.layers.Dense(20,input_shape=(26,),activation='relu'),\n",
        "                            keras.layers.Dropout(0.2),\n",
        "                            keras.layers.Dense(100,activation='relu'),\n",
        "                            keras.layers.Dropout(0.3),\n",
        "                            keras.layers.Dense(1,activation='sigmoid')\n",
        "])\n",
        "model3.compile(optimizer='adam',loss='binary_crossentropy',metrics=['accuracy'])\n",
        "\n",
        "model3.fit(x_train,y_train,epochs=100,batch_size=10)    # accuracy we got increased\n",
        "\n",
        "  "
      ],
      "metadata": {
        "colab": {
          "base_uri": "https://localhost:8080/"
        },
        "id": "b-EHk2rfWBRD",
        "outputId": "36c8e1fb-fa7d-45a3-ed45-2c1ef085beb8"
      },
      "execution_count": 80,
      "outputs": [
        {
          "output_type": "stream",
          "name": "stdout",
          "text": [
            "Epoch 1/100\n",
            "563/563 [==============================] - 2s 2ms/step - loss: 0.4690 - accuracy: 0.7680\n",
            "Epoch 2/100\n",
            "563/563 [==============================] - 1s 2ms/step - loss: 0.4365 - accuracy: 0.7929\n",
            "Epoch 3/100\n",
            "563/563 [==============================] - 1s 2ms/step - loss: 0.4322 - accuracy: 0.7927\n",
            "Epoch 4/100\n",
            "563/563 [==============================] - 1s 2ms/step - loss: 0.4268 - accuracy: 0.7975\n",
            "Epoch 5/100\n",
            "563/563 [==============================] - 1s 2ms/step - loss: 0.4251 - accuracy: 0.7963\n",
            "Epoch 6/100\n",
            "563/563 [==============================] - 1s 2ms/step - loss: 0.4233 - accuracy: 0.8034\n",
            "Epoch 7/100\n",
            "563/563 [==============================] - 1s 2ms/step - loss: 0.4238 - accuracy: 0.7956\n",
            "Epoch 8/100\n",
            "563/563 [==============================] - 1s 2ms/step - loss: 0.4194 - accuracy: 0.8043\n",
            "Epoch 9/100\n",
            "563/563 [==============================] - 1s 2ms/step - loss: 0.4170 - accuracy: 0.8069\n",
            "Epoch 10/100\n",
            "563/563 [==============================] - 1s 2ms/step - loss: 0.4193 - accuracy: 0.8044\n",
            "Epoch 11/100\n",
            "563/563 [==============================] - 1s 2ms/step - loss: 0.4155 - accuracy: 0.8044\n",
            "Epoch 12/100\n",
            "563/563 [==============================] - 1s 2ms/step - loss: 0.4166 - accuracy: 0.8016\n",
            "Epoch 13/100\n",
            "563/563 [==============================] - 1s 2ms/step - loss: 0.4116 - accuracy: 0.8089\n",
            "Epoch 14/100\n",
            "563/563 [==============================] - 1s 2ms/step - loss: 0.4092 - accuracy: 0.8069\n",
            "Epoch 15/100\n",
            "563/563 [==============================] - 1s 2ms/step - loss: 0.4085 - accuracy: 0.8066\n",
            "Epoch 16/100\n",
            "563/563 [==============================] - 1s 2ms/step - loss: 0.4092 - accuracy: 0.8135\n",
            "Epoch 17/100\n",
            "563/563 [==============================] - 1s 2ms/step - loss: 0.4100 - accuracy: 0.8073\n",
            "Epoch 18/100\n",
            "563/563 [==============================] - 1s 2ms/step - loss: 0.4119 - accuracy: 0.8057\n",
            "Epoch 19/100\n",
            "563/563 [==============================] - 1s 2ms/step - loss: 0.4066 - accuracy: 0.8105\n",
            "Epoch 20/100\n",
            "563/563 [==============================] - 1s 2ms/step - loss: 0.4064 - accuracy: 0.8100\n",
            "Epoch 21/100\n",
            "563/563 [==============================] - 1s 2ms/step - loss: 0.4047 - accuracy: 0.8123\n",
            "Epoch 22/100\n",
            "563/563 [==============================] - 1s 2ms/step - loss: 0.4077 - accuracy: 0.8092\n",
            "Epoch 23/100\n",
            "563/563 [==============================] - 1s 2ms/step - loss: 0.4054 - accuracy: 0.8091\n",
            "Epoch 24/100\n",
            "563/563 [==============================] - 1s 2ms/step - loss: 0.4038 - accuracy: 0.8087\n",
            "Epoch 25/100\n",
            "563/563 [==============================] - 1s 2ms/step - loss: 0.4004 - accuracy: 0.8103\n",
            "Epoch 26/100\n",
            "563/563 [==============================] - 1s 2ms/step - loss: 0.4046 - accuracy: 0.8114\n",
            "Epoch 27/100\n",
            "563/563 [==============================] - 1s 2ms/step - loss: 0.4025 - accuracy: 0.8059\n",
            "Epoch 28/100\n",
            "563/563 [==============================] - 1s 2ms/step - loss: 0.3996 - accuracy: 0.8133\n",
            "Epoch 29/100\n",
            "563/563 [==============================] - 1s 2ms/step - loss: 0.4003 - accuracy: 0.8110\n",
            "Epoch 30/100\n",
            "563/563 [==============================] - 1s 2ms/step - loss: 0.3993 - accuracy: 0.8124\n",
            "Epoch 31/100\n",
            "563/563 [==============================] - 1s 2ms/step - loss: 0.3984 - accuracy: 0.8135\n",
            "Epoch 32/100\n",
            "563/563 [==============================] - 1s 2ms/step - loss: 0.4016 - accuracy: 0.8112\n",
            "Epoch 33/100\n",
            "563/563 [==============================] - 1s 2ms/step - loss: 0.3956 - accuracy: 0.8142\n",
            "Epoch 34/100\n",
            "563/563 [==============================] - 1s 2ms/step - loss: 0.4001 - accuracy: 0.8084\n",
            "Epoch 35/100\n",
            "563/563 [==============================] - 1s 2ms/step - loss: 0.3988 - accuracy: 0.8116\n",
            "Epoch 36/100\n",
            "563/563 [==============================] - 1s 2ms/step - loss: 0.3952 - accuracy: 0.8133\n",
            "Epoch 37/100\n",
            "563/563 [==============================] - 1s 2ms/step - loss: 0.3964 - accuracy: 0.8146\n",
            "Epoch 38/100\n",
            "563/563 [==============================] - 1s 2ms/step - loss: 0.3950 - accuracy: 0.8128\n",
            "Epoch 39/100\n",
            "563/563 [==============================] - 1s 2ms/step - loss: 0.3945 - accuracy: 0.8149\n",
            "Epoch 40/100\n",
            "563/563 [==============================] - 1s 2ms/step - loss: 0.3937 - accuracy: 0.8153\n",
            "Epoch 41/100\n",
            "563/563 [==============================] - 1s 2ms/step - loss: 0.3934 - accuracy: 0.8149\n",
            "Epoch 42/100\n",
            "563/563 [==============================] - 1s 2ms/step - loss: 0.3934 - accuracy: 0.8169\n",
            "Epoch 43/100\n",
            "563/563 [==============================] - 1s 2ms/step - loss: 0.3944 - accuracy: 0.8149\n",
            "Epoch 44/100\n",
            "563/563 [==============================] - 1s 2ms/step - loss: 0.3982 - accuracy: 0.8148\n",
            "Epoch 45/100\n",
            "563/563 [==============================] - 1s 2ms/step - loss: 0.3931 - accuracy: 0.8130\n",
            "Epoch 46/100\n",
            "563/563 [==============================] - 1s 2ms/step - loss: 0.3936 - accuracy: 0.8162\n",
            "Epoch 47/100\n",
            "563/563 [==============================] - 1s 2ms/step - loss: 0.3979 - accuracy: 0.8089\n",
            "Epoch 48/100\n",
            "563/563 [==============================] - 1s 2ms/step - loss: 0.3901 - accuracy: 0.8201\n",
            "Epoch 49/100\n",
            "563/563 [==============================] - 1s 2ms/step - loss: 0.3888 - accuracy: 0.8158\n",
            "Epoch 50/100\n",
            "563/563 [==============================] - 1s 2ms/step - loss: 0.3891 - accuracy: 0.8164\n",
            "Epoch 51/100\n",
            "563/563 [==============================] - 1s 2ms/step - loss: 0.3895 - accuracy: 0.8180\n",
            "Epoch 52/100\n",
            "563/563 [==============================] - 1s 2ms/step - loss: 0.3912 - accuracy: 0.8178\n",
            "Epoch 53/100\n",
            "563/563 [==============================] - 1s 2ms/step - loss: 0.3868 - accuracy: 0.8172\n",
            "Epoch 54/100\n",
            "563/563 [==============================] - 1s 2ms/step - loss: 0.3912 - accuracy: 0.8188\n",
            "Epoch 55/100\n",
            "563/563 [==============================] - 1s 2ms/step - loss: 0.3920 - accuracy: 0.8112\n",
            "Epoch 56/100\n",
            "563/563 [==============================] - 1s 2ms/step - loss: 0.3846 - accuracy: 0.8226\n",
            "Epoch 57/100\n",
            "563/563 [==============================] - 1s 2ms/step - loss: 0.3893 - accuracy: 0.8190\n",
            "Epoch 58/100\n",
            "563/563 [==============================] - 1s 2ms/step - loss: 0.3909 - accuracy: 0.8178\n",
            "Epoch 59/100\n",
            "563/563 [==============================] - 1s 2ms/step - loss: 0.3891 - accuracy: 0.8197\n",
            "Epoch 60/100\n",
            "563/563 [==============================] - 1s 2ms/step - loss: 0.3875 - accuracy: 0.8172\n",
            "Epoch 61/100\n",
            "563/563 [==============================] - 1s 2ms/step - loss: 0.3862 - accuracy: 0.8199\n",
            "Epoch 62/100\n",
            "563/563 [==============================] - 1s 2ms/step - loss: 0.3892 - accuracy: 0.8188\n",
            "Epoch 63/100\n",
            "563/563 [==============================] - 1s 2ms/step - loss: 0.3860 - accuracy: 0.8244\n",
            "Epoch 64/100\n",
            "563/563 [==============================] - 1s 2ms/step - loss: 0.3870 - accuracy: 0.8210\n",
            "Epoch 65/100\n",
            "563/563 [==============================] - 1s 2ms/step - loss: 0.3837 - accuracy: 0.8197\n",
            "Epoch 66/100\n",
            "563/563 [==============================] - 1s 2ms/step - loss: 0.3852 - accuracy: 0.8190\n",
            "Epoch 67/100\n",
            "563/563 [==============================] - 1s 2ms/step - loss: 0.3875 - accuracy: 0.8196\n",
            "Epoch 68/100\n",
            "563/563 [==============================] - 1s 2ms/step - loss: 0.3848 - accuracy: 0.8208\n",
            "Epoch 69/100\n",
            "563/563 [==============================] - 1s 2ms/step - loss: 0.3839 - accuracy: 0.8203\n",
            "Epoch 70/100\n",
            "563/563 [==============================] - 1s 2ms/step - loss: 0.3866 - accuracy: 0.8215\n",
            "Epoch 71/100\n",
            "563/563 [==============================] - 1s 2ms/step - loss: 0.3876 - accuracy: 0.8245\n",
            "Epoch 72/100\n",
            "563/563 [==============================] - 1s 2ms/step - loss: 0.3840 - accuracy: 0.8204\n",
            "Epoch 73/100\n",
            "563/563 [==============================] - 1s 2ms/step - loss: 0.3868 - accuracy: 0.8151\n",
            "Epoch 74/100\n",
            "563/563 [==============================] - 1s 2ms/step - loss: 0.3831 - accuracy: 0.8199\n",
            "Epoch 75/100\n",
            "563/563 [==============================] - 1s 2ms/step - loss: 0.3831 - accuracy: 0.8215\n",
            "Epoch 76/100\n",
            "563/563 [==============================] - 1s 2ms/step - loss: 0.3825 - accuracy: 0.8188\n",
            "Epoch 77/100\n",
            "563/563 [==============================] - 1s 2ms/step - loss: 0.3857 - accuracy: 0.8206\n",
            "Epoch 78/100\n",
            "563/563 [==============================] - 1s 2ms/step - loss: 0.3793 - accuracy: 0.8190\n",
            "Epoch 79/100\n",
            "563/563 [==============================] - 1s 2ms/step - loss: 0.3847 - accuracy: 0.8188\n",
            "Epoch 80/100\n",
            "563/563 [==============================] - 1s 2ms/step - loss: 0.3841 - accuracy: 0.8203\n",
            "Epoch 81/100\n",
            "563/563 [==============================] - 1s 2ms/step - loss: 0.3819 - accuracy: 0.8172\n",
            "Epoch 82/100\n",
            "563/563 [==============================] - 1s 2ms/step - loss: 0.3791 - accuracy: 0.8208\n",
            "Epoch 83/100\n",
            "563/563 [==============================] - 1s 2ms/step - loss: 0.3856 - accuracy: 0.8217\n",
            "Epoch 84/100\n",
            "563/563 [==============================] - 1s 2ms/step - loss: 0.3773 - accuracy: 0.8229\n",
            "Epoch 85/100\n",
            "563/563 [==============================] - 1s 2ms/step - loss: 0.3821 - accuracy: 0.8213\n",
            "Epoch 86/100\n",
            "563/563 [==============================] - 1s 2ms/step - loss: 0.3796 - accuracy: 0.8199\n",
            "Epoch 87/100\n",
            "563/563 [==============================] - 1s 2ms/step - loss: 0.3802 - accuracy: 0.8206\n",
            "Epoch 88/100\n",
            "563/563 [==============================] - 1s 2ms/step - loss: 0.3802 - accuracy: 0.8220\n",
            "Epoch 89/100\n",
            "563/563 [==============================] - 1s 2ms/step - loss: 0.3779 - accuracy: 0.8212\n",
            "Epoch 90/100\n",
            "563/563 [==============================] - 1s 2ms/step - loss: 0.3782 - accuracy: 0.8252\n",
            "Epoch 91/100\n",
            "563/563 [==============================] - 1s 2ms/step - loss: 0.3765 - accuracy: 0.8217\n",
            "Epoch 92/100\n",
            "563/563 [==============================] - 1s 2ms/step - loss: 0.3784 - accuracy: 0.8188\n",
            "Epoch 93/100\n",
            "563/563 [==============================] - 1s 2ms/step - loss: 0.3772 - accuracy: 0.8251\n",
            "Epoch 94/100\n",
            "563/563 [==============================] - 1s 2ms/step - loss: 0.3712 - accuracy: 0.8247\n",
            "Epoch 95/100\n",
            "563/563 [==============================] - 1s 2ms/step - loss: 0.3777 - accuracy: 0.8236\n",
            "Epoch 96/100\n",
            "563/563 [==============================] - 1s 2ms/step - loss: 0.3782 - accuracy: 0.8247\n",
            "Epoch 97/100\n",
            "563/563 [==============================] - 1s 2ms/step - loss: 0.3781 - accuracy: 0.8265\n",
            "Epoch 98/100\n",
            "563/563 [==============================] - 1s 2ms/step - loss: 0.3765 - accuracy: 0.8231\n",
            "Epoch 99/100\n",
            "563/563 [==============================] - 1s 2ms/step - loss: 0.3771 - accuracy: 0.8283\n",
            "Epoch 100/100\n",
            "563/563 [==============================] - 1s 2ms/step - loss: 0.3749 - accuracy: 0.8252\n"
          ]
        },
        {
          "output_type": "execute_result",
          "data": {
            "text/plain": [
              "<keras.callbacks.History at 0x7f95f2c187d0>"
            ]
          },
          "metadata": {},
          "execution_count": 80
        }
      ]
    },
    {
      "cell_type": "code",
      "source": [
        "y_pred_bal=model3.predict(x_test_bal)\n",
        "y_pred_bal"
      ],
      "metadata": {
        "colab": {
          "base_uri": "https://localhost:8080/"
        },
        "id": "YGAs4dv8WS0t",
        "outputId": "8a8995d4-0015-421e-dab4-ca1beab8098d"
      },
      "execution_count": 81,
      "outputs": [
        {
          "output_type": "execute_result",
          "data": {
            "text/plain": [
              "array([[4.82661843e-01],\n",
              "       [5.34572482e-01],\n",
              "       [1.54718757e-02],\n",
              "       [8.95361602e-02],\n",
              "       [2.76065171e-02],\n",
              "       [1.89726651e-02],\n",
              "       [6.52260184e-01],\n",
              "       [6.21660233e-01],\n",
              "       [2.19021440e-02],\n",
              "       [6.04803562e-01],\n",
              "       [3.77262503e-01],\n",
              "       [5.45854270e-02],\n",
              "       [4.51832026e-01],\n",
              "       [2.50886083e-02],\n",
              "       [1.46377683e-02],\n",
              "       [9.48861241e-01],\n",
              "       [3.95452976e-03],\n",
              "       [7.39475846e-01],\n",
              "       [5.69377542e-02],\n",
              "       [3.76008153e-01],\n",
              "       [4.07717615e-01],\n",
              "       [5.65228224e-01],\n",
              "       [1.78204775e-02],\n",
              "       [3.13117474e-01],\n",
              "       [4.64944869e-01],\n",
              "       [4.83357459e-01],\n",
              "       [9.99110937e-03],\n",
              "       [1.29383266e-01],\n",
              "       [6.86568677e-01],\n",
              "       [6.97925985e-02],\n",
              "       [8.07358742e-01],\n",
              "       [4.52809453e-01],\n",
              "       [8.53001118e-01],\n",
              "       [5.33016443e-01],\n",
              "       [3.88863683e-03],\n",
              "       [2.09778100e-01],\n",
              "       [6.15147531e-01],\n",
              "       [4.44671184e-01],\n",
              "       [2.75603712e-01],\n",
              "       [4.61088359e-01],\n",
              "       [5.33507764e-02],\n",
              "       [3.54293227e-01],\n",
              "       [7.69948781e-01],\n",
              "       [4.39107537e-01],\n",
              "       [1.58505529e-01],\n",
              "       [1.73869729e-03],\n",
              "       [1.94449008e-01],\n",
              "       [9.08016086e-01],\n",
              "       [6.27725959e-01],\n",
              "       [4.39768106e-01],\n",
              "       [2.86939859e-01],\n",
              "       [6.99079037e-03],\n",
              "       [6.94060206e-01],\n",
              "       [3.07002604e-01],\n",
              "       [3.04674804e-02],\n",
              "       [8.98187637e-01],\n",
              "       [6.97314143e-02],\n",
              "       [5.38924396e-01],\n",
              "       [5.19071281e-01],\n",
              "       [2.00500309e-01],\n",
              "       [9.04724002e-03],\n",
              "       [6.26632810e-01],\n",
              "       [3.77390087e-02],\n",
              "       [3.38444114e-03],\n",
              "       [5.02104044e-01],\n",
              "       [6.45874441e-01],\n",
              "       [9.85996366e-01],\n",
              "       [8.56766224e-01],\n",
              "       [4.04793292e-01],\n",
              "       [3.86250317e-02],\n",
              "       [4.75198656e-01],\n",
              "       [7.67064869e-01],\n",
              "       [3.45452964e-01],\n",
              "       [3.35909456e-01],\n",
              "       [6.72591686e-01],\n",
              "       [1.12337530e-01],\n",
              "       [4.26723361e-02],\n",
              "       [1.82755649e-01],\n",
              "       [9.19892192e-02],\n",
              "       [1.43925607e-01],\n",
              "       [8.57381225e-01],\n",
              "       [5.17281651e-01],\n",
              "       [7.58323789e-01],\n",
              "       [8.57614040e-01],\n",
              "       [7.77598739e-01],\n",
              "       [2.76768506e-02],\n",
              "       [6.18781209e-01],\n",
              "       [4.18320298e-03],\n",
              "       [6.28304958e-01],\n",
              "       [7.88656950e-01],\n",
              "       [7.08337307e-01],\n",
              "       [5.05551875e-01],\n",
              "       [7.12735057e-02],\n",
              "       [6.74967825e-01],\n",
              "       [3.52208990e-05],\n",
              "       [6.00603104e-01],\n",
              "       [1.97093517e-01],\n",
              "       [1.07437789e-01],\n",
              "       [3.34587246e-01],\n",
              "       [4.52645510e-01],\n",
              "       [2.03393579e-01],\n",
              "       [4.03885841e-01],\n",
              "       [8.87191355e-01],\n",
              "       [8.74384344e-02],\n",
              "       [2.08626449e-01],\n",
              "       [5.90399206e-01],\n",
              "       [2.91811645e-01],\n",
              "       [1.67927116e-01],\n",
              "       [3.48312169e-01],\n",
              "       [3.83626699e-01],\n",
              "       [2.99446881e-02],\n",
              "       [6.00180984e-01],\n",
              "       [2.65130430e-01],\n",
              "       [6.62856340e-01],\n",
              "       [5.00037253e-01],\n",
              "       [2.93783247e-02],\n",
              "       [4.70491230e-01],\n",
              "       [1.72972381e-01],\n",
              "       [1.84631258e-01],\n",
              "       [5.57326496e-01],\n",
              "       [3.36338550e-01],\n",
              "       [3.54230404e-04],\n",
              "       [7.23440588e-01],\n",
              "       [1.38629973e-02],\n",
              "       [4.74664599e-01],\n",
              "       [9.34337080e-02],\n",
              "       [1.53305054e-01],\n",
              "       [5.01832843e-01],\n",
              "       [2.49368221e-01],\n",
              "       [6.22458935e-01],\n",
              "       [4.62163210e-01],\n",
              "       [7.59426177e-01],\n",
              "       [5.01495242e-01],\n",
              "       [5.69327712e-01],\n",
              "       [7.31805682e-01],\n",
              "       [2.35863447e-01],\n",
              "       [5.60514808e-01],\n",
              "       [1.61255002e-02],\n",
              "       [4.12270546e-01],\n",
              "       [4.85103756e-01],\n",
              "       [7.00379312e-01],\n",
              "       [3.09517562e-01],\n",
              "       [5.42124808e-01],\n",
              "       [2.70309687e-01],\n",
              "       [6.25114560e-01],\n",
              "       [4.51689899e-01],\n",
              "       [7.56278992e-01],\n",
              "       [4.59347963e-02],\n",
              "       [4.30934757e-01],\n",
              "       [1.82735920e-02],\n",
              "       [4.82813209e-01],\n",
              "       [6.51760340e-01],\n",
              "       [5.51626384e-02],\n",
              "       [4.59200323e-01],\n",
              "       [5.89340389e-01],\n",
              "       [5.21814942e-01],\n",
              "       [1.06064588e-01],\n",
              "       [3.72791469e-01],\n",
              "       [2.34346598e-01],\n",
              "       [5.64634681e-01],\n",
              "       [5.20269871e-01],\n",
              "       [1.74087226e-01],\n",
              "       [1.58894151e-01],\n",
              "       [2.38086432e-01],\n",
              "       [7.47462034e-01],\n",
              "       [2.33574599e-01],\n",
              "       [6.68946147e-01],\n",
              "       [1.55138165e-01],\n",
              "       [7.40212500e-02],\n",
              "       [4.18820292e-01],\n",
              "       [2.75934160e-01],\n",
              "       [2.29104906e-01],\n",
              "       [3.73356998e-01],\n",
              "       [1.82189763e-01],\n",
              "       [3.34245920e-01],\n",
              "       [5.82574129e-01],\n",
              "       [6.73906803e-02],\n",
              "       [5.16697407e-01],\n",
              "       [4.88256812e-02],\n",
              "       [6.59306943e-01],\n",
              "       [5.53189576e-01],\n",
              "       [2.16552019e-02],\n",
              "       [3.34000289e-02],\n",
              "       [1.84042305e-01],\n",
              "       [1.59192979e-02],\n",
              "       [2.47099727e-01],\n",
              "       [5.32629967e-01],\n",
              "       [6.83685005e-01],\n",
              "       [1.63087845e-01],\n",
              "       [4.77681667e-01],\n",
              "       [3.10603678e-01],\n",
              "       [7.07698047e-01],\n",
              "       [3.30579877e-02],\n",
              "       [3.54737043e-02],\n",
              "       [1.33552819e-01],\n",
              "       [3.40705931e-01],\n",
              "       [4.93551791e-02],\n",
              "       [1.35528117e-01],\n",
              "       [3.19115281e-01],\n",
              "       [7.39912331e-01],\n",
              "       [6.71359181e-01],\n",
              "       [9.09613729e-01],\n",
              "       [2.00911164e-02],\n",
              "       [4.92639840e-02],\n",
              "       [4.14304256e-01],\n",
              "       [7.08882391e-01],\n",
              "       [7.05928504e-02],\n",
              "       [4.85032797e-03],\n",
              "       [7.78772593e-01],\n",
              "       [7.18726754e-01],\n",
              "       [3.14093649e-01],\n",
              "       [2.23111808e-02],\n",
              "       [5.97703993e-01],\n",
              "       [2.27117836e-02],\n",
              "       [8.39435458e-02],\n",
              "       [7.18336582e-01],\n",
              "       [3.48670781e-02],\n",
              "       [7.13278055e-01],\n",
              "       [6.27161443e-01],\n",
              "       [1.21581554e-02],\n",
              "       [6.07534349e-01],\n",
              "       [6.04490936e-01],\n",
              "       [1.49118006e-02],\n",
              "       [4.13110733e-01],\n",
              "       [7.38792837e-01],\n",
              "       [5.13716280e-01],\n",
              "       [1.40852273e-01],\n",
              "       [1.77974492e-01],\n",
              "       [8.19754004e-02],\n",
              "       [9.23409820e-01],\n",
              "       [1.31186038e-01],\n",
              "       [8.50808918e-02],\n",
              "       [2.44227350e-02],\n",
              "       [7.68866837e-01],\n",
              "       [3.29502046e-01],\n",
              "       [2.62571633e-01],\n",
              "       [2.53617704e-01],\n",
              "       [6.05879903e-01],\n",
              "       [2.57251441e-01],\n",
              "       [2.63839960e-02],\n",
              "       [5.48882306e-01],\n",
              "       [1.83628350e-01],\n",
              "       [5.52603722e-01],\n",
              "       [1.20257467e-01],\n",
              "       [3.03542048e-01],\n",
              "       [3.42055082e-01],\n",
              "       [5.36547601e-01],\n",
              "       [9.12130058e-01],\n",
              "       [2.76800990e-01],\n",
              "       [3.67230386e-01],\n",
              "       [2.88574368e-01],\n",
              "       [1.07252896e-02],\n",
              "       [8.19337606e-01],\n",
              "       [6.74518943e-03],\n",
              "       [1.10448182e-01],\n",
              "       [4.39563394e-03],\n",
              "       [7.77333975e-04],\n",
              "       [1.31475896e-01],\n",
              "       [5.87817132e-02],\n",
              "       [1.52134985e-01],\n",
              "       [4.88645077e-01],\n",
              "       [8.60856414e-01],\n",
              "       [3.48872960e-01],\n",
              "       [6.35354877e-01],\n",
              "       [4.85371083e-01],\n",
              "       [6.18745804e-01],\n",
              "       [6.49315298e-01],\n",
              "       [4.09039497e-01],\n",
              "       [6.95362091e-01],\n",
              "       [7.96190977e-01],\n",
              "       [7.00451612e-01],\n",
              "       [3.49096239e-01],\n",
              "       [3.24258208e-02],\n",
              "       [5.63518763e-01],\n",
              "       [7.07153618e-01],\n",
              "       [7.29045331e-01],\n",
              "       [9.17455554e-03],\n",
              "       [7.71203578e-01],\n",
              "       [5.41137755e-02],\n",
              "       [1.93084776e-02],\n",
              "       [1.62691772e-02],\n",
              "       [1.73343420e-01],\n",
              "       [3.39913547e-01],\n",
              "       [1.77449495e-01],\n",
              "       [6.55071735e-01],\n",
              "       [3.70010734e-03],\n",
              "       [6.66151643e-01],\n",
              "       [5.51627636e-01],\n",
              "       [9.58284616e-01],\n",
              "       [8.05561543e-02],\n",
              "       [1.27663016e-02],\n",
              "       [6.19292676e-01],\n",
              "       [3.60339880e-02],\n",
              "       [7.67024040e-01],\n",
              "       [4.36119080e-01],\n",
              "       [8.17546248e-03],\n",
              "       [5.27274728e-01],\n",
              "       [3.48335564e-01],\n",
              "       [3.52379024e-01],\n",
              "       [1.36926472e-02],\n",
              "       [8.01024139e-02],\n",
              "       [3.99410725e-04],\n",
              "       [2.84827262e-01],\n",
              "       [7.00394809e-01],\n",
              "       [4.03431654e-02],\n",
              "       [3.96100640e-01],\n",
              "       [6.05136156e-03],\n",
              "       [2.73332059e-01],\n",
              "       [3.24449837e-02],\n",
              "       [3.17770183e-01],\n",
              "       [1.55196786e-02],\n",
              "       [9.16053176e-01],\n",
              "       [3.74059856e-01],\n",
              "       [2.07426846e-02],\n",
              "       [6.29773378e-01],\n",
              "       [4.41626519e-01],\n",
              "       [7.16270685e-01],\n",
              "       [3.68920863e-02],\n",
              "       [2.77488798e-01],\n",
              "       [2.74707675e-02],\n",
              "       [5.21025181e-01],\n",
              "       [6.78320587e-01],\n",
              "       [6.51778281e-01],\n",
              "       [4.17547822e-02],\n",
              "       [2.32556075e-01],\n",
              "       [1.18222175e-04],\n",
              "       [8.89832497e-01],\n",
              "       [9.93757248e-02],\n",
              "       [1.39365792e-02],\n",
              "       [2.49325871e-01],\n",
              "       [1.14208996e-01],\n",
              "       [6.99955821e-01],\n",
              "       [4.67187583e-01],\n",
              "       [1.14414573e-01],\n",
              "       [5.65049946e-01],\n",
              "       [3.42052937e-01],\n",
              "       [3.34359705e-01],\n",
              "       [1.07606202e-01],\n",
              "       [6.63150132e-01],\n",
              "       [3.48592460e-01],\n",
              "       [6.75880015e-01],\n",
              "       [6.41133308e-01],\n",
              "       [6.31923378e-02],\n",
              "       [1.65234774e-01],\n",
              "       [3.41977060e-01],\n",
              "       [7.66136289e-01],\n",
              "       [4.57725227e-01],\n",
              "       [2.65872180e-02],\n",
              "       [6.59576118e-01],\n",
              "       [4.60666418e-03],\n",
              "       [2.98021376e-01],\n",
              "       [8.73368084e-02],\n",
              "       [6.91565335e-01],\n",
              "       [1.10550642e-01],\n",
              "       [5.05491138e-01],\n",
              "       [3.28676075e-01],\n",
              "       [2.24771247e-05],\n",
              "       [2.87890434e-04],\n",
              "       [2.11521298e-01],\n",
              "       [2.65910506e-01],\n",
              "       [2.23518729e-01],\n",
              "       [7.35908270e-01],\n",
              "       [1.92811310e-01],\n",
              "       [6.62584901e-02],\n",
              "       [1.04373455e-01],\n",
              "       [3.03780675e-01],\n",
              "       [9.18599367e-01],\n",
              "       [7.30423808e-01],\n",
              "       [2.88197666e-01],\n",
              "       [3.77968311e-01],\n",
              "       [7.47758508e-01],\n",
              "       [2.41726786e-01],\n",
              "       [3.13328952e-01],\n",
              "       [3.48536402e-01],\n",
              "       [5.80895007e-01],\n",
              "       [6.40994012e-02],\n",
              "       [1.76349282e-02],\n",
              "       [3.35947692e-01],\n",
              "       [6.60265028e-01],\n",
              "       [2.63598859e-02],\n",
              "       [2.17729509e-02],\n",
              "       [7.01855421e-02],\n",
              "       [3.98619801e-01],\n",
              "       [2.14541033e-05],\n",
              "       [3.00710201e-01],\n",
              "       [7.22103119e-01],\n",
              "       [2.17952698e-01],\n",
              "       [5.97748041e-01],\n",
              "       [7.79899955e-03],\n",
              "       [2.08637178e-01],\n",
              "       [5.10549247e-02],\n",
              "       [5.88312924e-01],\n",
              "       [6.12935126e-01],\n",
              "       [6.39541388e-01],\n",
              "       [1.24287575e-01],\n",
              "       [7.06080854e-01],\n",
              "       [4.24619794e-01],\n",
              "       [2.30371058e-02],\n",
              "       [8.77953589e-01],\n",
              "       [2.26464659e-01],\n",
              "       [7.41712809e-01],\n",
              "       [1.17956370e-01],\n",
              "       [8.55698049e-01],\n",
              "       [1.10355318e-02],\n",
              "       [7.31083214e-01],\n",
              "       [2.08162993e-01],\n",
              "       [1.50494099e-01],\n",
              "       [5.93071759e-01],\n",
              "       [4.05834913e-01],\n",
              "       [5.35734415e-01],\n",
              "       [8.04847121e-01],\n",
              "       [5.53241193e-01],\n",
              "       [2.12598979e-01],\n",
              "       [2.18728155e-01],\n",
              "       [4.88394767e-01],\n",
              "       [3.47534209e-01],\n",
              "       [3.13637614e-01],\n",
              "       [8.53673220e-02],\n",
              "       [2.47350037e-02],\n",
              "       [9.50643420e-02],\n",
              "       [5.24285674e-01],\n",
              "       [6.26686931e-01],\n",
              "       [4.65452671e-03],\n",
              "       [3.43035966e-01],\n",
              "       [7.91443944e-01],\n",
              "       [7.00751424e-01],\n",
              "       [6.01413846e-03],\n",
              "       [1.06294900e-01],\n",
              "       [7.32489049e-01],\n",
              "       [7.52619147e-01],\n",
              "       [1.64395571e-03],\n",
              "       [6.37876987e-03],\n",
              "       [1.01066083e-01],\n",
              "       [7.62190342e-01],\n",
              "       [3.43297422e-01],\n",
              "       [7.31669605e-01],\n",
              "       [8.12165141e-02],\n",
              "       [5.82360685e-01],\n",
              "       [4.05423880e-01],\n",
              "       [1.71169579e-01],\n",
              "       [1.71671927e-01],\n",
              "       [8.66304219e-01],\n",
              "       [8.50645483e-01],\n",
              "       [2.00255960e-01],\n",
              "       [1.12981468e-01],\n",
              "       [6.72702253e-01],\n",
              "       [5.87373674e-01],\n",
              "       [3.03422749e-01],\n",
              "       [6.03786111e-01],\n",
              "       [4.91947234e-01],\n",
              "       [8.87744188e-01],\n",
              "       [6.90487623e-02],\n",
              "       [2.96611995e-01],\n",
              "       [2.42855936e-01],\n",
              "       [6.19802952e-01],\n",
              "       [3.91372919e-01],\n",
              "       [4.46673095e-01],\n",
              "       [9.86817002e-01],\n",
              "       [6.81287050e-01],\n",
              "       [8.08587313e-01],\n",
              "       [1.84307396e-02],\n",
              "       [3.04497242e-01],\n",
              "       [6.38119578e-02],\n",
              "       [6.79874420e-01],\n",
              "       [4.21816617e-01],\n",
              "       [1.57056749e-02],\n",
              "       [6.63377881e-01],\n",
              "       [7.94366419e-01],\n",
              "       [5.44905663e-03],\n",
              "       [6.66123092e-01],\n",
              "       [3.85762870e-01],\n",
              "       [1.98246807e-01],\n",
              "       [9.12576795e-01],\n",
              "       [2.38557160e-02],\n",
              "       [6.62532926e-01],\n",
              "       [7.38361955e-01],\n",
              "       [1.23554468e-02],\n",
              "       [3.41863096e-01],\n",
              "       [5.57503879e-01],\n",
              "       [5.89592457e-01],\n",
              "       [8.33006144e-01],\n",
              "       [8.78803968e-01],\n",
              "       [3.18670273e-03],\n",
              "       [3.75968218e-03],\n",
              "       [7.78738379e-01],\n",
              "       [4.81821597e-02],\n",
              "       [7.00876832e-01],\n",
              "       [2.50821531e-01],\n",
              "       [4.27840650e-02],\n",
              "       [7.34860301e-01],\n",
              "       [5.59180617e-01],\n",
              "       [3.42679888e-01],\n",
              "       [2.64946640e-01],\n",
              "       [6.98056281e-01],\n",
              "       [9.83824730e-02],\n",
              "       [6.16020143e-01],\n",
              "       [5.28666019e-01],\n",
              "       [3.26495767e-01],\n",
              "       [6.67679906e-01],\n",
              "       [3.72989118e-01],\n",
              "       [7.11172044e-01],\n",
              "       [6.99815452e-01],\n",
              "       [7.15304911e-01],\n",
              "       [4.95663404e-01],\n",
              "       [8.27968717e-01],\n",
              "       [7.52350688e-03],\n",
              "       [5.98495007e-01],\n",
              "       [7.66051710e-02],\n",
              "       [1.07031733e-01],\n",
              "       [6.70998514e-01],\n",
              "       [5.41533053e-01],\n",
              "       [8.39138925e-02],\n",
              "       [2.66298175e-01],\n",
              "       [1.18960470e-01],\n",
              "       [5.86963415e-01],\n",
              "       [3.25253755e-01],\n",
              "       [7.51711369e-01],\n",
              "       [4.76426274e-01],\n",
              "       [4.94462550e-02],\n",
              "       [7.29393065e-01],\n",
              "       [9.87365842e-03],\n",
              "       [1.74026221e-01],\n",
              "       [1.26731992e-02],\n",
              "       [6.28924966e-01],\n",
              "       [4.58644688e-01],\n",
              "       [2.58759260e-02],\n",
              "       [6.10347688e-01],\n",
              "       [1.80173248e-01],\n",
              "       [6.54328227e-01],\n",
              "       [3.29467773e-01],\n",
              "       [6.38588428e-01],\n",
              "       [1.35336488e-01],\n",
              "       [2.92167068e-03],\n",
              "       [5.33036649e-01],\n",
              "       [2.51780242e-01],\n",
              "       [3.27312350e-01],\n",
              "       [5.64381421e-01],\n",
              "       [2.24107742e-01],\n",
              "       [3.34125519e-01],\n",
              "       [6.12724006e-01],\n",
              "       [7.84251213e-01],\n",
              "       [4.23186332e-01],\n",
              "       [7.08413720e-01],\n",
              "       [9.20655668e-01],\n",
              "       [7.78742611e-01],\n",
              "       [2.24292994e-01],\n",
              "       [5.01645863e-01],\n",
              "       [5.40562630e-01],\n",
              "       [6.60089076e-01],\n",
              "       [4.81343269e-03],\n",
              "       [4.88485366e-01],\n",
              "       [2.50732124e-01],\n",
              "       [3.04796100e-01],\n",
              "       [9.19499934e-01],\n",
              "       [6.99951053e-01],\n",
              "       [1.40498877e-02],\n",
              "       [4.49895859e-04],\n",
              "       [1.61526501e-02],\n",
              "       [6.78313434e-01],\n",
              "       [5.32080531e-01],\n",
              "       [2.86368519e-01],\n",
              "       [2.09082216e-01],\n",
              "       [5.94257951e-01],\n",
              "       [1.53772295e-01],\n",
              "       [4.34220016e-01],\n",
              "       [2.46761560e-01],\n",
              "       [8.89873624e-01],\n",
              "       [7.37824738e-01],\n",
              "       [1.64556444e-01],\n",
              "       [8.32609653e-01],\n",
              "       [6.42053246e-01],\n",
              "       [7.98440516e-01],\n",
              "       [7.66513467e-01],\n",
              "       [7.83083916e-01],\n",
              "       [8.35819721e-01],\n",
              "       [6.56032145e-01],\n",
              "       [1.44775599e-01],\n",
              "       [1.15486979e-03],\n",
              "       [7.25716949e-02],\n",
              "       [2.00225800e-01],\n",
              "       [9.18620527e-01],\n",
              "       [5.40746629e-01],\n",
              "       [6.75312161e-01],\n",
              "       [2.99175441e-01],\n",
              "       [2.44408846e-03],\n",
              "       [7.00353503e-01],\n",
              "       [7.27467477e-01],\n",
              "       [8.62264276e-01],\n",
              "       [6.47629499e-02],\n",
              "       [4.50325012e-02],\n",
              "       [3.57779026e-01],\n",
              "       [4.72071767e-02],\n",
              "       [2.10627615e-02],\n",
              "       [3.38647664e-02],\n",
              "       [7.78691232e-01],\n",
              "       [3.11937988e-01],\n",
              "       [1.38228893e-01],\n",
              "       [2.33406782e-01],\n",
              "       [4.70525324e-02],\n",
              "       [1.52231991e-01],\n",
              "       [4.13745612e-01],\n",
              "       [2.66799331e-02],\n",
              "       [6.70282841e-01],\n",
              "       [2.21047074e-01],\n",
              "       [2.63266921e-01],\n",
              "       [5.35059631e-01],\n",
              "       [3.79433125e-01],\n",
              "       [8.49072218e-01],\n",
              "       [2.42053688e-01],\n",
              "       [5.66543281e-01],\n",
              "       [3.07851434e-02],\n",
              "       [5.76535225e-01],\n",
              "       [1.32270455e-02],\n",
              "       [1.80216730e-02],\n",
              "       [2.79471278e-03],\n",
              "       [6.44273281e-01],\n",
              "       [9.17839050e-01],\n",
              "       [2.34951764e-01],\n",
              "       [3.81377161e-01],\n",
              "       [3.75533968e-01],\n",
              "       [1.05771989e-01],\n",
              "       [1.67518854e-01],\n",
              "       [4.57335711e-02],\n",
              "       [7.61554837e-02],\n",
              "       [9.51263309e-03],\n",
              "       [7.71052420e-01],\n",
              "       [5.70305228e-01],\n",
              "       [9.15735662e-02],\n",
              "       [2.30678022e-02],\n",
              "       [1.85347140e-01],\n",
              "       [1.69248819e-01],\n",
              "       [1.00195676e-01],\n",
              "       [6.71693444e-01],\n",
              "       [7.00425863e-01],\n",
              "       [9.44277406e-01],\n",
              "       [7.09305406e-02],\n",
              "       [3.68858337e-01],\n",
              "       [2.45226979e-01],\n",
              "       [1.74649596e-01],\n",
              "       [3.71835232e-02],\n",
              "       [1.19238049e-01],\n",
              "       [5.87460697e-01],\n",
              "       [6.94199204e-01],\n",
              "       [1.36206150e-02],\n",
              "       [6.54941201e-02],\n",
              "       [7.00327694e-01],\n",
              "       [1.38610303e-02],\n",
              "       [2.17254937e-01],\n",
              "       [2.70399451e-03],\n",
              "       [7.31623173e-03],\n",
              "       [2.61070430e-01],\n",
              "       [3.56880575e-01],\n",
              "       [6.53500080e-01],\n",
              "       [4.06511813e-01],\n",
              "       [2.66568959e-02],\n",
              "       [5.11617720e-01],\n",
              "       [5.65135479e-01],\n",
              "       [4.68782008e-01],\n",
              "       [5.33923030e-01],\n",
              "       [8.93243313e-01],\n",
              "       [3.00872445e-01],\n",
              "       [8.46966624e-01],\n",
              "       [4.07093763e-03],\n",
              "       [1.27461076e-01],\n",
              "       [3.38222921e-01],\n",
              "       [4.33821380e-02],\n",
              "       [6.67217016e-01],\n",
              "       [6.04276061e-01],\n",
              "       [1.52736008e-02],\n",
              "       [2.59609878e-01],\n",
              "       [5.79589844e-01],\n",
              "       [7.41888642e-01],\n",
              "       [3.20847750e-01],\n",
              "       [8.24538529e-01],\n",
              "       [6.18381381e-01],\n",
              "       [6.98627710e-01],\n",
              "       [8.05477321e-01],\n",
              "       [6.10811114e-01],\n",
              "       [9.89116728e-02],\n",
              "       [1.98240429e-01],\n",
              "       [3.42049450e-01],\n",
              "       [5.15527427e-02],\n",
              "       [1.38276219e-02],\n",
              "       [2.60684013e-01],\n",
              "       [1.81254745e-03],\n",
              "       [8.31578732e-01],\n",
              "       [5.17931819e-01],\n",
              "       [3.56430113e-02],\n",
              "       [4.91976291e-01],\n",
              "       [2.71963120e-01],\n",
              "       [1.84696972e-01],\n",
              "       [4.94078994e-02],\n",
              "       [7.55654335e-01],\n",
              "       [1.34575367e-03],\n",
              "       [5.24839342e-01],\n",
              "       [6.75942719e-01],\n",
              "       [2.91282088e-01],\n",
              "       [2.61979133e-01],\n",
              "       [6.26152754e-03],\n",
              "       [1.83092356e-02],\n",
              "       [5.92195988e-03],\n",
              "       [7.60034442e-01],\n",
              "       [7.63499737e-01],\n",
              "       [7.04257488e-01],\n",
              "       [1.93840563e-02],\n",
              "       [5.82070649e-02],\n",
              "       [1.72408491e-01],\n",
              "       [3.11970294e-01],\n",
              "       [7.38540828e-01],\n",
              "       [4.44513649e-01],\n",
              "       [5.30043244e-02],\n",
              "       [1.69337094e-02],\n",
              "       [5.16993403e-01],\n",
              "       [5.14201403e-01],\n",
              "       [5.38979471e-01],\n",
              "       [2.40733057e-01],\n",
              "       [1.80372089e-01],\n",
              "       [2.94372886e-01],\n",
              "       [4.70812500e-01],\n",
              "       [7.78661251e-01],\n",
              "       [7.04812109e-01],\n",
              "       [1.67907536e-01],\n",
              "       [4.78892535e-01],\n",
              "       [4.80438679e-01],\n",
              "       [5.29046953e-01],\n",
              "       [1.34360790e-02],\n",
              "       [1.70802593e-01],\n",
              "       [1.78151727e-02],\n",
              "       [2.19470859e-02],\n",
              "       [4.73338217e-01],\n",
              "       [4.67912227e-01],\n",
              "       [2.19735324e-01],\n",
              "       [2.08607823e-01],\n",
              "       [4.40955162e-02],\n",
              "       [6.15436554e-01],\n",
              "       [1.64926946e-02],\n",
              "       [1.28643811e-02],\n",
              "       [2.95809787e-05],\n",
              "       [5.39445341e-01],\n",
              "       [4.26731706e-02],\n",
              "       [1.05757266e-01],\n",
              "       [4.06301618e-02],\n",
              "       [4.64293629e-01],\n",
              "       [2.54580081e-01],\n",
              "       [5.08604109e-01],\n",
              "       [1.31081939e-02],\n",
              "       [5.48064530e-01],\n",
              "       [6.39396250e-01]], dtype=float32)"
            ]
          },
          "metadata": {},
          "execution_count": 81
        }
      ]
    },
    {
      "cell_type": "code",
      "source": [
        "y_predict_bal=[]\n",
        "for i in y_pred_bal:\n",
        "  if i>0.5:\n",
        "    y_predict_bal.append(1)\n",
        "  else:\n",
        "    y_predict_bal.append(0)"
      ],
      "metadata": {
        "id": "v3eSwOwpWftE"
      },
      "execution_count": 82,
      "outputs": []
    },
    {
      "cell_type": "code",
      "source": [
        "from sklearn.metrics import accuracy_score,classification_report,confusion_matrix\n",
        "print(accuracy_score(y_test_bal,y_predict_bal))\n",
        "print(classification_report(y_test_bal,y_predict_bal))\n",
        "cm=confusion_matrix(y_test_bal,y_predict_bal)\n",
        "print(cm)    # we can see f1- score decreased so i would say dropout is not a very good approach in this . So i will not conclude this model."
      ],
      "metadata": {
        "colab": {
          "base_uri": "https://localhost:8080/"
        },
        "id": "WCHsp-q1Wfpj",
        "outputId": "7fb9f63e-2394-4531-a032-5b01514ad752"
      },
      "execution_count": 83,
      "outputs": [
        {
          "output_type": "stream",
          "name": "stdout",
          "text": [
            "0.7820855614973262\n",
            "              precision    recall  f1-score   support\n",
            "\n",
            "           0       0.75      0.89      0.81       395\n",
            "           1       0.84      0.67      0.74       353\n",
            "\n",
            "    accuracy                           0.78       748\n",
            "   macro avg       0.79      0.78      0.78       748\n",
            "weighted avg       0.79      0.78      0.78       748\n",
            "\n",
            "[[350  45]\n",
            " [118 235]]\n"
          ]
        }
      ]
    },
    {
      "cell_type": "code",
      "source": [
        "sns.heatmap(cm,annot=True,fmt='d')\n",
        "plt.xlabel('Predictd')\n",
        "plt.ylabel('True')"
      ],
      "metadata": {
        "colab": {
          "base_uri": "https://localhost:8080/",
          "height": 300
        },
        "id": "njpdvsJiWfnO",
        "outputId": "ec11ee67-f414-45c3-ee91-5010f5444ce5"
      },
      "execution_count": 84,
      "outputs": [
        {
          "output_type": "execute_result",
          "data": {
            "text/plain": [
              "Text(33.0, 0.5, 'True')"
            ]
          },
          "metadata": {},
          "execution_count": 84
        },
        {
          "output_type": "display_data",
          "data": {
            "image/png": "[encoded data removed]",
            "text/plain": [
              "<Figure size 432x288 with 2 Axes>"
            ]
          },
          "metadata": {
            "needs_background": "light"
          }
        }
      ]
    },
    {
      "cell_type": "markdown",
      "source": [
        "2- Oversmapling method----"
      ],
      "metadata": {
        "id": "rlBSHmrkXfVp"
      }
    },
    {
      "cell_type": "code",
      "source": [
        "unbal_0,unbal_1=y.value_counts()\n"
      ],
      "metadata": {
        "id": "Asgq8vevWfk8"
      },
      "execution_count": 85,
      "outputs": []
    },
    {
      "cell_type": "code",
      "source": [
        "churn_0=df2[df2['Churn']==0]\n",
        "churn_1=df2[df2['Churn']==1]"
      ],
      "metadata": {
        "id": "S1goHBHVWfim"
      },
      "execution_count": 86,
      "outputs": []
    },
    {
      "cell_type": "code",
      "source": [
        "churn_1=churn_1.sample(unbal_0,replace=True)\n",
        "churn_1.shape"
      ],
      "metadata": {
        "colab": {
          "base_uri": "https://localhost:8080/"
        },
        "id": "G2IWYjioWfgH",
        "outputId": "d9da05db-12eb-4c57-88f4-da80ce126e6e"
      },
      "execution_count": 87,
      "outputs": [
        {
          "output_type": "execute_result",
          "data": {
            "text/plain": [
              "(5163, 27)"
            ]
          },
          "metadata": {},
          "execution_count": 87
        }
      ]
    },
    {
      "cell_type": "code",
      "source": [
        "bal=pd.concat([churn_0,churn_1])\n",
        "bal.shape"
      ],
      "metadata": {
        "colab": {
          "base_uri": "https://localhost:8080/"
        },
        "id": "FsD3pCrJWfdn",
        "outputId": "ee27530a-fea6-40ae-a902-b2d1bf3c494e"
      },
      "execution_count": 88,
      "outputs": [
        {
          "output_type": "execute_result",
          "data": {
            "text/plain": [
              "(10326, 27)"
            ]
          },
          "metadata": {},
          "execution_count": 88
        }
      ]
    },
    {
      "cell_type": "code",
      "source": [
        "x_bal=bal.drop('Churn',axis=1)\n",
        "y_bal=bal['Churn']"
      ],
      "metadata": {
        "id": "KvVxqtSCdgwH"
      },
      "execution_count": 89,
      "outputs": []
    },
    {
      "cell_type": "code",
      "source": [
        "x_train_bal,x_test_bal,y_train_bal,y_test_bal=train_test_split(x_bal,y_bal,test_size=0.2,random_state=272)\n",
        "print(x_train_bal.shape)\n",
        "print(y_train_bal.shape)\n",
        "print(x_test_bal.shape)\n",
        "print(y_test_bal.shape)"
      ],
      "metadata": {
        "colab": {
          "base_uri": "https://localhost:8080/"
        },
        "id": "IMnK00UCcsDN",
        "outputId": "c7ddf19b-9753-4be8-9ce8-d643682451ce"
      },
      "execution_count": 90,
      "outputs": [
        {
          "output_type": "stream",
          "name": "stdout",
          "text": [
            "(8260, 26)\n",
            "(8260,)\n",
            "(2066, 26)\n",
            "(2066,)\n"
          ]
        }
      ]
    },
    {
      "cell_type": "code",
      "source": [
        "from sklearn.ensemble import RandomForestClassifier\n",
        "from sklearn.metrics import accuracy_score,classification_report,confusion_matrix\n",
        "accuracy=[]\n",
        "est=np.arange(100,1000,10)\n",
        "for i in est:\n",
        "  clf_rf = RandomForestClassifier(n_estimators=i ,random_state=1)      \n",
        "  clr_rf = clf_rf.fit(x_train_bal,y_train_bal)\n",
        "\n",
        "  ac = accuracy_score(y_test_bal,clf_rf.predict(x_test_bal))\n",
        "  accuracy.append(ac*100)\n",
        "print('Accuracy is: ',accuracy)         "
      ],
      "metadata": {
        "colab": {
          "base_uri": "https://localhost:8080/"
        },
        "id": "uiWZj4TQdr3E",
        "outputId": "4f32a4c8-aa58-428f-a453-abb4a6ceeff7"
      },
      "execution_count": 91,
      "outputs": [
        {
          "output_type": "stream",
          "name": "stdout",
          "text": [
            "Accuracy is:  [89.64181994191675, 89.59341723136495, 89.59341723136495, 89.54501452081317, 89.78702807357212, 89.83543078412391, 89.93223620522748, 89.83543078412391, 89.64181994191675, 89.69022265246855, 89.73862536302033, 89.69022265246855, 89.64181994191675, 89.69022265246855, 89.78702807357212, 89.78702807357212, 89.64181994191675, 89.64181994191675, 89.64181994191675, 89.64181994191675, 89.69022265246855, 89.64181994191675, 89.73862536302033, 89.73862536302033, 89.69022265246855, 89.64181994191675, 89.59341723136495, 89.64181994191675, 89.64181994191675, 89.64181994191675, 89.59341723136495, 89.59341723136495, 89.64181994191675, 89.64181994191675, 89.64181994191675, 89.69022265246855, 89.59341723136495, 89.64181994191675, 89.59341723136495, 89.54501452081317, 89.49661181026137, 89.49661181026137, 89.59341723136495, 89.59341723136495, 89.59341723136495, 89.59341723136495, 89.59341723136495, 89.59341723136495, 89.64181994191675, 89.69022265246855, 89.59341723136495, 89.54501452081317, 89.54501452081317, 89.54501452081317, 89.54501452081317, 89.54501452081317, 89.54501452081317, 89.59341723136495, 89.59341723136495, 89.54501452081317, 89.59341723136495, 89.54501452081317, 89.54501452081317, 89.49661181026137, 89.59341723136495, 89.59341723136495, 89.64181994191675, 89.64181994191675, 89.49661181026137, 89.54501452081317, 89.69022265246855, 89.69022265246855, 89.64181994191675, 89.59341723136495, 89.54501452081317, 89.49661181026137, 89.49661181026137, 89.59341723136495, 89.54501452081317, 89.49661181026137, 89.54501452081317, 89.49661181026137, 89.54501452081317, 89.54501452081317, 89.54501452081317, 89.44820909970959, 89.54501452081317, 89.49661181026137, 89.54501452081317, 89.49661181026137]\n"
          ]
        }
      ]
    },
    {
      "cell_type": "code",
      "source": [
        "from  sklearn.model_selection import RandomizedSearchCV\n",
        "rf_c=RandomForestClassifier()\n",
        "param_grid={'n_estimators':[int(x) for x in np.linspace(start=200,stop=1200,num=11)],\n",
        "            'max_features':['auto','sqrt'],\n",
        "            'max_depth':[int(x) for x in np.linspace(start=10,stop=100,num=11)],\n",
        "            'min_samples_leaf':[1,2,3,5],\n",
        "            'min_samples_split':[2,5,10,15]}\n",
        "random_cv=RandomizedSearchCV(rf_c,param_grid,cv=3,verbose=2,random_state=42)\n",
        "random_cv.fit(x_train,y_train)\n",
        "best_random=random_cv.best_estimator_\n",
        "prediction_cv=best_random.predict(x_test)\n",
        "print('best estimators are : ',best_random)\n",
        "print(accuracy_score(y_test,prediction_cv))"
      ],
      "metadata": {
        "colab": {
          "base_uri": "https://localhost:8080/"
        },
        "id": "Tg-fcScAd6P2",
        "outputId": "644119e5-01af-47d0-e13a-e513715b26f0"
      },
      "execution_count": 92,
      "outputs": [
        {
          "output_type": "stream",
          "name": "stdout",
          "text": [
            "Fitting 3 folds for each of 10 candidates, totalling 30 fits\n",
            "[CV] END max_depth=91, max_features=auto, min_samples_leaf=1, min_samples_split=2, n_estimators=800; total time=   4.2s\n",
            "[CV] END max_depth=91, max_features=auto, min_samples_leaf=1, min_samples_split=2, n_estimators=800; total time=   4.1s\n",
            "[CV] END max_depth=91, max_features=auto, min_samples_leaf=1, min_samples_split=2, n_estimators=800; total time=   4.3s\n",
            "[CV] END max_depth=91, max_features=sqrt, min_samples_leaf=5, min_samples_split=10, n_estimators=1100; total time=   4.8s\n",
            "[CV] END max_depth=91, max_features=sqrt, min_samples_leaf=5, min_samples_split=10, n_estimators=1100; total time=   4.7s\n",
            "[CV] END max_depth=91, max_features=sqrt, min_samples_leaf=5, min_samples_split=10, n_estimators=1100; total time=   5.1s\n",
            "[CV] END max_depth=28, max_features=auto, min_samples_leaf=5, min_samples_split=10, n_estimators=400; total time=   3.4s\n",
            "[CV] END max_depth=28, max_features=auto, min_samples_leaf=5, min_samples_split=10, n_estimators=400; total time=   1.7s\n",
            "[CV] END max_depth=28, max_features=auto, min_samples_leaf=5, min_samples_split=10, n_estimators=400; total time=   1.7s\n",
            "[CV] END max_depth=37, max_features=sqrt, min_samples_leaf=2, min_samples_split=5, n_estimators=900; total time=   4.3s\n",
            "[CV] END max_depth=37, max_features=sqrt, min_samples_leaf=2, min_samples_split=5, n_estimators=900; total time=   4.3s\n",
            "[CV] END max_depth=37, max_features=sqrt, min_samples_leaf=2, min_samples_split=5, n_estimators=900; total time=   4.2s\n",
            "[CV] END max_depth=37, max_features=auto, min_samples_leaf=2, min_samples_split=10, n_estimators=1000; total time=   4.5s\n",
            "[CV] END max_depth=37, max_features=auto, min_samples_leaf=2, min_samples_split=10, n_estimators=1000; total time=   4.5s\n",
            "[CV] END max_depth=37, max_features=auto, min_samples_leaf=2, min_samples_split=10, n_estimators=1000; total time=   4.4s\n",
            "[CV] END max_depth=37, max_features=auto, min_samples_leaf=1, min_samples_split=15, n_estimators=800; total time=   3.5s\n",
            "[CV] END max_depth=37, max_features=auto, min_samples_leaf=1, min_samples_split=15, n_estimators=800; total time=   3.5s\n",
            "[CV] END max_depth=37, max_features=auto, min_samples_leaf=1, min_samples_split=15, n_estimators=800; total time=   3.4s\n",
            "[CV] END max_depth=100, max_features=sqrt, min_samples_leaf=2, min_samples_split=10, n_estimators=1200; total time=   5.4s\n",
            "[CV] END max_depth=100, max_features=sqrt, min_samples_leaf=2, min_samples_split=10, n_estimators=1200; total time=   5.4s\n",
            "[CV] END max_depth=100, max_features=sqrt, min_samples_leaf=2, min_samples_split=10, n_estimators=1200; total time=   5.3s\n",
            "[CV] END max_depth=82, max_features=sqrt, min_samples_leaf=3, min_samples_split=5, n_estimators=300; total time=   1.4s\n",
            "[CV] END max_depth=82, max_features=sqrt, min_samples_leaf=3, min_samples_split=5, n_estimators=300; total time=   1.3s\n",
            "[CV] END max_depth=82, max_features=sqrt, min_samples_leaf=3, min_samples_split=5, n_estimators=300; total time=   1.3s\n",
            "[CV] END max_depth=46, max_features=sqrt, min_samples_leaf=2, min_samples_split=2, n_estimators=1200; total time=   5.7s\n",
            "[CV] END max_depth=46, max_features=sqrt, min_samples_leaf=2, min_samples_split=2, n_estimators=1200; total time=   5.7s\n",
            "[CV] END max_depth=46, max_features=sqrt, min_samples_leaf=2, min_samples_split=2, n_estimators=1200; total time=   5.8s\n",
            "[CV] END max_depth=64, max_features=auto, min_samples_leaf=2, min_samples_split=5, n_estimators=400; total time=   1.9s\n",
            "[CV] END max_depth=64, max_features=auto, min_samples_leaf=2, min_samples_split=5, n_estimators=400; total time=   1.9s\n",
            "[CV] END max_depth=64, max_features=auto, min_samples_leaf=2, min_samples_split=5, n_estimators=400; total time=   1.9s\n",
            "best estimators are :  RandomForestClassifier(max_depth=28, min_samples_leaf=5, min_samples_split=10,\n",
            "                       n_estimators=400)\n",
            "0.7924662402274343\n"
          ]
        }
      ]
    },
    {
      "cell_type": "code",
      "source": [
        ""
      ],
      "metadata": {
        "id": "_0gUU-x-uXRf"
      },
      "execution_count": 92,
      "outputs": []
    },
    {
      "cell_type": "code",
      "source": [
        "model2=keras.Sequential([\n",
        "                        keras.layers.Dense(20,input_shape=(26,),activation='relu'),\n",
        "                        keras.layers.Dense(10,activation='relu'),\n",
        "                        keras.layers.Dense(1,activation='sigmoid'),\n",
        "])\n",
        "\n",
        "model2.compile(optimizer='adam',\n",
        "              loss='binary_crossentropy',\n",
        "              metrics=['accuracy'])\n",
        "model2.fit(x_train_bal,y_train_bal,epochs=5,batch_size=8)        #overfitted model"
      ],
      "metadata": {
        "colab": {
          "base_uri": "https://localhost:8080/"
        },
        "id": "jIvoox-3g9Vv",
        "outputId": "5091e81c-802b-4f10-db69-c6d6060b657e"
      },
      "execution_count": 93,
      "outputs": [
        {
          "output_type": "stream",
          "name": "stdout",
          "text": [
            "Epoch 1/5\n",
            "1033/1033 [==============================] - 2s 2ms/step - loss: 0.5079 - accuracy: 0.7484\n",
            "Epoch 2/5\n",
            "1033/1033 [==============================] - 2s 2ms/step - loss: 0.4803 - accuracy: 0.7674\n",
            "Epoch 3/5\n",
            "1033/1033 [==============================] - 2s 2ms/step - loss: 0.4759 - accuracy: 0.7674\n",
            "Epoch 4/5\n",
            "1033/1033 [==============================] - 2s 2ms/step - loss: 0.4712 - accuracy: 0.7709\n",
            "Epoch 5/5\n",
            "1033/1033 [==============================] - 2s 2ms/step - loss: 0.4675 - accuracy: 0.7720\n"
          ]
        },
        {
          "output_type": "execute_result",
          "data": {
            "text/plain": [
              "<keras.callbacks.History at 0x7f95f2c23190>"
            ]
          },
          "metadata": {},
          "execution_count": 93
        }
      ]
    },
    {
      "cell_type": "code",
      "source": [
        "model3=tf.keras.Sequential([\n",
        "                            keras.layers.Dense(20,input_shape=(26,),activation='relu'),\n",
        "                            keras.layers.Dropout(0.2),\n",
        "                            keras.layers.Dense(100,activation='relu'),\n",
        "                            keras.layers.Dropout(0.3),\n",
        "                            keras.layers.Dense(1,activation='sigmoid')\n",
        "])\n",
        "model3.compile(optimizer='adam',loss='binary_crossentropy',metrics=['accuracy'])\n",
        "\n",
        "model3.fit(x_train,y_train,epochs=50,batch_size=10)"
      ],
      "metadata": {
        "colab": {
          "base_uri": "https://localhost:8080/"
        },
        "id": "nFQmU7XUhsTs",
        "outputId": "21bdc420-98e7-4cd9-fbf3-79ab743b7639"
      },
      "execution_count": 94,
      "outputs": [
        {
          "output_type": "stream",
          "name": "stdout",
          "text": [
            "Epoch 1/50\n",
            "563/563 [==============================] - 2s 2ms/step - loss: 0.4938 - accuracy: 0.7572\n",
            "Epoch 2/50\n",
            "563/563 [==============================] - 1s 2ms/step - loss: 0.4402 - accuracy: 0.7845\n",
            "Epoch 3/50\n",
            "563/563 [==============================] - 1s 2ms/step - loss: 0.4317 - accuracy: 0.7957\n",
            "Epoch 4/50\n",
            "563/563 [==============================] - 1s 2ms/step - loss: 0.4309 - accuracy: 0.7908\n",
            "Epoch 5/50\n",
            "563/563 [==============================] - 1s 2ms/step - loss: 0.4253 - accuracy: 0.8018\n",
            "Epoch 6/50\n",
            "563/563 [==============================] - 1s 2ms/step - loss: 0.4238 - accuracy: 0.7988\n",
            "Epoch 7/50\n",
            "563/563 [==============================] - 1s 2ms/step - loss: 0.4223 - accuracy: 0.8004\n",
            "Epoch 8/50\n",
            "563/563 [==============================] - 1s 2ms/step - loss: 0.4203 - accuracy: 0.8057\n",
            "Epoch 9/50\n",
            "563/563 [==============================] - 1s 2ms/step - loss: 0.4176 - accuracy: 0.8007\n",
            "Epoch 10/50\n",
            "563/563 [==============================] - 1s 2ms/step - loss: 0.4184 - accuracy: 0.8021\n",
            "Epoch 11/50\n",
            "563/563 [==============================] - 1s 2ms/step - loss: 0.4168 - accuracy: 0.8030\n",
            "Epoch 12/50\n",
            "563/563 [==============================] - 1s 2ms/step - loss: 0.4148 - accuracy: 0.8103\n",
            "Epoch 13/50\n",
            "563/563 [==============================] - 1s 2ms/step - loss: 0.4121 - accuracy: 0.8085\n",
            "Epoch 14/50\n",
            "563/563 [==============================] - 1s 2ms/step - loss: 0.4154 - accuracy: 0.8039\n",
            "Epoch 15/50\n",
            "563/563 [==============================] - 1s 2ms/step - loss: 0.4132 - accuracy: 0.8069\n",
            "Epoch 16/50\n",
            "563/563 [==============================] - 1s 2ms/step - loss: 0.4080 - accuracy: 0.8060\n",
            "Epoch 17/50\n",
            "563/563 [==============================] - 1s 2ms/step - loss: 0.4095 - accuracy: 0.8098\n",
            "Epoch 18/50\n",
            "563/563 [==============================] - 1s 2ms/step - loss: 0.4101 - accuracy: 0.8057\n",
            "Epoch 19/50\n",
            "563/563 [==============================] - 1s 2ms/step - loss: 0.4081 - accuracy: 0.8112\n",
            "Epoch 20/50\n",
            "563/563 [==============================] - 1s 3ms/step - loss: 0.4080 - accuracy: 0.8089\n",
            "Epoch 21/50\n",
            "563/563 [==============================] - 1s 2ms/step - loss: 0.4082 - accuracy: 0.8044\n",
            "Epoch 22/50\n",
            "563/563 [==============================] - 1s 2ms/step - loss: 0.4090 - accuracy: 0.8089\n",
            "Epoch 23/50\n",
            "563/563 [==============================] - 1s 2ms/step - loss: 0.4053 - accuracy: 0.8087\n",
            "Epoch 24/50\n",
            "563/563 [==============================] - 2s 3ms/step - loss: 0.4062 - accuracy: 0.8080\n",
            "Epoch 25/50\n",
            "563/563 [==============================] - 1s 2ms/step - loss: 0.4052 - accuracy: 0.8094\n",
            "Epoch 26/50\n",
            "563/563 [==============================] - 1s 2ms/step - loss: 0.4027 - accuracy: 0.8112\n",
            "Epoch 27/50\n",
            "563/563 [==============================] - 1s 2ms/step - loss: 0.4021 - accuracy: 0.8107\n",
            "Epoch 28/50\n",
            "563/563 [==============================] - 1s 2ms/step - loss: 0.4028 - accuracy: 0.8128\n",
            "Epoch 29/50\n",
            "563/563 [==============================] - 1s 2ms/step - loss: 0.3982 - accuracy: 0.8149\n",
            "Epoch 30/50\n",
            "563/563 [==============================] - 1s 2ms/step - loss: 0.4014 - accuracy: 0.8100\n",
            "Epoch 31/50\n",
            "563/563 [==============================] - 1s 2ms/step - loss: 0.4030 - accuracy: 0.8126\n",
            "Epoch 32/50\n",
            "563/563 [==============================] - 1s 2ms/step - loss: 0.4009 - accuracy: 0.8119\n",
            "Epoch 33/50\n",
            "563/563 [==============================] - 1s 2ms/step - loss: 0.4002 - accuracy: 0.8114\n",
            "Epoch 34/50\n",
            "563/563 [==============================] - 1s 2ms/step - loss: 0.3968 - accuracy: 0.8128\n",
            "Epoch 35/50\n",
            "563/563 [==============================] - 1s 2ms/step - loss: 0.4000 - accuracy: 0.8139\n",
            "Epoch 36/50\n",
            "563/563 [==============================] - 1s 2ms/step - loss: 0.3979 - accuracy: 0.8121\n",
            "Epoch 37/50\n",
            "563/563 [==============================] - 1s 2ms/step - loss: 0.3989 - accuracy: 0.8107\n",
            "Epoch 38/50\n",
            "563/563 [==============================] - 1s 2ms/step - loss: 0.3992 - accuracy: 0.8108\n",
            "Epoch 39/50\n",
            "563/563 [==============================] - 1s 2ms/step - loss: 0.3981 - accuracy: 0.8158\n",
            "Epoch 40/50\n",
            "563/563 [==============================] - 1s 2ms/step - loss: 0.3954 - accuracy: 0.8146\n",
            "Epoch 41/50\n",
            "563/563 [==============================] - 1s 2ms/step - loss: 0.3947 - accuracy: 0.8148\n",
            "Epoch 42/50\n",
            "563/563 [==============================] - 1s 2ms/step - loss: 0.3978 - accuracy: 0.8139\n",
            "Epoch 43/50\n",
            "563/563 [==============================] - 1s 2ms/step - loss: 0.3925 - accuracy: 0.8194\n",
            "Epoch 44/50\n",
            "563/563 [==============================] - 1s 2ms/step - loss: 0.3954 - accuracy: 0.8132\n",
            "Epoch 45/50\n",
            "563/563 [==============================] - 1s 2ms/step - loss: 0.3953 - accuracy: 0.8137\n",
            "Epoch 46/50\n",
            "563/563 [==============================] - 1s 2ms/step - loss: 0.3933 - accuracy: 0.8199\n",
            "Epoch 47/50\n",
            "563/563 [==============================] - 1s 2ms/step - loss: 0.3960 - accuracy: 0.8144\n",
            "Epoch 48/50\n",
            "563/563 [==============================] - 1s 2ms/step - loss: 0.3936 - accuracy: 0.8148\n",
            "Epoch 49/50\n",
            "563/563 [==============================] - 1s 2ms/step - loss: 0.3932 - accuracy: 0.8172\n",
            "Epoch 50/50\n",
            "563/563 [==============================] - 1s 2ms/step - loss: 0.3902 - accuracy: 0.8181\n"
          ]
        },
        {
          "output_type": "execute_result",
          "data": {
            "text/plain": [
              "<keras.callbacks.History at 0x7f95e29ea510>"
            ]
          },
          "metadata": {},
          "execution_count": 94
        }
      ]
    },
    {
      "cell_type": "code",
      "source": [
        "#evaluate the model\n",
        "model3.evaluate(x_test_bal,y_test_bal)"
      ],
      "metadata": {
        "colab": {
          "base_uri": "https://localhost:8080/"
        },
        "id": "Ks5tkBYykbiv",
        "outputId": "e1a31df3-3326-4c78-f98f-dd5101898b55"
      },
      "execution_count": 95,
      "outputs": [
        {
          "output_type": "stream",
          "name": "stdout",
          "text": [
            "65/65 [==============================] - 0s 1ms/step - loss: 0.5209 - accuracy: 0.7309\n"
          ]
        },
        {
          "output_type": "execute_result",
          "data": {
            "text/plain": [
              "[0.5208789706230164, 0.7308809161186218]"
            ]
          },
          "metadata": {},
          "execution_count": 95
        }
      ]
    },
    {
      "cell_type": "code",
      "source": [
        "y_pred_bal=model3.predict(x_test_bal)\n",
        "y_pred_bal"
      ],
      "metadata": {
        "colab": {
          "base_uri": "https://localhost:8080/"
        },
        "id": "LriygdpolhtN",
        "outputId": "b3e09840-9d20-4dbf-f288-31aa5cde2218"
      },
      "execution_count": 96,
      "outputs": [
        {
          "output_type": "execute_result",
          "data": {
            "text/plain": [
              "array([[0.00390646],\n",
              "       [0.44527462],\n",
              "       [0.01103863],\n",
              "       ...,\n",
              "       [0.18643332],\n",
              "       [0.25320756],\n",
              "       [0.6777404 ]], dtype=float32)"
            ]
          },
          "metadata": {},
          "execution_count": 96
        }
      ]
    },
    {
      "cell_type": "code",
      "source": [
        "y_predict_bal=[]\n",
        "for i in y_pred_bal:\n",
        "  if i>0.5:\n",
        "    y_predict_bal.append(1)\n",
        "  else:\n",
        "    y_predict_bal.append(0)"
      ],
      "metadata": {
        "id": "vKNW6COUlyM-"
      },
      "execution_count": 97,
      "outputs": []
    },
    {
      "cell_type": "code",
      "source": [
        "from sklearn.metrics import accuracy_score,classification_report,confusion_matrix\n",
        "print(accuracy_score(y_test_bal,y_predict_bal))\n",
        "print(classification_report(y_test_bal,y_predict_bal))\n",
        "cm=confusion_matrix(y_test_bal,y_predict_bal)\n",
        "print(cm)"
      ],
      "metadata": {
        "colab": {
          "base_uri": "https://localhost:8080/"
        },
        "id": "s-tkmjlSl2sq",
        "outputId": "37488e3c-4a07-427b-bb2d-cf6faac8de2e"
      },
      "execution_count": 98,
      "outputs": [
        {
          "output_type": "stream",
          "name": "stdout",
          "text": [
            "0.7308809293320426\n",
            "              precision    recall  f1-score   support\n",
            "\n",
            "           0       0.68      0.90      0.77      1051\n",
            "           1       0.84      0.56      0.67      1015\n",
            "\n",
            "    accuracy                           0.73      2066\n",
            "   macro avg       0.76      0.73      0.72      2066\n",
            "weighted avg       0.76      0.73      0.72      2066\n",
            "\n",
            "[[942 109]\n",
            " [447 568]]\n"
          ]
        }
      ]
    },
    {
      "cell_type": "code",
      "source": [
        "sns.heatmap(cm,annot=True,fmt='d')\n",
        "plt.xlabel('Predictd')\n",
        "plt.ylabel('True')"
      ],
      "metadata": {
        "colab": {
          "base_uri": "https://localhost:8080/",
          "height": 296
        },
        "id": "_Eh1qPw_l6hk",
        "outputId": "e3d10814-9f44-410c-db7c-df30f97f65b3"
      },
      "execution_count": 99,
      "outputs": [
        {
          "output_type": "execute_result",
          "data": {
            "text/plain": [
              "Text(33.0, 0.5, 'True')"
            ]
          },
          "metadata": {},
          "execution_count": 99
        },
        {
          "output_type": "display_data",
          "data": {
            "image/png": "[encoded data removed]",
            "text/plain": [
              "<Figure size 432x288 with 2 Axes>"
            ]
          },
          "metadata": {
            "needs_background": "light"
          }
        }
      ]
    },
    {
      "cell_type": "markdown",
      "source": [
        "AS I have done all the algorithms using ml approach as well as deep learing approach. So I have done it in two parts first without deal with unbalanced data set problem and in second part to deal with balanced data set .\n",
        "So first we got the f1- score initialy without doing balancing the classes was 54 % f1-score approx but after doing balancing of classes we got 78 % approx f1-score (undersampling method) and got 68% f1- score in oversampling method.\n",
        "\n",
        "So by dealing with unbalancing the perfect model is ANN with single hidden layer with undersampling method."
      ],
      "metadata": {
        "id": "ZU2Gxg2QrP1T"
      }
    },
    {
      "cell_type": "code",
      "source": [
        ""
      ],
      "metadata": {
        "id": "DdM0GD7BwBdr"
      },
      "execution_count": 99,
      "outputs": []
    }
  ]
}